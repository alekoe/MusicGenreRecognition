{
 "cells": [
  {
   "cell_type": "markdown",
   "metadata": {
    "collapsed": true,
    "scrolled": true
   },
   "source": [
    "# End to end CNN for GTzan music classification EnvCNN\n",
    "\n",
    "\n",
    "WINDOWED Version\n",
    "\n",
    "Adapted by AL Koerich\n",
    "\n",
    "To GTzan 3-fold\n",
    "\n",
    "11 December 2018"
   ]
  },
  {
   "cell_type": "code",
   "execution_count": null,
   "metadata": {
    "scrolled": true
   },
   "outputs": [],
   "source": [
    "import numpy as np\n",
    "import matplotlib.pyplot as plt\n",
    "import matplotlib\n",
    "import os\n",
    "import soundfile as sf\n",
    "from numpy import *\n",
    "import soundfile as sf\n",
    "\n",
    "from sklearn.utils import shuffle\n",
    "from sklearn.model_selection import train_test_split\n",
    "from sklearn.preprocessing import normalize\n",
    "from sklearn.preprocessing import scale\n",
    "from keras import regularizers\n",
    "\n",
    "import os, sys\n",
    "from keras.utils import np_utils\n",
    "from keras.models import Model\n",
    "from keras.layers import Conv1D, Dense, MaxPool1D, Flatten\n",
    "from keras.callbacks import TensorBoard\n",
    "from keras.utils import np_utils, to_categorical\n",
    "from keras import optimizers\n",
    "from keras.layers.normalization import BatchNormalization\n",
    "from keras.layers.core import Dropout\n",
    "import keras.initializers as init\n",
    "\n",
    "os.environ[\"CUDA_VISIBLE_DEVICES\"]=\"0\"\n",
    "import tensorflow as tf\n",
    "config = tf.ConfigProto( )\n",
    "config.gpu_options.allow_growth = True\n",
    "sess   = tf.Session(config=config)\n",
    "import keras.backend.tensorflow_backend as tf_bkend\n",
    "tf_bkend.set_session(sess)"
   ]
  },
  {
   "cell_type": "code",
   "execution_count": null,
   "metadata": {
    "scrolled": true
   },
   "outputs": [],
   "source": [
    "#controling_Hyper parameters\n",
    "batch_size = 60\n",
    "nb_classes = 10\n",
    "nb_epoch   = 300\n",
    "frame_size = 110250"
   ]
  },
  {
   "cell_type": "code",
   "execution_count": 3,
   "metadata": {
    "scrolled": true
   },
   "outputs": [],
   "source": [
    "X_train = np.load( \"/home-2/akoerich/GTzan_Xs_fold2-3_110250_75.npy\" )\n",
    "Y_train = np.load( \"/home-2/akoerich/GTzan_Ys_fold2-3_110250_75.npy\" )\n",
    "# t_train = np.load( \"t_train_13_220500_50_256_box_id.npy\" )\n",
    "# s_train = np.load( \"s_train_13_220500_50_256_box_id.npy\" )\n",
    "\n",
    "\n",
    "X_valid = np.load( \"/home-2/akoerich/GTzan_Xs_fold1_110250_75.npy\" )\n",
    "Y_valid = np.load( \"/home-2/akoerich/GTzan_Ys_fold1_110250_75.npy\" )\n",
    "# t_valid = np.load( \"t_valid_2_220500_50_256_box_id.npy\" )\n",
    "# s_valid = np.load( \"s_valid_2_220500_50_256_box_id.npy\" )"
   ]
  },
  {
   "cell_type": "code",
   "execution_count": 4,
   "metadata": {},
   "outputs": [
    {
     "data": {
      "text/plain": [
       "(-1.0, 1.0000000000000004)"
      ]
     },
     "execution_count": 4,
     "metadata": {},
     "output_type": "execute_result"
    }
   ],
   "source": [
    "X_train.min(), X_train.max()"
   ]
  },
  {
   "cell_type": "code",
   "execution_count": 5,
   "metadata": {},
   "outputs": [
    {
     "data": {
      "text/plain": [
       "(-1.0, 1.0000000000000004)"
      ]
     },
     "execution_count": 5,
     "metadata": {},
     "output_type": "execute_result"
    }
   ],
   "source": [
    "X_valid.min(), X_valid.max()"
   ]
  },
  {
   "cell_type": "code",
   "execution_count": 6,
   "metadata": {},
   "outputs": [],
   "source": [
    "# If a validation split is not provided\n",
    "\n",
    "#from sklearn.model_selection import train_test_split\n",
    "\n",
    "#X_train, X_valid, Y_train, Y_valid = train_test_split(X_train2, Y_train2, test_size=0.10, stratify=Y_train2, random_state=42)"
   ]
  },
  {
   "cell_type": "code",
   "execution_count": 7,
   "metadata": {},
   "outputs": [],
   "source": [
    "import gc\n",
    "#X_train2 = None\n",
    "#Y_train2 = None\n",
    "#gc.collect()"
   ]
  },
  {
   "cell_type": "code",
   "execution_count": 8,
   "metadata": {
    "scrolled": true
   },
   "outputs": [
    {
     "data": {
      "text/plain": [
       "((16493, 110250, 1), (16493, 10), (8497, 110250, 1), (8497, 10))"
      ]
     },
     "execution_count": 8,
     "metadata": {},
     "output_type": "execute_result"
    }
   ],
   "source": [
    "X_train.shape, Y_train.shape, X_valid.shape, Y_valid.shape\n",
    "#, t_train.shape, s_train.shape"
   ]
  },
  {
   "cell_type": "code",
   "execution_count": null,
   "metadata": {},
   "outputs": [],
   "source": [
    "# best so far 0.53160 for 10-fold\n",
    "# dec 10. comecou dec 9 tarde.\n",
    "\n",
    "\n",
    "# best so far 0.64008 for 3-fold\n",
    "# GTzan_3f_fold1-2_110250_75Tue Dec 11 10:26:42 2018\n",
    "\n",
    "\n",
    "def model_generator_alenet4():\n",
    "    from keras.layers import Input, Dense\n",
    "    from keras.layers import AveragePooling1D\n",
    "    from keras.models import Model\n",
    "    from keras import initializers\n",
    "    from keras.callbacks import ModelCheckpoint\n",
    "    from keras.layers import LeakyReLU    \n",
    "    \n",
    "    inp =  Input(shape=(frame_size,1))\n",
    "    #----------------------\n",
    "    conv1 = Conv1D(filters=32, kernel_size=128, strides=2)(inp)\n",
    "    norm1 = BatchNormalization()(conv1)\n",
    "    act1  = LeakyReLU(alpha=0.1)(norm1)\n",
    "    drop1 = Dropout(0.10)(act1)\n",
    "    # 8 -> 4\n",
    "    pool1 = AveragePooling1D(pool_size=4, strides=4)(drop1)\n",
    "    #----------------------\n",
    "    conv2 = Conv1D(filters=16, kernel_size=256, strides=2)(pool1)\n",
    "    norm2 = BatchNormalization()(conv2)\n",
    "    act2  = LeakyReLU(alpha=0.1)(norm2)\n",
    "    drop2b = Dropout(0.10)(act2)\n",
    "    # 8 -> 4\n",
    "    pool2 = AveragePooling1D(pool_size=4, strides=4)(drop2b)\n",
    "    #----------------------\n",
    "    conv3 = Conv1D(filters=32, kernel_size=64, strides=2 )(pool2)\n",
    "    norm3 = BatchNormalization()(conv3)\n",
    "    act3  = LeakyReLU(alpha=0.1)(norm3)\n",
    "    drop3b = Dropout(0.10)(act3)\n",
    "    #----------------------\n",
    "    conv4 = Conv1D(filters=64, kernel_size=32, strides=2 )(drop3b)\n",
    "    norm4 = BatchNormalization()(conv4)\n",
    "    act4  = LeakyReLU(alpha=0.1)(norm4)\n",
    "    drop4b = Dropout(0.10)(act4)\n",
    "    #----------------------\n",
    "    conv5 = Conv1D(filters=128, kernel_size=16, strides=2 )(drop4b)\n",
    "    norm5 = BatchNormalization()(conv5)\n",
    "    act5  = LeakyReLU(alpha=0.1)(norm5)\n",
    "    drop5b = Dropout(0.10)(act5)\n",
    "    \n",
    "    pool3 = AveragePooling1D(pool_size=2, strides=2)(drop5b)\n",
    "\n",
    "    flat = Flatten()(pool3)\n",
    "\n",
    "    #dense1 = Dense(1024, activation='relu')(flat)\n",
    "    #drop1  = Dropout(0.50)(dense1)\n",
    "    \n",
    "    #dense1 = Dense(2048, activation='relu')(flat)\n",
    "    #drop1  = Dropout(0.50)(dense1)\n",
    "\n",
    "    dense2 = Dense(1024, activation='relu', kernel_initializer=initializers.glorot_uniform(seed=0) )(flat)\n",
    "    drop2  = Dropout(0.55)(dense2)\n",
    "\n",
    "    dense2a = Dense(512, activation='relu', kernel_initializer=initializers.glorot_uniform(seed=0) )(drop2)\n",
    "    drop2a  = Dropout(0.55)(dense2a)\n",
    "    \n",
    "    dense3a = Dense(256, activation='relu', kernel_initializer=initializers.glorot_uniform(seed=0) )(drop2a)\n",
    "    drop3a  = Dropout(0.50)(dense3a)\n",
    "    \n",
    "    dense3 = Dense(nb_classes, activation='softmax')(drop3a)\n",
    "    model  = Model(inp, dense3)\n",
    "\n",
    "    model.compile(loss='categorical_crossentropy',\n",
    "              optimizer=optimizers.Adadelta(lr=1.0, rho=0.95, epsilon=1e-08, decay=0.0)\n",
    "              ,metrics=['accuracy'])\n",
    "    \n",
    "    # keras.losses.categorical_crossentropy(y_true, y_pred)\n",
    "    # keras.losses.kullback_leibler_divergence(y_true, y_pred)\n",
    "    \n",
    "    model.summary()\n",
    "    \n",
    "    return model"
   ]
  },
  {
   "cell_type": "code",
   "execution_count": null,
   "metadata": {},
   "outputs": [],
   "source": [
    "def model_generator_alenet5():\n",
    "    from keras.layers import Input, Dense\n",
    "    from keras.layers import AveragePooling1D\n",
    "    from keras.models import Model\n",
    "    from keras import initializers\n",
    "    from keras.callbacks import ModelCheckpoint\n",
    "    from keras.layers import LeakyReLU    \n",
    "    \n",
    "    inp =  Input(shape=(frame_size,1))\n",
    "    #----------------------\n",
    "    conv1 = Conv1D(filters=32, kernel_size=128, strides=2)(inp)\n",
    "    norm1 = BatchNormalization()(conv1)\n",
    "    act1  = LeakyReLU(alpha=0.1)(norm1)\n",
    "    drop1 = Dropout(0.10)(act1)\n",
    "    # 8 -> 4\n",
    "    pool1 = AveragePooling1D(pool_size=4, strides=4)(drop1)\n",
    "    #----------------------\n",
    "    conv2 = Conv1D(filters=16, kernel_size=256, strides=2)(pool1)\n",
    "    norm2 = BatchNormalization()(conv2)\n",
    "    act2  = LeakyReLU(alpha=0.1)(norm2)\n",
    "    drop2b = Dropout(0.10)(act2)\n",
    "    # 8 -> 4\n",
    "    pool2 = AveragePooling1D(pool_size=4, strides=4)(drop2b)\n",
    "    #----------------------\n",
    "    conv3 = Conv1D(filters=32, kernel_size=64, strides=2 )(pool2)\n",
    "    norm3 = BatchNormalization()(conv3)\n",
    "    act3  = LeakyReLU(alpha=0.1)(norm3)\n",
    "    drop3b = Dropout(0.10)(act3)\n",
    "    #----------------------\n",
    "    conv4 = Conv1D(filters=64, kernel_size=32, strides=2 )(drop3b)\n",
    "    norm4 = BatchNormalization()(conv4)\n",
    "    act4  = LeakyReLU(alpha=0.1)(norm4)\n",
    "    drop4b = Dropout(0.10)(act4)\n",
    "    #----------------------\n",
    "    conv5 = Conv1D(filters=128, kernel_size=16, strides=2 )(drop4b)\n",
    "    norm5 = BatchNormalization()(conv5)\n",
    "    act5  = LeakyReLU(alpha=0.1)(norm5)\n",
    "    drop5b = Dropout(0.10)(act5)\n",
    "    \n",
    "    #pool3 = AveragePooling1D(pool_size=2, strides=2)(drop5b)\n",
    "\n",
    "    flat = Flatten()(drop5b)\n",
    "\n",
    "    #dense1 = Dense(1024, activation='relu')(flat)\n",
    "    #drop1  = Dropout(0.50)(dense1)\n",
    "    \n",
    "    #dense1 = Dense(2048, activation='relu')(flat)\n",
    "    #drop1  = Dropout(0.50)(dense1)\n",
    "\n",
    "    dense2 = Dense(1024, kernel_initializer=initializers.glorot_uniform(seed=0) )(flat)\n",
    "    actd2  = LeakyReLU(alpha=0.1)(dense2)\n",
    "    drop2  = Dropout(0.6)(actd2)\n",
    "\n",
    "    dense2a = Dense(512, kernel_initializer=initializers.glorot_uniform(seed=0) )(drop2)\n",
    "    actd2a  = LeakyReLU(alpha=0.1)(dense2a)\n",
    "    drop2a  = Dropout(0.5)(actd2a)\n",
    "    \n",
    "    #dense3a = Dense(256, activation='relu', kernel_initializer=initializers.glorot_uniform(seed=0) )(drop2a)\n",
    "    #drop3a  = Dropout(0.50)(dense3a)\n",
    "    \n",
    "    dense3 = Dense(nb_classes, activation='softmax')(drop2a)\n",
    "    model  = Model(inp, dense3)\n",
    "\n",
    "    model.compile(loss='categorical_crossentropy',\n",
    "              optimizer=optimizers.Adadelta(lr=1.0, rho=0.95, epsilon=1e-08, decay=0.0)\n",
    "              ,metrics=['accuracy'])\n",
    "    \n",
    "    # keras.losses.categorical_crossentropy(y_true, y_pred)\n",
    "    # keras.losses.kullback_leibler_divergence(y_true, y_pred)\n",
    "    \n",
    "    model.summary()\n",
    "    \n",
    "    return model"
   ]
  },
  {
   "cell_type": "code",
   "execution_count": 9,
   "metadata": {},
   "outputs": [],
   "source": [
    "import scipy.io as sio\n",
    "contents_mat=sio.loadmat('filters_32_512.mat')\n",
    "gammatone = contents_mat['filters_32_512']\n",
    "CNN_1st_layer_filters = np.transpose(gammatone)\n",
    "CNN_1st_layer_filters_rev=np.zeros((512,32))\n",
    "for i in reversed(range(32)):\n",
    "    CNN_1st_layer_filters_rev[:,31-i]=CNN_1st_layer_filters[:,i]\n",
    "    \n",
    "\n"
   ]
  },
  {
   "cell_type": "code",
   "execution_count": 10,
   "metadata": {},
   "outputs": [],
   "source": [
    "def model_generator_alenet4c():\n",
    "    from keras.layers import Input, Dense\n",
    "    from keras.layers import AveragePooling1D\n",
    "    from keras.models import Model\n",
    "    from keras import initializers\n",
    "    from keras.callbacks import ModelCheckpoint\n",
    "    from keras.layers import LeakyReLU    \n",
    "    \n",
    "    inp =  Input(shape=(frame_size,1))\n",
    "    #----------------------\n",
    "    conv1 = Conv1D(filters=32, kernel_size=512, activation='relu', kernel_initializer=init.Constant(CNN_1st_layer_filters_rev), trainable=True)(inp)\n",
    "    norm1 = BatchNormalization()(conv1)\n",
    "    pool1 = AveragePooling1D(pool_size=8, strides=8)(norm1)\n",
    "    #----------------------\n",
    "    conv2 = Conv1D(filters=16, kernel_size=256, strides=2)(pool1)\n",
    "    norm2 = BatchNormalization()(conv2)\n",
    "    act2  = LeakyReLU(alpha=0.1)(norm2)\n",
    "    drop2b = Dropout(0.10)(act2)\n",
    "    pool2 = AveragePooling1D(pool_size=8, strides=8)(drop2b)\n",
    "    #----------------------\n",
    "    conv3 = Conv1D(filters=32, kernel_size=64, strides=2 )(pool2)\n",
    "    norm3 = BatchNormalization()(conv3)\n",
    "    act3  = LeakyReLU(alpha=0.1)(norm3)\n",
    "    drop3b = Dropout(0.10)(act3)\n",
    "    #----------------------\n",
    "    conv4 = Conv1D(filters=64, kernel_size=32, strides=2 )(drop3b)\n",
    "    norm4 = BatchNormalization()(conv4)\n",
    "    act4  = LeakyReLU(alpha=0.1)(norm4)\n",
    "    drop4b = Dropout(0.10)(act4)\n",
    "    #----------------------\n",
    "    conv5 = Conv1D(filters=128, kernel_size=16, strides=2 )(drop4b)\n",
    "    norm5 = BatchNormalization()(conv5)\n",
    "    act5  = LeakyReLU(alpha=0.1)(norm5)\n",
    "    drop5b = Dropout(0.10)(act5)\n",
    "    \n",
    "    pool3 = MaxPool1D(pool_size=2, strides=2)(drop5b)\n",
    "\n",
    "    flat = Flatten()(pool3)\n",
    "\n",
    "    dense2 = Dense(512, activation='relu', kernel_initializer=initializers.glorot_uniform(seed=0) )(flat)\n",
    "    drop2  = Dropout(0.55)(dense2)\n",
    "    \n",
    "    dense3 = Dense(nb_classes, activation='softmax')(drop2)\n",
    "    model  = Model(inp, dense3)\n",
    "\n",
    "    model.compile(loss='categorical_crossentropy',\n",
    "              optimizer=optimizers.Adadelta(lr=1.0, rho=0.95, epsilon=1e-08, decay=0.0)\n",
    "              ,metrics=['accuracy'])\n",
    "    \n",
    "    model.summary()\n",
    "    \n",
    "    return model"
   ]
  },
  {
   "cell_type": "code",
   "execution_count": null,
   "metadata": {},
   "outputs": [],
   "source": []
  },
  {
   "cell_type": "code",
   "execution_count": null,
   "metadata": {},
   "outputs": [],
   "source": []
  },
  {
   "cell_type": "code",
   "execution_count": 11,
   "metadata": {
    "scrolled": true
   },
   "outputs": [
    {
     "name": "stdout",
     "output_type": "stream",
     "text": [
      "WARNING:tensorflow:From /usr/local/lib/python3.5/dist-packages/tensorflow/contrib/learn/python/learn/datasets/base.py:198: retry (from tensorflow.contrib.learn.python.learn.datasets.base) is deprecated and will be removed in a future version.\n",
      "Instructions for updating:\n",
      "Use the retry module or similar alternatives.\n",
      "WARNING:tensorflow:From /usr/local/lib/python3.5/dist-packages/tensorflow/python/util/deprecation.py:497: calling conv1d (from tensorflow.python.ops.nn_ops) with data_format=NHWC is deprecated and will be removed in a future version.\n",
      "Instructions for updating:\n",
      "`NHWC` for data_format is deprecated, use `NWC` instead\n",
      "_________________________________________________________________\n",
      "Layer (type)                 Output Shape              Param #   \n",
      "=================================================================\n",
      "input_1 (InputLayer)         (None, 110250, 1)         0         \n",
      "_________________________________________________________________\n",
      "conv1d_1 (Conv1D)            (None, 109739, 32)        16416     \n",
      "_________________________________________________________________\n",
      "batch_normalization_1 (Batch (None, 109739, 32)        128       \n",
      "_________________________________________________________________\n",
      "average_pooling1d_1 (Average (None, 13717, 32)         0         \n",
      "_________________________________________________________________\n",
      "conv1d_2 (Conv1D)            (None, 6731, 16)          131088    \n",
      "_________________________________________________________________\n",
      "batch_normalization_2 (Batch (None, 6731, 16)          64        \n",
      "_________________________________________________________________\n",
      "leaky_re_lu_1 (LeakyReLU)    (None, 6731, 16)          0         \n",
      "_________________________________________________________________\n",
      "dropout_1 (Dropout)          (None, 6731, 16)          0         \n",
      "_________________________________________________________________\n",
      "average_pooling1d_2 (Average (None, 841, 16)           0         \n",
      "_________________________________________________________________\n",
      "conv1d_3 (Conv1D)            (None, 389, 32)           32800     \n",
      "_________________________________________________________________\n",
      "batch_normalization_3 (Batch (None, 389, 32)           128       \n",
      "_________________________________________________________________\n",
      "leaky_re_lu_2 (LeakyReLU)    (None, 389, 32)           0         \n",
      "_________________________________________________________________\n",
      "dropout_2 (Dropout)          (None, 389, 32)           0         \n",
      "_________________________________________________________________\n",
      "conv1d_4 (Conv1D)            (None, 179, 64)           65600     \n",
      "_________________________________________________________________\n",
      "batch_normalization_4 (Batch (None, 179, 64)           256       \n",
      "_________________________________________________________________\n",
      "leaky_re_lu_3 (LeakyReLU)    (None, 179, 64)           0         \n",
      "_________________________________________________________________\n",
      "dropout_3 (Dropout)          (None, 179, 64)           0         \n",
      "_________________________________________________________________\n",
      "conv1d_5 (Conv1D)            (None, 82, 128)           131200    \n",
      "_________________________________________________________________\n",
      "batch_normalization_5 (Batch (None, 82, 128)           512       \n",
      "_________________________________________________________________\n",
      "leaky_re_lu_4 (LeakyReLU)    (None, 82, 128)           0         \n",
      "_________________________________________________________________\n",
      "dropout_4 (Dropout)          (None, 82, 128)           0         \n",
      "_________________________________________________________________\n",
      "max_pooling1d_1 (MaxPooling1 (None, 41, 128)           0         \n",
      "_________________________________________________________________\n",
      "flatten_1 (Flatten)          (None, 5248)              0         \n",
      "_________________________________________________________________\n",
      "dense_1 (Dense)              (None, 512)               2687488   \n",
      "_________________________________________________________________\n",
      "dropout_5 (Dropout)          (None, 512)               0         \n",
      "_________________________________________________________________\n",
      "dense_2 (Dense)              (None, 10)                5130      \n",
      "=================================================================\n",
      "Total params: 3,070,810\n",
      "Trainable params: 3,070,266\n",
      "Non-trainable params: 544\n",
      "_________________________________________________________________\n",
      "weights/weights_GTzan_3f_fold2-3_110250_75_shuffle_alenet4c_gammatone_512dense.best.hdf5\n"
     ]
    }
   ],
   "source": [
    "fold = 2-3\n",
    "from keras.callbacks import ModelCheckpoint\n",
    "from keras.callbacks import TensorBoard\n",
    "import time\n",
    "from livelossplot import PlotLossesKeras\n",
    "hist = []\n",
    "\n",
    "\n",
    "now = time.strftime(\"%c\")\n",
    "tbcallback = TensorBoard(log_dir='./tmp/GTzan_3f_fold2-3_110250_75_suffle_gammatone_512dense_'+now, histogram_freq=0, write_graph=True, write_images=True )\n",
    "\n",
    "#for train_index, test_index in kf.split(X):\n",
    "#generating the model \n",
    "model = model_generator_alenet4c()\n",
    "\n",
    "#checkpoints\n",
    "str0=\"weights/\"\n",
    "str1=\"weights_GTzan_3f_fold2-3_110250_75_shuffle_alenet4c_gammatone_512dense\" \n",
    "str2=\".best.hdf5\" \n",
    "filepath=str0+str1+str2 \n",
    "print(filepath)\n",
    "\n",
    "checkpoint = ModelCheckpoint(filepath, monitor='val_acc', verbose=1, save_best_only=True, mode='max') \n",
    "callbacks_list = [checkpoint, tbcallback, PlotLossesKeras()]\n",
    "\n",
    "\n"
   ]
  },
  {
   "cell_type": "code",
   "execution_count": 12,
   "metadata": {
    "scrolled": false
   },
   "outputs": [
    {
     "data": {
      "image/png": "[encoded data removed]",
      "text/plain": [
       "<Figure size 864x576 with 2 Axes>"
      ]
     },
     "metadata": {},
     "output_type": "display_data"
    },
    {
     "name": "stdout",
     "output_type": "stream",
     "text": [
      "Log-loss (cost function):\n",
      "training   (min:    0.110, max:    1.897, cur:    0.122)\n",
      "validation (min:    1.374, max:    2.909, cur:    2.307)\n",
      "\n",
      "Accuracy:\n",
      "training   (min:    0.347, max:    0.962, cur:    0.960)\n",
      "validation (min:    0.442, max:    0.691, cur:    0.666)\n"
     ]
    }
   ],
   "source": [
    "#fitting the model \n",
    "hist.append(model.fit(X_train, Y_train,\n",
    "                      batch_size = batch_size, \n",
    "                      epochs = nb_epoch,\n",
    "                      verbose = 1,\n",
    "                      shuffle = True,\n",
    "                      callbacks = callbacks_list,\n",
    "                      validation_data = (X_valid, Y_valid)\n",
    "                     ))"
   ]
  },
  {
   "cell_type": "code",
   "execution_count": 13,
   "metadata": {},
   "outputs": [
    {
     "data": {
      "text/plain": [
       "'weights/weights_GTzan_3f_fold2-3_110250_75_shuffle_alenet4c_gammatone_512dense.best.hdf5'"
      ]
     },
     "execution_count": 13,
     "metadata": {},
     "output_type": "execute_result"
    }
   ],
   "source": [
    "filepath"
   ]
  },
  {
   "cell_type": "markdown",
   "metadata": {},
   "source": [
    "https://www.music-ir.org/nema_out/mirex2017/results/act/latin_report/accperfold.html\n",
    "\n",
    "MIREX 2017:\n",
    "\n",
    "\n",
    "\n",
    "Summary Results    [top]\n",
    "Algorithm\n",
    "Classification Accuracy\n",
    "Normalised Classification Accuracy\n",
    "LPNKK1\n",
    "0.7586\n",
    "0.7571\n",
    "PLNPH1\n",
    "0.6619\n",
    "0.6573\n",
    "XLJ1\n",
    "0.6148\n",
    "0.6079\n",
    "LPNKK3\n",
    "0.7347\n",
    "0.7324\n",
    "LPNKK2\n",
    "0.6511\n",
    "0.6458\n",
    "\n",
    "\n",
    "\n",
    "\n",
    "\n",
    "Fold\n",
    "LPNKK1\n",
    "LPNKK2\n",
    "LPNKK3\n",
    "PLNPH1\n",
    "XLJ1\n",
    "1\n",
    "0.7186\n",
    "0.6041\n",
    "0.6860\n",
    "0.5795\n",
    "0.5453\n",
    "0\n",
    "0.7627\n",
    "0.6426\n",
    "0.7444\n",
    "0.6772\n",
    "0.5998\n",
    "2\n",
    "0.8055\n",
    "0.7194\n",
    "0.7872\n",
    "0.7518\n",
    "0.7183\n",
    "\n",
    "\n",
    "/Users/akoerich/Dropbox/Mendeley/pdf/Aytar, Vondrick, Torralba - 2016.pdf\n",
    "\n",
    "/Users/akoerich/HOME/ETS/Etudiants/Sajjad Abdoli/DGA1032/DGA1032-Dissertation_abdoli.pdf"
   ]
  },
  {
   "cell_type": "code",
   "execution_count": null,
   "metadata": {},
   "outputs": [],
   "source": []
  }
 ],
 "metadata": {
  "kernelspec": {
   "display_name": "Python 3",
   "language": "python",
   "name": "python3"
  },
  "language_info": {
   "codemirror_mode": {
    "name": "ipython",
    "version": 3
   },
   "file_extension": ".py",
   "mimetype": "text/x-python",
   "name": "python",
   "nbconvert_exporter": "python",
   "pygments_lexer": "ipython3",
   "version": "3.5.2"
  }
 },
 "nbformat": 4,
 "nbformat_minor": 2
}
