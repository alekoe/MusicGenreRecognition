{
 "cells": [
  {
   "cell_type": "markdown",
   "metadata": {},
   "source": [
    "# Create k-Folds without Artist Filter\n",
    "# GTzan Dataset\n",
    "\n",
    "http://marsyasweb.appspot.com/download/data_sets/\n",
    "\n",
    "The dataset consists of 1000 audio tracks each 30 seconds long.\n",
    "\n",
    "It contains 10 genres, each represented by 100 tracks.\n",
    "\n",
    "The tracks are all 22050Hz Mono 16-bit audio files in .wav format."
   ]
  },
  {
   "cell_type": "code",
   "execution_count": 1,
   "metadata": {},
   "outputs": [],
   "source": [
    "import numpy as np\n",
    "import os\n",
    "import soundfile as sf\n",
    "import math"
   ]
  },
  {
   "cell_type": "code",
   "execution_count": 2,
   "metadata": {},
   "outputs": [],
   "source": [
    "# Path to source files\n",
    "path2='../Temp_Data/GTzan'"
   ]
  },
  {
   "cell_type": "code",
   "execution_count": 3,
   "metadata": {},
   "outputs": [
    {
     "name": "stdout",
     "output_type": "stream",
     "text": [
      "Files processed: 0\n"
     ]
    }
   ],
   "source": [
    "file_list = []\n",
    "i = 0 \n",
    "for path, subdirs, files in os.walk( path2 ):\n",
    "    for name in files:\n",
    "        file_list.append( os.path.join(path, name) )\n",
    "        i += 1\n",
    "print(\"Files processed: \"+str(i) )"
   ]
  },
  {
   "cell_type": "code",
   "execution_count": 4,
   "metadata": {},
   "outputs": [],
   "source": [
    "import math\n",
    "import numpy as np\n",
    "import matplotlib.pyplot as plt\n",
    "import pylab as py\n",
    "from scipy import fftpack\n",
    "from scipy import signal\n",
    "from pylab import *\n",
    "import scipy.io.wavfile"
   ]
  },
  {
   "cell_type": "code",
   "execution_count": 5,
   "metadata": {},
   "outputs": [],
   "source": [
    "# Audio files are segmented and each segment is saved on disk with the approporiate prefix indicating the segment\n",
    "# number.\n",
    "# np.boxcar(frame_size)\n",
    "# sample rate = 22,050\n",
    "#  1s = 22,050 x 1 =  22,050\n",
    "#  5s = 22,050 x 5 = 110,250\n",
    "# 10s = 22050 x 10 = 220,500\n",
    "\n",
    "#genre_list = ['Alternative & Punk', 'Classical', 'Easy Listening & Vocals', 'Hip-Hop', 'New Age', 'Religious', 'World Blues', 'Comedy & Spoken Word', 'Electronic & Dance', 'Jazz', 'R&B & Soul', 'Rock & Pop', \n",
    "#'Childrens', 'Country', 'Folk', 'Latin', 'Reggae', 'Soundtracks & More']\n",
    "\n",
    "#artist_list = list()\n",
    "genre_list  = list()\n",
    "\n",
    "track_id = 0\n",
    "\n",
    "for file in file_list:\n",
    "    \n",
    "    #artist = str(file[41:].split('/')[2].split('-')[0])\n",
    "    #artist_list.append( artist )\n",
    "\n",
    "    genre = str(file[10:].split('/')[2])\n",
    "    genre_list.append( genre )\n",
    "        \n",
    "    track_id += 1\n",
    "    \n",
    "    print(str(track_id)+\" tracks processed\")\n",
    "        "
   ]
  },
  {
   "cell_type": "code",
   "execution_count": 6,
   "metadata": {},
   "outputs": [
    {
     "ename": "NameError",
     "evalue": "name 'file' is not defined",
     "output_type": "error",
     "traceback": [
      "\u001b[0;31m---------------------------------------------------------------------------\u001b[0m",
      "\u001b[0;31mNameError\u001b[0m                                 Traceback (most recent call last)",
      "\u001b[0;32m<ipython-input-6-554cd13a804c>\u001b[0m in \u001b[0;36m<module>\u001b[0;34m()\u001b[0m\n\u001b[0;32m----> 1\u001b[0;31m \u001b[0mfile\u001b[0m\u001b[0;34m[\u001b[0m\u001b[0;36m10\u001b[0m\u001b[0;34m:\u001b[0m\u001b[0;34m]\u001b[0m\u001b[0;34m.\u001b[0m\u001b[0msplit\u001b[0m\u001b[0;34m(\u001b[0m\u001b[0;34m'/'\u001b[0m\u001b[0;34m)\u001b[0m\u001b[0;34m[\u001b[0m\u001b[0;36m2\u001b[0m\u001b[0;34m]\u001b[0m\u001b[0;34m\u001b[0m\u001b[0m\n\u001b[0m",
      "\u001b[0;31mNameError\u001b[0m: name 'file' is not defined"
     ]
    }
   ],
   "source": [
    "file[10:].split('/')[2]"
   ]
  },
  {
   "cell_type": "code",
   "execution_count": null,
   "metadata": {},
   "outputs": [],
   "source": [
    "genre_list"
   ]
  },
  {
   "cell_type": "code",
   "execution_count": null,
   "metadata": {},
   "outputs": [],
   "source": [
    "shape(genre_list), shape(file_list)"
   ]
  },
  {
   "cell_type": "code",
   "execution_count": null,
   "metadata": {},
   "outputs": [],
   "source": [
    "from sklearn.model_selection import StratifiedKFold\n",
    "\n",
    "gkf = StratifiedKFold(n_splits=3, random_state=7, shuffle=True)\n",
    "gkf.split(file_list, genre_list)\n",
    "print(gkf)\n",
    "fold_num = 1 \n",
    "for train_index, test_index in gkf.split(file_list, genre_list):\n",
    "    print(\"TRAIN:\", train_index, \"TEST:\", test_index)\n",
    "    print(\"TRAIN:\", shape(train_index), \"TEST:\", shape(test_index))\n",
    "    \n",
    "    for ii in test_index:\n",
    "        data , samplerate = sf.read( file_list[ii] )\n",
    "        #print(file_list[ii])\n",
    "        sf.write( file_list[ii][0:18]+\"_3s/\"+\"fold\"+str(fold_num)+file_list[ii][18:], data, samplerate ) \n",
    "    fold_num +=1"
   ]
  },
  {
   "cell_type": "code",
   "execution_count": null,
   "metadata": {},
   "outputs": [],
   "source": [
    "\n",
    "file_list[ii][0:18]+\"_3f/\"+\"fold\"+str(fold_num)+file_list[ii][18:]"
   ]
  },
  {
   "cell_type": "code",
   "execution_count": null,
   "metadata": {},
   "outputs": [],
   "source": [
    "file_list[ii]"
   ]
  },
  {
   "cell_type": "code",
   "execution_count": null,
   "metadata": {},
   "outputs": [],
   "source": [
    "str(file_list[2][0:41]+\"_3f/\"+\"fold\"+str(fold_num)+file_list[2][41:])"
   ]
  },
  {
   "cell_type": "code",
   "execution_count": null,
   "metadata": {},
   "outputs": [],
   "source": [
    "file_list[ii][0:42]+\"fold\"+str(fold_num)+file_list[ii][41:]"
   ]
  },
  {
   "cell_type": "code",
   "execution_count": null,
   "metadata": {},
   "outputs": [],
   "source": []
  }
 ],
 "metadata": {
  "kernelspec": {
   "display_name": "Python 3 (ipykernel)",
   "language": "python",
   "name": "python3"
  },
  "language_info": {
   "codemirror_mode": {
    "name": "ipython",
    "version": 3
   },
   "file_extension": ".py",
   "mimetype": "text/x-python",
   "name": "python",
   "nbconvert_exporter": "python",
   "pygments_lexer": "ipython3",
   "version": "3.9.13"
  }
 },
 "nbformat": 4,
 "nbformat_minor": 2
}
