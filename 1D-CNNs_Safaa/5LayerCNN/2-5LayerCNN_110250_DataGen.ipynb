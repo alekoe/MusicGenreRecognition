{
 "cells": [
  {
   "cell_type": "code",
   "execution_count": 1,
   "metadata": {},
   "outputs": [],
   "source": [
    "from __future__ import absolute_import, division, print_function, unicode_literals\n",
    "\n",
    "import numpy as np\n",
    "import os\n",
    "import math\n",
    "import soundfile as sf\n",
    "import tensorflow as tf\n",
    "from tensorflow import keras"
   ]
  },
  {
   "cell_type": "code",
   "execution_count": 2,
   "metadata": {},
   "outputs": [
    {
     "name": "stdout",
     "output_type": "stream",
     "text": [
      "2.4.0\n"
     ]
    }
   ],
   "source": [
    "print(tf.version.VERSION)"
   ]
  },
  {
   "cell_type": "code",
   "execution_count": 3,
   "metadata": {},
   "outputs": [],
   "source": [
    "import tensorflow as tf\n",
    "from tensorflow import keras\n",
    "\n",
    "with tf.compat.v1.Session() as sess:\n",
    "    devices = sess.list_devices()\n",
    "    \n",
    "devices\n",
    "\n",
    "os.environ[\"CUDA_VISIBLE_DEVICES\"] = \"0\"\n",
    "config = tf.compat.v1.ConfigProto()\n",
    "config.gpu_options.allow_growth = True\n",
    "sess = tf.compat.v1.Session(config=config)\n",
    "\n",
    "import tensorflow.keras.backend as tf_backend\n",
    "tf.compat.v1.keras.backend.set_session(sess)"
   ]
  },
  {
   "cell_type": "code",
   "execution_count": 4,
   "metadata": {},
   "outputs": [
    {
     "name": "stdout",
     "output_type": "stream",
     "text": [
      "[PhysicalDevice(name='/physical_device:CPU:0', device_type='CPU')]\n"
     ]
    }
   ],
   "source": [
    "print(tf.config.list_physical_devices())"
   ]
  },
  {
   "cell_type": "markdown",
   "metadata": {},
   "source": [
    "## Path to segmented files"
   ]
  },
  {
   "cell_type": "code",
   "execution_count": 4,
   "metadata": {},
   "outputs": [],
   "source": [
    "path3 = '../GTzan_3f_Win_110250_75_safaa'\n",
    "\n",
    "frame_size = 110250\n",
    "nb_classes = 10"
   ]
  },
  {
   "cell_type": "markdown",
   "metadata": {},
   "source": [
    "## List files"
   ]
  },
  {
   "cell_type": "code",
   "execution_count": 5,
   "metadata": {},
   "outputs": [
    {
     "name": "stdout",
     "output_type": "stream",
     "text": [
      "Number of files processed : 20990\n"
     ]
    }
   ],
   "source": [
    "file_list = []\n",
    "i = 0\n",
    "for path, subdirs, files in os.walk(path3):\n",
    "    for file in files:\n",
    "        file_list.append(os.path.join(path,file))\n",
    "        i += 1\n",
    "\n",
    "print(\"Number of files processed : \" + str(i))"
   ]
  },
  {
   "cell_type": "code",
   "execution_count": 6,
   "metadata": {},
   "outputs": [],
   "source": [
    "Train = \"fold1\"\n",
    "Valid = \"fold2\"\n",
    "Test  = \"fold3\""
   ]
  },
  {
   "cell_type": "code",
   "execution_count": 7,
   "metadata": {},
   "outputs": [
    {
     "name": "stdout",
     "output_type": "stream",
     "text": [
      "Number of files processed: 20990\n",
      "Number of Train files: 7011\n",
      "Number of Valid files: 6989\n",
      "Number of Test files: 6990\n"
     ]
    }
   ],
   "source": [
    "train_list = []\n",
    "valid_list = []\n",
    "test_list  = []\n",
    "\n",
    "train_path = []\n",
    "valid_path = []\n",
    "test_path  = []\n",
    "\n",
    "train_label_list = []\n",
    "valid_label_list = []\n",
    "test_label_list  = []\n",
    "\n",
    "train_seg_list = []\n",
    "valid_seg_list = []\n",
    "test_seg_list  = []\n",
    "\n",
    "choices = {'blues': 0,\n",
    "           'classical': 1,\n",
    "           'country': 2,\n",
    "           'disco': 3,\n",
    "           'hiphop': 4,\n",
    "           'jazz': 5,\n",
    "           'metal': 6,\n",
    "           'pop': 7,\n",
    "           'reggae': 8,\n",
    "           'rock': 9}\n",
    "\n",
    "i = 0\n",
    "for path, subdirs, files in os.walk(path3):\n",
    "    for file in files:\n",
    "        fold_num = path.split('/')[2]\n",
    "        label_id = choices.get(path.split('/')[3], 99)\n",
    "        track_id = file[0:].split('.')[0]\n",
    "        track_id_t = int(file[0:].split('.')[0].split('_')[0])\n",
    "        seg_id = int(file.split('.')[0].split('_')[1])\n",
    "        full_path_id = path+'/'+file\n",
    "        if fold_num == Train:\n",
    "            train_list.append( track_id )\n",
    "            train_path.append( full_path_id )\n",
    "            train_label_list.append( label_id )\n",
    "            train_seg_list.append( seg_id )\n",
    "        if fold_num == Valid:\n",
    "            valid_list.append( track_id )\n",
    "            valid_path.append( full_path_id )\n",
    "            valid_label_list.append( label_id )\n",
    "            valid_seg_list.append( seg_id )\n",
    "        if fold_num == Test:\n",
    "            test_list.append( track_id )\n",
    "            test_path.append( full_path_id )\n",
    "            test_label_list.append( label_id )\n",
    "            test_seg_list.append( seg_id )\n",
    "        i += 1\n",
    "\n",
    "print(\"Number of files processed: \" + str(i))\n",
    "print(\"Number of Train files: \" + str(len(train_list)))\n",
    "print(\"Number of Valid files: \" + str(len(valid_list)))\n",
    "print(\"Number of Test files: \" + str(len(test_list)))"
   ]
  },
  {
   "cell_type": "code",
   "execution_count": 8,
   "metadata": {},
   "outputs": [
    {
     "data": {
      "text/plain": [
       "'../GTzan_3f_Win_110250_75_safaa/fold1/rock/974_11.wav'"
      ]
     },
     "execution_count": 8,
     "metadata": {},
     "output_type": "execute_result"
    }
   ],
   "source": [
    "full_path_id"
   ]
  },
  {
   "cell_type": "code",
   "execution_count": 9,
   "metadata": {},
   "outputs": [],
   "source": [
    "partition = {}\n",
    "partition['train'] = train_path\n",
    "partition['valid'] = valid_path\n",
    "partition['test']  = test_path"
   ]
  },
  {
   "cell_type": "code",
   "execution_count": 10,
   "metadata": {},
   "outputs": [],
   "source": [
    "labels = {}\n",
    "for i in range(len(train_path)):\n",
    "    labels[train_path[i]] = train_label_list[i]\n",
    "\n",
    "for i in range(len(valid_path)):\n",
    "    labels[valid_path[i]] = valid_label_list[i]\n",
    "    \n",
    "for i in range(len(test_path)):\n",
    "    labels[test_path[i]] = test_label_list[i]"
   ]
  },
  {
   "cell_type": "code",
   "execution_count": 11,
   "metadata": {},
   "outputs": [
    {
     "data": {
      "text/plain": [
       "(7011, 6989, 6990)"
      ]
     },
     "execution_count": 11,
     "metadata": {},
     "output_type": "execute_result"
    }
   ],
   "source": [
    "len(partition['train']), len(partition['valid']), len(partition['test'])"
   ]
  },
  {
   "cell_type": "code",
   "execution_count": 12,
   "metadata": {},
   "outputs": [
    {
     "data": {
      "text/plain": [
       "'../GTzan_3f_Win_110250_75_safaa/fold1/metal/689_20.wav'"
      ]
     },
     "execution_count": 12,
     "metadata": {},
     "output_type": "execute_result"
    }
   ],
   "source": [
    "train_path[0]"
   ]
  },
  {
   "cell_type": "code",
   "execution_count": 13,
   "metadata": {},
   "outputs": [],
   "source": [
    "class DataGenerator( keras.utils.Sequence ):\n",
    "    'Generates data for Keras'\n",
    "\n",
    "    def __init__(self, list_IDs, labels, batch_size = 100, dim = (110250, 1), n_classes = 10, shuffle = True, data_set = 0):\n",
    "        'Initialization'\n",
    "        self.dim        = dim\n",
    "        self.batch_size = batch_size\n",
    "        self.labels     = labels\n",
    "        self.list_IDs   = list_IDs\n",
    "        self.n_classes  = n_classes\n",
    "        self.shuffle    = shuffle\n",
    "        self.data_set   = data_set\n",
    "        self.on_epoch_end()\n",
    "        \n",
    "    def __len__(self):\n",
    "        'Denotes the number of batches per epoch'\n",
    "        return int( np.floor( len( self.list_IDs) / self.batch_size ) )\n",
    "        \n",
    "    def __getitem__(self, index):\n",
    "        'Generate one batch of data'\n",
    "        # Generate indexes of the batch\n",
    "        indexes = self.indexes[ index * self.batch_size:(index + 1) * self.batch_size ]\n",
    "\n",
    "        # Find list of IDs\n",
    "        list_IDs_temp = [self.list_IDs[k] for k in indexes]\n",
    "\n",
    "        # Generate data\n",
    "        X, y = self.__data_generation(list_IDs_temp)\n",
    "\n",
    "        return X, y\n",
    "        \n",
    "    def on_epoch_end(self):\n",
    "        'Updates indexes after each epoch'\n",
    "        self.indexes = np.arange( len(self.list_IDs) )\n",
    "        if self.shuffle == True:\n",
    "            np.random.shuffle( self.indexes )\n",
    "        \n",
    "    def __data_generation( self, list_IDs_temp ):\n",
    "        'Generates data containing batch_size samples' # X : (n_samples, *dim, n_channels)\n",
    "        # Initialization\n",
    "        X = np.empty( ( self.batch_size, *self.dim ) )\n",
    "        y = np.empty( ( self.batch_size ), dtype = int )\n",
    "        \n",
    "        # Generate data\n",
    "        for i, ID in enumerate( list_IDs_temp ):\n",
    "                        \n",
    "            spcharray = np.asarray( sf.read(ID)[0] )       \n",
    "            X[i,] = np.expand_dims( spcharray, axis = 1 )\n",
    "            \n",
    "            # Store class\n",
    "            y[i] = self.labels[ID]\n",
    "\n",
    "        return X, keras.utils.to_categorical( y, num_classes = self.n_classes )       "
   ]
  },
  {
   "cell_type": "code",
   "execution_count": 14,
   "metadata": {},
   "outputs": [],
   "source": [
    "from tensorflow.keras.models import Sequential\n",
    "\n",
    "# Parameters\n",
    "params = {'dim': (110250, 1),\n",
    "          'batch_size': 100,\n",
    "          'n_classes': 10,\n",
    "          'shuffle': True,\n",
    "         'data_set': 0}\n",
    "\n",
    "# Generators\n",
    "training_generator   = DataGenerator(partition['train'], labels, **params)\n",
    "\n",
    "params2 = {'dim': (110250, 1),\n",
    "          'batch_size': 100,\n",
    "          'n_classes': 10,\n",
    "          'shuffle': True,\n",
    "         'data_set': 1}\n",
    "\n",
    "validation_generator = DataGenerator(partition['valid'], labels, **params2)"
   ]
  },
  {
   "cell_type": "code",
   "execution_count": 15,
   "metadata": {},
   "outputs": [],
   "source": [
    "frame_size = 110250\n",
    "nb_classes = 10"
   ]
  },
  {
   "cell_type": "code",
   "execution_count": 16,
   "metadata": {},
   "outputs": [],
   "source": [
    "def model_5layer():\n",
    "    from tensorflow.keras.layers import Input, Dense\n",
    "    from tensorflow.keras.layers import AveragePooling1D, Conv1D, MaxPool1D, Flatten\n",
    "    from tensorflow.keras.models import Model\n",
    "    from tensorflow.keras import initializers\n",
    "    from tensorflow.keras.callbacks import ModelCheckpoint\n",
    "    from tensorflow.keras.layers import LeakyReLU    \n",
    "    \n",
    "    from tensorflow.keras import optimizers\n",
    "    from tensorflow.keras.layers import BatchNormalization\n",
    "    from tensorflow.keras.layers import Dropout\n",
    "    \n",
    "    import tensorflow.keras.initializers as init\n",
    "    from tensorflow.keras.regularizers import l2\n",
    "    \n",
    "    inp =  Input( shape = (frame_size,1) )\n",
    "    #----------------------\n",
    "    conv1 = Conv1D(filters = 64, kernel_size = 7, activation = 'relu', padding = \"valid\", kernel_initializer = 'he_uniform')(inp)\n",
    "    norm1 = BatchNormalization()(conv1)\n",
    "    pool1 = MaxPool1D(pool_size = 3, strides = 3)(norm1)\n",
    "    #----------------------\n",
    "    conv2 = Conv1D(filters = 64, kernel_size = 7, strides = 1, activation = 'relu', padding = 'same',  kernel_initializer = 'he_uniform')(pool1)\n",
    "    norm2 = BatchNormalization()(conv2)\n",
    "    pool2 = MaxPool1D(pool_size = 3, strides = 3)(norm2)\n",
    "    #----------------------\n",
    "    conv3 = Conv1D(filters = 64, kernel_size = 3, strides = 1, activation = 'relu', padding = 'same',  kernel_initializer = 'he_uniform' )(pool2)\n",
    "    norm3 = BatchNormalization()(conv3)\n",
    "    pool3 = MaxPool1D(pool_size = 3, strides = 3)(norm3)\n",
    "    #----------------------\n",
    "    conv4 = Conv1D(filters = 64, kernel_size = 3, strides = 1, activation = 'relu', padding = 'same',  kernel_initializer = 'he_uniform' )(pool3)\n",
    "    norm4 = BatchNormalization()(conv4)\n",
    "    pool4 = MaxPool1D(pool_size = 3, strides = 3)(norm4)\n",
    "    #----------------------\n",
    "    conv5 = Conv1D(filters = 64, kernel_size = 3, strides = 1, activation = 'relu', padding = 'same',  kernel_initializer = 'he_uniform' )(pool4)\n",
    "    norm5 = BatchNormalization()(conv5)\n",
    "    pool5 = MaxPool1D(pool_size = 3, strides = 3)(norm5)\n",
    "   \n",
    "    \n",
    "    drop = Dropout(0.5)(pool5)\n",
    "\n",
    "    flat = Flatten()(drop)\n",
    "    \n",
    "    dense = Dense(nb_classes, activation='sigmoid')(flat)\n",
    "    model  = Model(inp, dense)\n",
    "\n",
    "    model.compile(loss='categorical_crossentropy',\n",
    "              optimizer=optimizers.Adadelta(lr=1.0, rho=0.95, epsilon=1e-08, decay=0.0)\n",
    "              ,metrics=['accuracy'])\n",
    "    \n",
    "    model.summary()\n",
    "    \n",
    "    return model"
   ]
  },
  {
   "cell_type": "code",
   "execution_count": 17,
   "metadata": {},
   "outputs": [
    {
     "name": "stdout",
     "output_type": "stream",
     "text": [
      "Model: \"model\"\n",
      "_________________________________________________________________\n",
      "Layer (type)                 Output Shape              Param #   \n",
      "=================================================================\n",
      "input_1 (InputLayer)         [(None, 110250, 1)]       0         \n",
      "_________________________________________________________________\n",
      "conv1d (Conv1D)              (None, 110244, 64)        512       \n",
      "_________________________________________________________________\n",
      "batch_normalization (BatchNo (None, 110244, 64)        256       \n",
      "_________________________________________________________________\n",
      "max_pooling1d (MaxPooling1D) (None, 36748, 64)         0         \n",
      "_________________________________________________________________\n",
      "conv1d_1 (Conv1D)            (None, 36748, 64)         28736     \n",
      "_________________________________________________________________\n",
      "batch_normalization_1 (Batch (None, 36748, 64)         256       \n",
      "_________________________________________________________________\n",
      "max_pooling1d_1 (MaxPooling1 (None, 12249, 64)         0         \n",
      "_________________________________________________________________\n",
      "conv1d_2 (Conv1D)            (None, 12249, 64)         12352     \n",
      "_________________________________________________________________\n",
      "batch_normalization_2 (Batch (None, 12249, 64)         256       \n",
      "_________________________________________________________________\n",
      "max_pooling1d_2 (MaxPooling1 (None, 4083, 64)          0         \n",
      "_________________________________________________________________\n",
      "conv1d_3 (Conv1D)            (None, 4083, 64)          12352     \n",
      "_________________________________________________________________\n",
      "batch_normalization_3 (Batch (None, 4083, 64)          256       \n",
      "_________________________________________________________________\n",
      "max_pooling1d_3 (MaxPooling1 (None, 1361, 64)          0         \n",
      "_________________________________________________________________\n",
      "conv1d_4 (Conv1D)            (None, 1361, 64)          12352     \n",
      "_________________________________________________________________\n",
      "batch_normalization_4 (Batch (None, 1361, 64)          256       \n",
      "_________________________________________________________________\n",
      "max_pooling1d_4 (MaxPooling1 (None, 453, 64)           0         \n",
      "_________________________________________________________________\n",
      "dropout (Dropout)            (None, 453, 64)           0         \n",
      "_________________________________________________________________\n",
      "flatten (Flatten)            (None, 28992)             0         \n",
      "_________________________________________________________________\n",
      "dense (Dense)                (None, 10)                289930    \n",
      "=================================================================\n",
      "Total params: 357,514\n",
      "Trainable params: 356,874\n",
      "Non-trainable params: 640\n",
      "_________________________________________________________________\n",
      "XXXXYYYYXXXXX.best.hdf5\n"
     ]
    }
   ],
   "source": [
    "from tensorflow.keras.callbacks import ModelCheckpoint, EarlyStopping\n",
    "from livelossplot    import PlotLossesKeras\n",
    "from tensorflow.keras           import optimizers\n",
    "\n",
    "# Generating the model \n",
    "model = model_5layer()\n",
    "\n",
    "# Checkpoints \n",
    "str1     = \"XXXXYYYYXXXXX\"\n",
    "str2     = \".best.hdf5\" \n",
    "file_path = str1 + str2 \n",
    "print( file_path )\n",
    "\n",
    "checkpointer = ModelCheckpoint(monitor='val_accuracy', mode='max', filepath = file_path,\n",
    "                               save_best_only=True, verbose=1 ) \n",
    "earlystopper = EarlyStopping(monitor='val_accuracy', min_delta=0, patience=20, verbose=0,\n",
    "                             mode='max', baseline=None, restore_best_weights=True)\n",
    "\n",
    "callbacks_list = [checkpointer, earlystopper, PlotLossesKeras()]"
   ]
  },
  {
   "cell_type": "code",
   "execution_count": 18,
   "metadata": {},
   "outputs": [
    {
     "name": "stderr",
     "output_type": "stream",
     "text": [
      "/home/aq53590/.local/lib/python3.6/site-packages/tensorflow/python/keras/engine/training.py:1844: UserWarning: `Model.fit_generator` is deprecated and will be removed in a future version. Please use `Model.fit`, which supports generators.\n",
      "  warnings.warn('`Model.fit_generator` is deprecated and '\n"
     ]
    },
    {
     "name": "stdout",
     "output_type": "stream",
     "text": [
      "Epoch 1/30\n",
      "24/70 [=========>....................] - ETA: 11:03 - loss: 4.9070 - accuracy: 0.2361"
     ]
    },
    {
     "ename": "KeyboardInterrupt",
     "evalue": "",
     "output_type": "error",
     "traceback": [
      "\u001b[0;31m---------------------------------------------------------------------------\u001b[0m",
      "\u001b[0;31mKeyboardInterrupt\u001b[0m                         Traceback (most recent call last)",
      "\u001b[0;32m<ipython-input-18-c431375cac33>\u001b[0m in \u001b[0;36m<module>\u001b[0;34m\u001b[0m\n\u001b[1;32m      2\u001b[0m                     \u001b[0mepochs\u001b[0m   \u001b[0;34m=\u001b[0m \u001b[0;36m30\u001b[0m\u001b[0;34m,\u001b[0m\u001b[0;34m\u001b[0m\u001b[0;34m\u001b[0m\u001b[0m\n\u001b[1;32m      3\u001b[0m                     \u001b[0mvalidation_data\u001b[0m \u001b[0;34m=\u001b[0m \u001b[0mvalidation_generator\u001b[0m\u001b[0;34m,\u001b[0m\u001b[0;34m\u001b[0m\u001b[0;34m\u001b[0m\u001b[0m\n\u001b[0;32m----> 4\u001b[0;31m                     \u001b[0mcallbacks\u001b[0m \u001b[0;34m=\u001b[0m \u001b[0;34m[\u001b[0m\u001b[0mPlotLossesKeras\u001b[0m\u001b[0;34m(\u001b[0m\u001b[0;34m)\u001b[0m\u001b[0;34m,\u001b[0m \u001b[0mcheckpointer\u001b[0m\u001b[0;34m,\u001b[0m \u001b[0mearlystopper\u001b[0m \u001b[0;34m]\u001b[0m\u001b[0;34m\u001b[0m\u001b[0;34m\u001b[0m\u001b[0m\n\u001b[0m\u001b[1;32m      5\u001b[0m                     )\n",
      "\u001b[0;32m~/.local/lib/python3.6/site-packages/tensorflow/python/keras/engine/training.py\u001b[0m in \u001b[0;36mfit_generator\u001b[0;34m(self, generator, steps_per_epoch, epochs, verbose, callbacks, validation_data, validation_steps, validation_freq, class_weight, max_queue_size, workers, use_multiprocessing, shuffle, initial_epoch)\u001b[0m\n\u001b[1;32m   1859\u001b[0m         \u001b[0muse_multiprocessing\u001b[0m\u001b[0;34m=\u001b[0m\u001b[0muse_multiprocessing\u001b[0m\u001b[0;34m,\u001b[0m\u001b[0;34m\u001b[0m\u001b[0;34m\u001b[0m\u001b[0m\n\u001b[1;32m   1860\u001b[0m         \u001b[0mshuffle\u001b[0m\u001b[0;34m=\u001b[0m\u001b[0mshuffle\u001b[0m\u001b[0;34m,\u001b[0m\u001b[0;34m\u001b[0m\u001b[0;34m\u001b[0m\u001b[0m\n\u001b[0;32m-> 1861\u001b[0;31m         initial_epoch=initial_epoch)\n\u001b[0m\u001b[1;32m   1862\u001b[0m \u001b[0;34m\u001b[0m\u001b[0m\n\u001b[1;32m   1863\u001b[0m   def evaluate_generator(self,\n",
      "\u001b[0;32m~/.local/lib/python3.6/site-packages/tensorflow/python/keras/engine/training.py\u001b[0m in \u001b[0;36mfit\u001b[0;34m(self, x, y, batch_size, epochs, verbose, callbacks, validation_split, validation_data, shuffle, class_weight, sample_weight, initial_epoch, steps_per_epoch, validation_steps, validation_batch_size, validation_freq, max_queue_size, workers, use_multiprocessing)\u001b[0m\n\u001b[1;32m   1098\u001b[0m                 _r=1):\n\u001b[1;32m   1099\u001b[0m               \u001b[0mcallbacks\u001b[0m\u001b[0;34m.\u001b[0m\u001b[0mon_train_batch_begin\u001b[0m\u001b[0;34m(\u001b[0m\u001b[0mstep\u001b[0m\u001b[0;34m)\u001b[0m\u001b[0;34m\u001b[0m\u001b[0;34m\u001b[0m\u001b[0m\n\u001b[0;32m-> 1100\u001b[0;31m               \u001b[0mtmp_logs\u001b[0m \u001b[0;34m=\u001b[0m \u001b[0mself\u001b[0m\u001b[0;34m.\u001b[0m\u001b[0mtrain_function\u001b[0m\u001b[0;34m(\u001b[0m\u001b[0miterator\u001b[0m\u001b[0;34m)\u001b[0m\u001b[0;34m\u001b[0m\u001b[0;34m\u001b[0m\u001b[0m\n\u001b[0m\u001b[1;32m   1101\u001b[0m               \u001b[0;32mif\u001b[0m \u001b[0mdata_handler\u001b[0m\u001b[0;34m.\u001b[0m\u001b[0mshould_sync\u001b[0m\u001b[0;34m:\u001b[0m\u001b[0;34m\u001b[0m\u001b[0;34m\u001b[0m\u001b[0m\n\u001b[1;32m   1102\u001b[0m                 \u001b[0mcontext\u001b[0m\u001b[0;34m.\u001b[0m\u001b[0masync_wait\u001b[0m\u001b[0;34m(\u001b[0m\u001b[0;34m)\u001b[0m\u001b[0;34m\u001b[0m\u001b[0;34m\u001b[0m\u001b[0m\n",
      "\u001b[0;32m~/.local/lib/python3.6/site-packages/tensorflow/python/eager/def_function.py\u001b[0m in \u001b[0;36m__call__\u001b[0;34m(self, *args, **kwds)\u001b[0m\n\u001b[1;32m    826\u001b[0m     \u001b[0mtracing_count\u001b[0m \u001b[0;34m=\u001b[0m \u001b[0mself\u001b[0m\u001b[0;34m.\u001b[0m\u001b[0mexperimental_get_tracing_count\u001b[0m\u001b[0;34m(\u001b[0m\u001b[0;34m)\u001b[0m\u001b[0;34m\u001b[0m\u001b[0;34m\u001b[0m\u001b[0m\n\u001b[1;32m    827\u001b[0m     \u001b[0;32mwith\u001b[0m \u001b[0mtrace\u001b[0m\u001b[0;34m.\u001b[0m\u001b[0mTrace\u001b[0m\u001b[0;34m(\u001b[0m\u001b[0mself\u001b[0m\u001b[0;34m.\u001b[0m\u001b[0m_name\u001b[0m\u001b[0;34m)\u001b[0m \u001b[0;32mas\u001b[0m \u001b[0mtm\u001b[0m\u001b[0;34m:\u001b[0m\u001b[0;34m\u001b[0m\u001b[0;34m\u001b[0m\u001b[0m\n\u001b[0;32m--> 828\u001b[0;31m       \u001b[0mresult\u001b[0m \u001b[0;34m=\u001b[0m \u001b[0mself\u001b[0m\u001b[0;34m.\u001b[0m\u001b[0m_call\u001b[0m\u001b[0;34m(\u001b[0m\u001b[0;34m*\u001b[0m\u001b[0margs\u001b[0m\u001b[0;34m,\u001b[0m \u001b[0;34m**\u001b[0m\u001b[0mkwds\u001b[0m\u001b[0;34m)\u001b[0m\u001b[0;34m\u001b[0m\u001b[0;34m\u001b[0m\u001b[0m\n\u001b[0m\u001b[1;32m    829\u001b[0m       \u001b[0mcompiler\u001b[0m \u001b[0;34m=\u001b[0m \u001b[0;34m\"xla\"\u001b[0m \u001b[0;32mif\u001b[0m \u001b[0mself\u001b[0m\u001b[0;34m.\u001b[0m\u001b[0m_experimental_compile\u001b[0m \u001b[0;32melse\u001b[0m \u001b[0;34m\"nonXla\"\u001b[0m\u001b[0;34m\u001b[0m\u001b[0;34m\u001b[0m\u001b[0m\n\u001b[1;32m    830\u001b[0m       \u001b[0mnew_tracing_count\u001b[0m \u001b[0;34m=\u001b[0m \u001b[0mself\u001b[0m\u001b[0;34m.\u001b[0m\u001b[0mexperimental_get_tracing_count\u001b[0m\u001b[0;34m(\u001b[0m\u001b[0;34m)\u001b[0m\u001b[0;34m\u001b[0m\u001b[0;34m\u001b[0m\u001b[0m\n",
      "\u001b[0;32m~/.local/lib/python3.6/site-packages/tensorflow/python/eager/def_function.py\u001b[0m in \u001b[0;36m_call\u001b[0;34m(self, *args, **kwds)\u001b[0m\n\u001b[1;32m    853\u001b[0m       \u001b[0;31m# In this case we have created variables on the first call, so we run the\u001b[0m\u001b[0;34m\u001b[0m\u001b[0;34m\u001b[0m\u001b[0;34m\u001b[0m\u001b[0m\n\u001b[1;32m    854\u001b[0m       \u001b[0;31m# defunned version which is guaranteed to never create variables.\u001b[0m\u001b[0;34m\u001b[0m\u001b[0;34m\u001b[0m\u001b[0;34m\u001b[0m\u001b[0m\n\u001b[0;32m--> 855\u001b[0;31m       \u001b[0;32mreturn\u001b[0m \u001b[0mself\u001b[0m\u001b[0;34m.\u001b[0m\u001b[0m_stateless_fn\u001b[0m\u001b[0;34m(\u001b[0m\u001b[0;34m*\u001b[0m\u001b[0margs\u001b[0m\u001b[0;34m,\u001b[0m \u001b[0;34m**\u001b[0m\u001b[0mkwds\u001b[0m\u001b[0;34m)\u001b[0m  \u001b[0;31m# pylint: disable=not-callable\u001b[0m\u001b[0;34m\u001b[0m\u001b[0;34m\u001b[0m\u001b[0m\n\u001b[0m\u001b[1;32m    856\u001b[0m     \u001b[0;32melif\u001b[0m \u001b[0mself\u001b[0m\u001b[0;34m.\u001b[0m\u001b[0m_stateful_fn\u001b[0m \u001b[0;32mis\u001b[0m \u001b[0;32mnot\u001b[0m \u001b[0;32mNone\u001b[0m\u001b[0;34m:\u001b[0m\u001b[0;34m\u001b[0m\u001b[0;34m\u001b[0m\u001b[0m\n\u001b[1;32m    857\u001b[0m       \u001b[0;31m# Release the lock early so that multiple threads can perform the call\u001b[0m\u001b[0;34m\u001b[0m\u001b[0;34m\u001b[0m\u001b[0;34m\u001b[0m\u001b[0m\n",
      "\u001b[0;32m~/.local/lib/python3.6/site-packages/tensorflow/python/eager/function.py\u001b[0m in \u001b[0;36m__call__\u001b[0;34m(self, *args, **kwargs)\u001b[0m\n\u001b[1;32m   2941\u001b[0m        filtered_flat_args) = self._maybe_define_function(args, kwargs)\n\u001b[1;32m   2942\u001b[0m     return graph_function._call_flat(\n\u001b[0;32m-> 2943\u001b[0;31m         filtered_flat_args, captured_inputs=graph_function.captured_inputs)  # pylint: disable=protected-access\n\u001b[0m\u001b[1;32m   2944\u001b[0m \u001b[0;34m\u001b[0m\u001b[0m\n\u001b[1;32m   2945\u001b[0m   \u001b[0;34m@\u001b[0m\u001b[0mproperty\u001b[0m\u001b[0;34m\u001b[0m\u001b[0;34m\u001b[0m\u001b[0m\n",
      "\u001b[0;32m~/.local/lib/python3.6/site-packages/tensorflow/python/eager/function.py\u001b[0m in \u001b[0;36m_call_flat\u001b[0;34m(self, args, captured_inputs, cancellation_manager)\u001b[0m\n\u001b[1;32m   1917\u001b[0m       \u001b[0;31m# No tape is watching; skip to running the function.\u001b[0m\u001b[0;34m\u001b[0m\u001b[0;34m\u001b[0m\u001b[0;34m\u001b[0m\u001b[0m\n\u001b[1;32m   1918\u001b[0m       return self._build_call_outputs(self._inference_function.call(\n\u001b[0;32m-> 1919\u001b[0;31m           ctx, args, cancellation_manager=cancellation_manager))\n\u001b[0m\u001b[1;32m   1920\u001b[0m     forward_backward = self._select_forward_and_backward_functions(\n\u001b[1;32m   1921\u001b[0m         \u001b[0margs\u001b[0m\u001b[0;34m,\u001b[0m\u001b[0;34m\u001b[0m\u001b[0;34m\u001b[0m\u001b[0m\n",
      "\u001b[0;32m~/.local/lib/python3.6/site-packages/tensorflow/python/eager/function.py\u001b[0m in \u001b[0;36mcall\u001b[0;34m(self, ctx, args, cancellation_manager)\u001b[0m\n\u001b[1;32m    558\u001b[0m               \u001b[0minputs\u001b[0m\u001b[0;34m=\u001b[0m\u001b[0margs\u001b[0m\u001b[0;34m,\u001b[0m\u001b[0;34m\u001b[0m\u001b[0;34m\u001b[0m\u001b[0m\n\u001b[1;32m    559\u001b[0m               \u001b[0mattrs\u001b[0m\u001b[0;34m=\u001b[0m\u001b[0mattrs\u001b[0m\u001b[0;34m,\u001b[0m\u001b[0;34m\u001b[0m\u001b[0;34m\u001b[0m\u001b[0m\n\u001b[0;32m--> 560\u001b[0;31m               ctx=ctx)\n\u001b[0m\u001b[1;32m    561\u001b[0m         \u001b[0;32melse\u001b[0m\u001b[0;34m:\u001b[0m\u001b[0;34m\u001b[0m\u001b[0;34m\u001b[0m\u001b[0m\n\u001b[1;32m    562\u001b[0m           outputs = execute.execute_with_cancellation(\n",
      "\u001b[0;32m~/.local/lib/python3.6/site-packages/tensorflow/python/eager/execute.py\u001b[0m in \u001b[0;36mquick_execute\u001b[0;34m(op_name, num_outputs, inputs, attrs, ctx, name)\u001b[0m\n\u001b[1;32m     58\u001b[0m     \u001b[0mctx\u001b[0m\u001b[0;34m.\u001b[0m\u001b[0mensure_initialized\u001b[0m\u001b[0;34m(\u001b[0m\u001b[0;34m)\u001b[0m\u001b[0;34m\u001b[0m\u001b[0;34m\u001b[0m\u001b[0m\n\u001b[1;32m     59\u001b[0m     tensors = pywrap_tfe.TFE_Py_Execute(ctx._handle, device_name, op_name,\n\u001b[0;32m---> 60\u001b[0;31m                                         inputs, attrs, num_outputs)\n\u001b[0m\u001b[1;32m     61\u001b[0m   \u001b[0;32mexcept\u001b[0m \u001b[0mcore\u001b[0m\u001b[0;34m.\u001b[0m\u001b[0m_NotOkStatusException\u001b[0m \u001b[0;32mas\u001b[0m \u001b[0me\u001b[0m\u001b[0;34m:\u001b[0m\u001b[0;34m\u001b[0m\u001b[0;34m\u001b[0m\u001b[0m\n\u001b[1;32m     62\u001b[0m     \u001b[0;32mif\u001b[0m \u001b[0mname\u001b[0m \u001b[0;32mis\u001b[0m \u001b[0;32mnot\u001b[0m \u001b[0;32mNone\u001b[0m\u001b[0;34m:\u001b[0m\u001b[0;34m\u001b[0m\u001b[0;34m\u001b[0m\u001b[0m\n",
      "\u001b[0;31mKeyboardInterrupt\u001b[0m: "
     ]
    }
   ],
   "source": [
    "history = model.fit_generator(generator = training_generator,\n",
    "                    epochs   = 30,\n",
    "                    validation_data = validation_generator,\n",
    "                    callbacks = [PlotLossesKeras(), checkpointer, earlystopper ]\n",
    "                    )"
   ]
  },
  {
   "cell_type": "code",
   "execution_count": 22,
   "metadata": {},
   "outputs": [
    {
     "data": {
      "image/png": "[encoded data removed]",
      "text/plain": [
       "<Figure size 432x288 with 1 Axes>"
      ]
     },
     "metadata": {
      "needs_background": "light"
     },
     "output_type": "display_data"
    }
   ],
   "source": [
    "import matplotlib.pyplot as plt\n",
    "\n",
    "#summarizing the history for accuracy\n",
    "plt.plot(history.history['accuracy'])\n",
    "plt.plot(history.history['val_accuracy'])\n",
    "plt.title('model accuracy')\n",
    "plt.ylabel('accuracy')\n",
    "plt.xlabel('epoch')\n",
    "plt.legend(['train', 'valid'], loc='upper left')\n",
    "plt.savefig(\"Accuracy5LayerCNN.png\")\n",
    "plt.show()"
   ]
  },
  {
   "cell_type": "code",
   "execution_count": 24,
   "metadata": {},
   "outputs": [
    {
     "data": {
      "image/png": "[encoded data removed]",
      "text/plain": [
       "<Figure size 432x288 with 1 Axes>"
      ]
     },
     "metadata": {
      "needs_background": "light"
     },
     "output_type": "display_data"
    }
   ],
   "source": [
    "# summarize history for loss\n",
    "plt.plot(history.history['loss'])\n",
    "plt.plot(history.history['val_loss'])\n",
    "plt.title('model loss')\n",
    "plt.ylabel('loss')\n",
    "plt.xlabel('epoch')\n",
    "plt.legend(['train', 'valid'], loc='upper left')\n",
    "plt.savefig(\"Loss5LayerCNN.png\")\n",
    "plt.show()"
   ]
  },
  {
   "cell_type": "code",
   "execution_count": null,
   "metadata": {},
   "outputs": [],
   "source": []
  }
 ],
 "metadata": {
  "kernelspec": {
   "display_name": "Python 3",
   "language": "python",
   "name": "python3"
  },
  "language_info": {
   "codemirror_mode": {
    "name": "ipython",
    "version": 3
   },
   "file_extension": ".py",
   "mimetype": "text/x-python",
   "name": "python",
   "nbconvert_exporter": "python",
   "pygments_lexer": "ipython3",
   "version": "3.6.9"
  }
 },
 "nbformat": 4,
 "nbformat_minor": 4
}
