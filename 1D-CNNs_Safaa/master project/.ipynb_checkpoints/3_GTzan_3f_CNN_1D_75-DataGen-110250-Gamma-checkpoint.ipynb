{
 "cells": [
  {
   "cell_type": "markdown",
   "metadata": {
    "collapsed": true,
    "scrolled": true
   },
   "source": [
    "# End to end CNN for GTzan music classification EnvCNN\n",
    "\n",
    "\n",
    "### WINDOWED Version\n",
    "\n",
    "#### Adapted by AL Koerich\n",
    "\n",
    "### To GTzan 3-fold with Data Generator to Create Batches (no augmentation)\n",
    "\n",
    "##### Ver 1: 2 November 2019"
   ]
  },
  {
   "cell_type": "markdown",
   "metadata": {},
   "source": [
    "### Import Modules"
   ]
  },
  {
   "cell_type": "code",
   "execution_count": 1,
   "metadata": {
    "scrolled": true
   },
   "outputs": [
    {
     "name": "stdout",
     "output_type": "stream",
     "text": [
      "2.4.1\n"
     ]
    }
   ],
   "source": [
    "from __future__ import absolute_import, division, print_function, unicode_literals\n",
    "import numpy as np\n",
    "import os\n",
    "import soundfile as sf\n",
    "import math\n",
    "import tensorflow as tf\n",
    "from tensorflow import keras\n",
    "\n",
    "print(tf.version.VERSION)"
   ]
  },
  {
   "cell_type": "markdown",
   "metadata": {},
   "source": [
    "### Configure TensorFlow and GPUs"
   ]
  },
  {
   "cell_type": "code",
   "execution_count": 2,
   "metadata": {},
   "outputs": [],
   "source": [
    "with tf.compat.v1.Session() as sess:\n",
    "  devices = sess.list_devices()\n",
    "devices\n",
    "\n",
    "os.environ[\"CUDA_VISIBLE_DEVICES\"]=\"0\"\n",
    "config = tf.compat.v1.ConfigProto( )\n",
    "config.gpu_options.allow_growth = True\n",
    "sess   =  tf.compat.v1.Session(config=config)\n",
    "\n",
    "import tensorflow.keras.backend as tf_bkend\n",
    "tf.compat.v1.keras.backend.set_session(sess)"
   ]
  },
  {
   "cell_type": "markdown",
   "metadata": {},
   "source": [
    "### Define Path to Segmented Files"
   ]
  },
  {
   "cell_type": "code",
   "execution_count": 3,
   "metadata": {},
   "outputs": [],
   "source": [
    "# Path to destination files 3-fold, 22050 * 1s = 110,250 inputs, overlapping 75 \n",
    "path3      = '../GTzan_3f_Win_110250_75_safaa'\n",
    "#STFT-Griffin\n",
    "#MF\n",
    "frame_size = 110250\n",
    "nb_classes = 10"
   ]
  },
  {
   "cell_type": "markdown",
   "metadata": {},
   "source": [
    "### List Files"
   ]
  },
  {
   "cell_type": "code",
   "execution_count": 4,
   "metadata": {},
   "outputs": [
    {
     "name": "stdout",
     "output_type": "stream",
     "text": [
      "Files processed: 20990\n"
     ]
    }
   ],
   "source": [
    "file_list = []\n",
    "i = 0 \n",
    "for path, subdirs, files in os.walk( path3 ):\n",
    "    for name in files:\n",
    "        file_list.append( os.path.join( path, name) )\n",
    "        i += 1\n",
    "print(\"Files processed: \"+str(i) )"
   ]
  },
  {
   "cell_type": "markdown",
   "metadata": {},
   "source": [
    "### Define Training, Validation and Test Folds"
   ]
  },
  {
   "cell_type": "code",
   "execution_count": 5,
   "metadata": {},
   "outputs": [],
   "source": [
    "Train = \"fold1\"\n",
    "Valid = \"fold2\"\n",
    "Test  = \"fold3\""
   ]
  },
  {
   "cell_type": "markdown",
   "metadata": {},
   "source": [
    "### Put all Filenames in Two Lists"
   ]
  },
  {
   "cell_type": "code",
   "execution_count": 7,
   "metadata": {},
   "outputs": [
    {
     "name": "stdout",
     "output_type": "stream",
     "text": [
      "Files processed: 20990\n",
      "Train files    : 7011\n",
      "Valid files    : 6989\n",
      "Test  files    : 6990\n"
     ]
    }
   ],
   "source": [
    "train_list = []\n",
    "valid_list = []\n",
    "test_list  = []\n",
    "\n",
    "train_path = []\n",
    "valid_path = []\n",
    "test_path  = []\n",
    "\n",
    "train_label_list = []\n",
    "valid_label_list = []\n",
    "test_label_list  = []\n",
    "\n",
    "train_seg_list = []\n",
    "valid_seg_list = []\n",
    "test_seg_list  = []\n",
    "\n",
    "choices = {'blues': 0, 'classical': 1, 'country': 2, 'disco': 3, 'hiphop': 4, 'jazz': 5,\n",
    "           'metal': 6, 'pop': 7, 'reggae': 8, 'rock': 9}\n",
    "\n",
    "i = 0 \n",
    "for path, subdirs, files in os.walk( path3):\n",
    "    for name in files:\n",
    "        fold_id    = path.split('/')[2]\n",
    "        # Replace the 2-character string by a number according to choices\n",
    "        label_id     = choices.get( path.split('/')[3], 99 )\n",
    "        track_id     = name[0:].split('.')[0]\n",
    "        track_id_t   = int(name[0:].split('.')[0].split('_')[0])\n",
    "        seg_id       = int(name.split('.')[0].split('_')[1])\n",
    "        full_path_id = path+'/'+name\n",
    "        #if fold_id == Train:\n",
    "        if fold_id == Train:\n",
    "            train_list.append( track_id )\n",
    "            train_path.append( full_path_id )\n",
    "            train_label_list.append( label_id )\n",
    "            train_seg_list.append( seg_id )\n",
    "        if fold_id == Valid:\n",
    "            valid_list.append( track_id )\n",
    "            valid_path.append( full_path_id )\n",
    "            valid_label_list.append( label_id )\n",
    "            valid_seg_list.append( seg_id )\n",
    "        if fold_id == Test:\n",
    "            test_list.append( track_id_t )\n",
    "            test_path.append( full_path_id )\n",
    "            test_label_list.append( label_id )\n",
    "            test_seg_list.append( seg_id )\n",
    "        i += 1\n",
    "print(\"Files processed: \"+str(i) )\n",
    "print(\"Train files    : \"+str(len(train_list)) )\n",
    "print(\"Valid files    : \"+str(len(valid_list)) )\n",
    "print(\"Test  files    : \"+str(len(test_list)) )"
   ]
  },
  {
   "cell_type": "code",
   "execution_count": 8,
   "metadata": {},
   "outputs": [
    {
     "data": {
      "text/plain": [
       "'../GTzan_3f_Win_110250_75_safaa/fold1/rock/974_11.wav'"
      ]
     },
     "execution_count": 8,
     "metadata": {},
     "output_type": "execute_result"
    }
   ],
   "source": [
    "full_path_id"
   ]
  },
  {
   "cell_type": "code",
   "execution_count": 9,
   "metadata": {},
   "outputs": [],
   "source": [
    "partition = {}\n",
    "partition['train'] = train_path\n",
    "partition['valid'] = valid_path\n",
    "partition['test']  = test_path"
   ]
  },
  {
   "cell_type": "code",
   "execution_count": 10,
   "metadata": {},
   "outputs": [],
   "source": [
    "labels = {}\n",
    "for i in range(len(train_path)):\n",
    "    labels[train_path[i]] = train_label_list[i]\n",
    "    \n",
    "for i in range(len(valid_path)):\n",
    "    labels[valid_path[i]] = valid_label_list[i]\n",
    "    \n",
    "for i in range(len(test_path)):\n",
    "    labels[test_path[i]] = test_label_list[i]"
   ]
  },
  {
   "cell_type": "code",
   "execution_count": 11,
   "metadata": {},
   "outputs": [
    {
     "data": {
      "text/plain": [
       "(7011, 6989, 6990)"
      ]
     },
     "execution_count": 11,
     "metadata": {},
     "output_type": "execute_result"
    }
   ],
   "source": [
    "len(partition['train']), len(partition['valid']), len(partition['test']) "
   ]
  },
  {
   "cell_type": "code",
   "execution_count": 12,
   "metadata": {},
   "outputs": [
    {
     "data": {
      "text/plain": [
       "'../GTzan_3f_Win_110250_75_safaa/fold1/metal/689_20.wav'"
      ]
     },
     "execution_count": 12,
     "metadata": {},
     "output_type": "execute_result"
    }
   ],
   "source": [
    "train_path[0]"
   ]
  },
  {
   "cell_type": "markdown",
   "metadata": {},
   "source": [
    "### Data Generator to Create Batches\n",
    "\n",
    "##### https://stanford.edu/~shervine/blog/keras-how-to-generate-data-on-the-fly"
   ]
  },
  {
   "cell_type": "code",
   "execution_count": 13,
   "metadata": {},
   "outputs": [],
   "source": [
    "class DataGenerator( keras.utils.Sequence ):\n",
    "    'Generates data for Keras'\n",
    "\n",
    "    def __init__(self, list_IDs, labels, batch_size = 100, dim = (110250, 1), n_classes = 10, shuffle = True, data_set = 0):\n",
    "        'Initialization'\n",
    "        self.dim        = dim\n",
    "        self.batch_size = batch_size\n",
    "        self.labels     = labels\n",
    "        self.list_IDs   = list_IDs\n",
    "        self.n_classes  = n_classes\n",
    "        self.shuffle    = shuffle\n",
    "        self.data_set   = data_set\n",
    "        self.on_epoch_end()\n",
    "        \n",
    "    def __len__(self):\n",
    "        'Denotes the number of batches per epoch'\n",
    "        return int( np.floor( len( self.list_IDs) / self.batch_size ) )\n",
    "        \n",
    "    def __getitem__(self, index):\n",
    "        'Generate one batch of data'\n",
    "        # Generate indexes of the batch\n",
    "        indexes = self.indexes[ index * self.batch_size:(index + 1) * self.batch_size ]\n",
    "\n",
    "        # Find list of IDs\n",
    "        list_IDs_temp = [self.list_IDs[k] for k in indexes]\n",
    "\n",
    "        # Generate data\n",
    "        X, y = self.__data_generation(list_IDs_temp)\n",
    "\n",
    "        return X, y\n",
    "        \n",
    "    def on_epoch_end(self):\n",
    "        'Updates indexes after each epoch'\n",
    "        self.indexes = np.arange( len(self.list_IDs) )\n",
    "        if self.shuffle == True:\n",
    "            np.random.shuffle( self.indexes )\n",
    "        \n",
    "    def __data_generation( self, list_IDs_temp ):\n",
    "        'Generates data containing batch_size samples' # X : (n_samples, *dim, n_channels)\n",
    "        # Initialization\n",
    "        X = np.empty( ( self.batch_size, *self.dim ) )\n",
    "        y = np.empty( ( self.batch_size ), dtype = int )\n",
    "        \n",
    "        # Generate data\n",
    "        for i, ID in enumerate( list_IDs_temp ):\n",
    "                        \n",
    "            spcharray = np.asarray( sf.read(ID)[0] )       \n",
    "            X[i,] = np.expand_dims( spcharray, axis = 1 )\n",
    "            \n",
    "            # Store class\n",
    "            y[i] = self.labels[ID]\n",
    "\n",
    "        return X, keras.utils.to_categorical( y, num_classes = self.n_classes )       "
   ]
  },
  {
   "cell_type": "code",
   "execution_count": 14,
   "metadata": {},
   "outputs": [],
   "source": [
    "from tensorflow.keras.models import Sequential\n",
    "\n",
    "# Parameters\n",
    "params = {'dim': (110250, 1),\n",
    "          'batch_size': 100,\n",
    "          'n_classes': 10,\n",
    "          'shuffle': True,\n",
    "         'data_set': 0}\n",
    "\n",
    "# Generators\n",
    "training_generator   = DataGenerator(partition['train'], labels, **params)\n",
    "\n",
    "params2 = {'dim': (110250, 1),\n",
    "          'batch_size': 100,\n",
    "          'n_classes': 10,\n",
    "          'shuffle': True,\n",
    "         'data_set': 1}\n",
    "\n",
    "validation_generator = DataGenerator(partition['valid'], labels, **params2)"
   ]
  },
  {
   "cell_type": "code",
   "execution_count": 15,
   "metadata": {},
   "outputs": [],
   "source": [
    "frame_size = 110250\n",
    "nb_classes = 10"
   ]
  },
  {
   "cell_type": "markdown",
   "metadata": {},
   "source": [
    "## Define CNN Model"
   ]
  },
  {
   "cell_type": "code",
   "execution_count": 16,
   "metadata": {},
   "outputs": [],
   "source": [
    "import scipy.io as sio\n",
    "contents_mat              = sio.loadmat('filters.mat')\n",
    "gammatone                 = contents_mat['filters']\n",
    "CNN_1st_layer_filters     = np.transpose(gammatone)\n",
    "CNN_1st_layer_filters_rev = np.zeros((512,32))\n",
    "for i in reversed(range(32)):\n",
    "    CNN_1st_layer_filters_rev[:,31-i]=CNN_1st_layer_filters[:,i]"
   ]
  },
  {
   "cell_type": "code",
   "execution_count": 17,
   "metadata": {},
   "outputs": [],
   "source": [
    "def model_generator_alenet_nov19_a():\n",
    "    from tensorflow.keras.layers import Input, Dense\n",
    "    from tensorflow.keras.layers import AveragePooling1D, Conv1D, MaxPool1D, Flatten\n",
    "    from tensorflow.keras.models import Model\n",
    "    from tensorflow.keras import initializers\n",
    "    from tensorflow.keras.callbacks import ModelCheckpoint\n",
    "    from tensorflow.keras.layers import LeakyReLU    \n",
    "    \n",
    "    from tensorflow.keras import optimizers\n",
    "    from tensorflow.keras.layers import BatchNormalization\n",
    "    from tensorflow.keras.layers import Dropout\n",
    "    \n",
    "    import tensorflow.keras.initializers as init\n",
    "    from tensorflow.keras.regularizers import l2\n",
    "    \n",
    "    inp =  Input( shape = (frame_size,1) )\n",
    "    #----------------------\n",
    "    conv1 = Conv1D(filters = 32, kernel_size = 512, activation ='relu',\n",
    "                   kernel_initializer = init.Constant(CNN_1st_layer_filters_rev), trainable = False)(inp)\n",
    "    norm1 = BatchNormalization()(conv1)\n",
    "    pool1 = AveragePooling1D(pool_size = 8, strides = 8)(norm1)\n",
    "    #----------------------\n",
    "    conv2 = Conv1D(filters = 16, kernel_size = 256, strides = 2, kernel_regularizer = l2(0.01) )(pool1)\n",
    "    norm2 = BatchNormalization()(conv2)\n",
    "    act2  = LeakyReLU(alpha = 0.1)(norm2)\n",
    "    pool2 = AveragePooling1D(pool_size = 8, strides = 8)(act2)\n",
    "    #----------------------\n",
    "    conv3 = Conv1D(filters = 32, kernel_size = 64, strides = 2, kernel_regularizer = l2(0.01) )(pool2)\n",
    "    norm3 = BatchNormalization()(conv3)\n",
    "    act3  = LeakyReLU(alpha = 0.1)(norm3)\n",
    "    #----------------------\n",
    "    conv4 = Conv1D(filters = 64, kernel_size = 32, strides = 2, kernel_regularizer = l2(0.01) )(act3)\n",
    "    norm4 = BatchNormalization()(conv4)\n",
    "    act4  = LeakyReLU(alpha = 0.1)(norm4)\n",
    "    #----------------------\n",
    "    conv5 = Conv1D(filters = 128, kernel_size = 16, strides = 2, kernel_regularizer = l2(0.01) )(act4)\n",
    "    norm5 = BatchNormalization()(conv5)\n",
    "    act5  = LeakyReLU(alpha = 0.1)(norm5)\n",
    "    \n",
    "    pool3 = MaxPool1D(pool_size = 2, strides = 2)(act5)\n",
    "\n",
    "    flat = Flatten()(pool3)\n",
    "\n",
    "    dense2 = Dense(256, activation = 'relu', kernel_initializer = initializers.glorot_uniform(seed = 0) )(flat)\n",
    "    drop2  = Dropout(0.4)(dense2)\n",
    "    \n",
    "    dense3 = Dense(nb_classes, activation='softmax')(drop2)\n",
    "    model  = Model(inp, dense3)\n",
    "\n",
    "    model.compile(loss='categorical_crossentropy',\n",
    "              optimizer=optimizers.Adadelta(lr=1.0, rho=0.95, epsilon=1e-08, decay=0.0)\n",
    "              ,metrics=['accuracy'])\n",
    "    \n",
    "    model.summary()\n",
    "    \n",
    "    return model"
   ]
  },
  {
   "cell_type": "code",
   "execution_count": 18,
   "metadata": {},
   "outputs": [
    {
     "name": "stdout",
     "output_type": "stream",
     "text": [
      "Model: \"model\"\n",
      "_________________________________________________________________\n",
      "Layer (type)                 Output Shape              Param #   \n",
      "=================================================================\n",
      "input_1 (InputLayer)         [(None, 110250, 1)]       0         \n",
      "_________________________________________________________________\n",
      "conv1d (Conv1D)              (None, 109739, 32)        16416     \n",
      "_________________________________________________________________\n",
      "batch_normalization (BatchNo (None, 109739, 32)        128       \n",
      "_________________________________________________________________\n",
      "average_pooling1d (AveragePo (None, 13717, 32)         0         \n",
      "_________________________________________________________________\n",
      "conv1d_1 (Conv1D)            (None, 6731, 16)          131088    \n",
      "_________________________________________________________________\n",
      "batch_normalization_1 (Batch (None, 6731, 16)          64        \n",
      "_________________________________________________________________\n",
      "leaky_re_lu (LeakyReLU)      (None, 6731, 16)          0         \n",
      "_________________________________________________________________\n",
      "average_pooling1d_1 (Average (None, 841, 16)           0         \n",
      "_________________________________________________________________\n",
      "conv1d_2 (Conv1D)            (None, 389, 32)           32800     \n",
      "_________________________________________________________________\n",
      "batch_normalization_2 (Batch (None, 389, 32)           128       \n",
      "_________________________________________________________________\n",
      "leaky_re_lu_1 (LeakyReLU)    (None, 389, 32)           0         \n",
      "_________________________________________________________________\n",
      "conv1d_3 (Conv1D)            (None, 179, 64)           65600     \n",
      "_________________________________________________________________\n",
      "batch_normalization_3 (Batch (None, 179, 64)           256       \n",
      "_________________________________________________________________\n",
      "leaky_re_lu_2 (LeakyReLU)    (None, 179, 64)           0         \n",
      "_________________________________________________________________\n",
      "conv1d_4 (Conv1D)            (None, 82, 128)           131200    \n",
      "_________________________________________________________________\n",
      "batch_normalization_4 (Batch (None, 82, 128)           512       \n",
      "_________________________________________________________________\n",
      "leaky_re_lu_3 (LeakyReLU)    (None, 82, 128)           0         \n",
      "_________________________________________________________________\n",
      "max_pooling1d (MaxPooling1D) (None, 41, 128)           0         \n",
      "_________________________________________________________________\n",
      "flatten (Flatten)            (None, 5248)              0         \n",
      "_________________________________________________________________\n",
      "dense (Dense)                (None, 256)               1343744   \n",
      "_________________________________________________________________\n",
      "dropout (Dropout)            (None, 256)               0         \n",
      "_________________________________________________________________\n",
      "dense_1 (Dense)              (None, 10)                2570      \n",
      "=================================================================\n",
      "Total params: 1,724,506\n",
      "Trainable params: 1,707,546\n",
      "Non-trainable params: 16,960\n",
      "_________________________________________________________________\n",
      "XXXXYYYYXXXXX.best.hdf5\n"
     ]
    }
   ],
   "source": [
    "from tensorflow.keras.callbacks import ModelCheckpoint, EarlyStopping\n",
    "from livelossplot    import PlotLossesKeras\n",
    "from tensorflow.keras           import optimizers\n",
    "\n",
    "# Generating the model \n",
    "model = model_generator_alenet_nov19_a()\n",
    "\n",
    "# Checkpoints \n",
    "str1     = \"XXXXYYYYXXXXX\"\n",
    "str2     = \".best.hdf5\" \n",
    "file_path = str1 + str2 \n",
    "print( file_path )\n",
    "\n",
    "checkpointer = ModelCheckpoint(monitor='val_accuracy', mode='max', filepath = file_path,\n",
    "                               save_best_only=True, verbose=1 ) \n",
    "earlystopper = EarlyStopping(monitor='val_accuracy', min_delta=0, patience=20, verbose=0,\n",
    "                             mode='max', baseline=None, restore_best_weights=True)\n",
    "\n",
    "callbacks_list = [checkpointer, earlystopper, PlotLossesKeras()]"
   ]
  },
  {
   "cell_type": "code",
   "execution_count": 32,
   "metadata": {
    "scrolled": false
   },
   "outputs": [
    {
     "data": {
      "image/png": "[encoded data removed]",
      "text/plain": [
       "<Figure size 864x576 with 2 Axes>"
      ]
     },
     "metadata": {
      "needs_background": "light"
     },
     "output_type": "display_data"
    },
    {
     "name": "stdout",
     "output_type": "stream",
     "text": [
      "accuracy\n",
      "\ttraining         \t (min:    0.344, max:    0.965, cur:    0.962)\n",
      "\tvalidation       \t (min:    0.100, max:    0.560, cur:    0.532)\n",
      "Loss\n",
      "\ttraining         \t (min:    0.323, max:    3.581, cur:    0.331)\n",
      "\tvalidation       \t (min:    2.253, max:    7.189, cur:    2.740)\n",
      "\n",
      "Epoch 00047: val_accuracy did not improve from 0.56014\n",
      "\b\b\b\b\b\b\b\b\b\b\b\b\b\b\b\b\b\b\b\b\b\b\b\b\b\b\b\b\b\b\b\b\b\b\b\b\b\b\b\b\b\b\b\b\b\b\b\b\b\b\b\b\b\b\b\b\b\b\b\b\b\b\b\b\b\b\b\b\b\b\b\b\b\b\b\b\b\b\b\b\b\b\r",
      "71/71 [==============================] - 35s 497ms/step - loss: 0.3278 - accuracy: 0.9652 - val_loss: 2.7400 - val_accuracy: 0.5317\n"
     ]
    },
    {
     "data": {
      "text/plain": [
       "<tensorflow.python.keras.callbacks.History at 0x7fc84c1126d0>"
      ]
     },
     "execution_count": 32,
     "metadata": {},
     "output_type": "execute_result"
    }
   ],
   "source": [
    "model.fit_generator(generator = training_generator,\n",
    "                    epochs   = 100,\n",
    "                    validation_data = validation_generator,\n",
    "                    callbacks = [PlotLossesKeras(), checkpointer, earlystopper ]\n",
    "                    )"
   ]
  },
  {
   "cell_type": "code",
   "execution_count": null,
   "metadata": {},
   "outputs": [],
   "source": [
    "print(\"Notebook Ended\")"
   ]
  }
 ],
 "metadata": {
  "kernelspec": {
   "display_name": "Python 3",
   "language": "python",
   "name": "python3"
  },
  "language_info": {
   "codemirror_mode": {
    "name": "ipython",
    "version": 3
   },
   "file_extension": ".py",
   "mimetype": "text/x-python",
   "name": "python",
   "nbconvert_exporter": "python",
   "pygments_lexer": "ipython3",
   "version": "3.6.9"
  }
 },
 "nbformat": 4,
 "nbformat_minor": 2
}
