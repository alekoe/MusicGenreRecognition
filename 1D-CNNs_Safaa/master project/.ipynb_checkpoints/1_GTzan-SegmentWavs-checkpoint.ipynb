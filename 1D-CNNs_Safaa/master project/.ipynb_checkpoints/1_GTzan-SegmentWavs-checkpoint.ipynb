{
 "cells": [
  {
   "cell_type": "markdown",
   "metadata": {},
   "source": [
    "# Segment a Wav Dataset into Frames of n Seconds with Overlapping\n",
    "\n",
    "## GTzan Dataset\n",
    "\n",
    "http://marsyasweb.appspot.com/download/data_sets/\n",
    "\n",
    "The dataset consists of 1,000 audio tracks each 30 seconds long.\n",
    "\n",
    "It contains 10 genres, each represented by 100 tracks.\n",
    "\n",
    "The tracks are all 22,050Hz Mono 16-bit audio files in .wav format.\n",
    "\n",
    "\n",
    "##### 8 May 2019\n",
    "#### Alessandro L. Koerich"
   ]
  },
  {
   "cell_type": "code",
   "execution_count": 1,
   "metadata": {},
   "outputs": [
    {
     "ename": "ModuleNotFoundError",
     "evalue": "No module named 'soundfile'",
     "output_type": "error",
     "traceback": [
      "\u001b[0;31m---------------------------------------------------------------------------\u001b[0m",
      "\u001b[0;31mModuleNotFoundError\u001b[0m                       Traceback (most recent call last)",
      "\u001b[0;32m<ipython-input-1-56b98c521eb9>\u001b[0m in \u001b[0;36m<module>\u001b[0;34m\u001b[0m\n\u001b[1;32m      1\u001b[0m \u001b[0;32mimport\u001b[0m \u001b[0mnumpy\u001b[0m \u001b[0;32mas\u001b[0m \u001b[0mnp\u001b[0m\u001b[0;34m\u001b[0m\u001b[0;34m\u001b[0m\u001b[0m\n\u001b[1;32m      2\u001b[0m \u001b[0;32mimport\u001b[0m \u001b[0mos\u001b[0m\u001b[0;34m\u001b[0m\u001b[0;34m\u001b[0m\u001b[0m\n\u001b[0;32m----> 3\u001b[0;31m \u001b[0;32mimport\u001b[0m \u001b[0msoundfile\u001b[0m \u001b[0;32mas\u001b[0m \u001b[0msf\u001b[0m\u001b[0;34m\u001b[0m\u001b[0;34m\u001b[0m\u001b[0m\n\u001b[0m\u001b[1;32m      4\u001b[0m \u001b[0;32mimport\u001b[0m \u001b[0mmath\u001b[0m\u001b[0;34m\u001b[0m\u001b[0;34m\u001b[0m\u001b[0m\n\u001b[1;32m      5\u001b[0m \u001b[0;34m\u001b[0m\u001b[0m\n",
      "\u001b[0;31mModuleNotFoundError\u001b[0m: No module named 'soundfile'"
     ]
    }
   ],
   "source": [
    "import numpy as np\n",
    "import os\n",
    "import soundfile as sf\n",
    "import math\n",
    "\n",
    "import matplotlib.pyplot as plt\n",
    "import pylab as py\n",
    "from scipy import fftpack\n",
    "from scipy import signal\n",
    "from pylab import *\n",
    "import scipy.io.wavfile"
   ]
  },
  {
   "cell_type": "code",
   "execution_count": null,
   "metadata": {},
   "outputs": [],
   "source": [
    "# Path to source WAV files already split into folds\n",
    "path2='../Temp_Data/GTzan_3s'\n",
    "\n",
    "# Path to destination (segmentated WAV files) \n",
    "# Win_length_overlapping\n",
    "path3='GTzan_3f_Win_110250_75'"
   ]
  },
  {
   "cell_type": "markdown",
   "metadata": {},
   "source": [
    "## Build a list of WAV files"
   ]
  },
  {
   "cell_type": "code",
   "execution_count": null,
   "metadata": {},
   "outputs": [],
   "source": [
    "# Build a list of WAV files\n",
    "file_list = []\n",
    "i = 0 \n",
    "for path, subdirs, files in os.walk( path2 ):\n",
    "    for name in files:\n",
    "        file_list.append( os.path.join(path, name) )\n",
    "        i += 1\n",
    "print(\"Files processed: \"+str(i) )"
   ]
  },
  {
   "cell_type": "code",
   "execution_count": null,
   "metadata": {},
   "outputs": [],
   "source": [
    "file_list"
   ]
  },
  {
   "cell_type": "markdown",
   "metadata": {},
   "source": [
    "## Check if the audio samples have at least 5 seconds"
   ]
  },
  {
   "cell_type": "code",
   "execution_count": null,
   "metadata": {},
   "outputs": [],
   "source": [
    "# This block of code is to make sure that all of the audio samples have at least XX seconds\n",
    "\n",
    "# For a sample rate = 22,050 \n",
    "#  1s = 22,050 x 1  =  22,050 samples \n",
    "#  5s = 22,050 x 5  = 110,250 samples\n",
    "# 10s = 22,050 x 10 = 220,500 samples\n",
    "\n",
    "length = list()\n",
    "i      = 0\n",
    "avg    = 0\n",
    "\n",
    "for file in file_list:\n",
    "    data, samplerate = sf.read( file )\n",
    "    #print(str(samplerate))\n",
    "    if len(data) <= 110250:                         \n",
    "            print(\"Audio with less than 5s: \"+str(file) )\n",
    "    #computer average lenght of files\n",
    "    avg = avg + len(data)\n",
    "    length.append(len(data))\n",
    "    i += 1\n",
    "\n",
    "print( \"Files processed: \"+str(i) )\n",
    "\n",
    "print( \"Average file length: \"+str(avg/i)+\" samples   \"+str(avg/i/samplerate)+\"s   \"+str(avg/i/samplerate/60)+\"min\" )\n",
    "\n",
    "print( \"Max length: \"+str(max(length))+\" samples   \"+str(max(length)/samplerate)+\"s   \"+str(max(length)/samplerate/60)+\"min\" )\n",
    "\n",
    "print( \"Min length: \"+str(min(length))+\" samples   \"+str(min(length)/samplerate)+\"s   \"+str(min(length)/samplerate/60)+\"min\" )"
   ]
  },
  {
   "cell_type": "markdown",
   "metadata": {},
   "source": [
    "## Sliding Window Setup"
   ]
  },
  {
   "cell_type": "code",
   "execution_count": null,
   "metadata": {},
   "outputs": [],
   "source": [
    "# window  = size of window (1,600 - 8,000 - 16,000 - 32,000, etc.)\n",
    "# overlap = percentage of overlapping (0, 0.25, 0.50, 0.75, etc.)\n",
    "\n",
    "# sample rate = 22,050\n",
    "#  1s = 22,050 x 1 =  22,050 samples\n",
    "#  5s = 22,050 x 5 = 110,250\n",
    "# 10s = 22,050 x 10 = 220,500\n",
    "\n",
    "def window(data, window, overlap):\n",
    "    \n",
    "    overlap = 1 - overlap\n",
    "    print ( str( window * overlap) )\n",
    "    print ( str( len(data) / (window*overlap) ) )\n",
    "\n",
    "    # end = int( ceil( ( len(data) / (window*overlap) ) ) )\n",
    "    end = int( ceil( ( (len(data) - window ) / (window*overlap) ) ) )\n",
    "    print(\" End: \"+str(end) )\n",
    "    \n",
    "    # Make a 2-D array of samples\n",
    "    windowed = []\n",
    "    if end == 0:\n",
    "        end = end + 1\n",
    "    for i in range(0, end):\n",
    "        \n",
    "            if len( data[i*( int( window*overlap ) ):i*( int( window*overlap) ) + window] ) == window:\n",
    "                windowed.append(data[i*( int( window*overlap ) ):i * ( int( window*overlap ) ) + window ] )\n",
    "                # print(\"Done\")\n",
    "                \n",
    "            if len(data[i*(int(window*overlap)):i*(int(window*overlap))+window])<window:\n",
    "                spch = np.zeros(window)\n",
    "                spch[0:len(data[i*(int(window*overlap)):i*(int(window*overlap))+window])]=data[0:len(data[i*(int(window*overlap)):i*(int(window*overlap))+window])]\n",
    "                spch[len(data[i*(int(window*overlap)):i*(int(window*overlap))+window])+1:window]=data[len(data[i*(int(window*overlap)):i*(int(window*overlap))+window])-1]\n",
    "                windowed.append(spch)\n",
    "                print(\"Warning: shorter than frame size-> zero padding\")\n",
    "                \n",
    "    return (windowed)"
   ]
  },
  {
   "cell_type": "markdown",
   "metadata": {},
   "source": [
    "## Energy of the Audio Signal"
   ]
  },
  {
   "cell_type": "code",
   "execution_count": null,
   "metadata": {},
   "outputs": [],
   "source": [
    "# Compute the signal energy\n",
    "def energy(samples):\n",
    "    return np.sum(np.power(samples, 2.)) / float(len(samples))"
   ]
  },
  {
   "cell_type": "markdown",
   "metadata": {},
   "source": [
    "## Write Metadata in a CSV File"
   ]
  },
  {
   "cell_type": "code",
   "execution_count": null,
   "metadata": {},
   "outputs": [],
   "source": [
    "# WRITE TO FILE METADATA\n",
    "\n",
    "import csv\n",
    "\n",
    "filename=\"GTzan3f_Spltr_110_2Voc.csv\"\n",
    "\n",
    "fl = open(filename, 'w')\n",
    "\n",
    "writer = csv.writer(fl)\n",
    "\n",
    "values = ['track_id','frame_id','fold','genre']\n",
    "\n",
    "writer.writerow(values)"
   ]
  },
  {
   "cell_type": "markdown",
   "metadata": {},
   "source": [
    "## Segment Audio Files with the Sliding Window\n",
    "\n",
    "### Each segment is saved on disk with the appropriate prefix indicating the segment number (_segment number).\n",
    "\n",
    "### Segment of low energy (possibly silence) are discarded"
   ]
  },
  {
   "cell_type": "code",
   "execution_count": null,
   "metadata": {},
   "outputs": [],
   "source": [
    "# Audio files are segmented and each segment is saved on disk with the approporiate prefix indicating the segment\n",
    "# number.\n",
    "# np.boxcar(frame_size)\n",
    "# sample rate = 22,050\n",
    "#  1s = 22,050 x 1 =  22,050\n",
    "#  5s = 22,050 x 5 = 110,250\n",
    "# 10s = 22050 x 10 = 220,500\n",
    "\n",
    "# Split 30s audio samples into 5s segments with an overlapping of 75%\n",
    "# 21 segments per audio sample\n",
    "frame_size  = 110250\n",
    "frame_over  = 0.75\n",
    "track_id    = 1\n",
    "\n",
    "for file in file_list:\n",
    "    data , samplerate = sf.read( file )\n",
    "    print (\"--------------\")\n",
    "    print (\"Sample Rate: \"+str(samplerate)+\"   Length: \"+str(data.shape))\n",
    "    print (str( file ) )\n",
    "        \n",
    "    frame_id = 1\n",
    "            \n",
    "    windowed = window( data, frame_size, frame_over )\n",
    "\n",
    "    for i in range(len( windowed ) ):\n",
    "        # print (\"Size: \"+str(windowed[i].shape) )\n",
    "        # print (\"-----------------------\")\n",
    "        spch = windowed[i] * signal.boxcar(frame_size)\n",
    "        \n",
    "        \n",
    "        ##### Evaluate Energy\n",
    "        ##### Only save a segment if it has enough energy\n",
    "        if energy(spch) > 1e-7:\n",
    "        \n",
    "            seg_name_new = str(track_id)+'_'+str(frame_id)\n",
    "            # seg_name_new = str(track_id)+'_'+str(artist_id)+'_'+str(frame_id)\n",
    "            # seg_name     = str(i)+'_'+file[9:].split('/')[4]\n",
    "            directory = path3+'/'+file[22:].split('/')[0]+'/'+file[23:].split('/')[1]\n",
    "            \n",
    "            # Verify if it exists, otherwise create it\n",
    "            if not os.path.exists(directory):\n",
    "                os.makedirs(directory)\n",
    "            \n",
    "        \n",
    "            sf.write( path3+'/'+file[22:].split('/')[0]+'/'+file[23:].split('/')[1]+'/'+seg_name_new+\".wav\", spch, samplerate ) \n",
    "            # sf.write( path3+'/'+file[9:].split('/')[3]+'/'+seg_name, spch, samplerate ) \n",
    "            print( path3+'/'+file[22:].split('/')[0]+'/'+file[23:].split('/')[1]+'/'+seg_name_new+\".wav\")\n",
    "        \n",
    "            fold_id = file[22:].split('/')[0]\n",
    "        \n",
    "            genre_id = str(file[22:].split('/')[1])\n",
    "        \n",
    "            # Write a line in .CSV file\n",
    "            values = [str(track_id), str(frame_id), str(fold_id), str(genre_id) ]  \n",
    "        \n",
    "            frame_id += 1\n",
    "        \n",
    "            writer.writerow(values)\n",
    "            \n",
    "        else:\n",
    "            print(\"Energy = \"+str(energy(spch)*100)+\"%   - Silence file: \"+str(i) )\n",
    "        \n",
    "    track_id += 1\n",
    "        "
   ]
  },
  {
   "cell_type": "code",
   "execution_count": null,
   "metadata": {},
   "outputs": [],
   "source": [
    "print(\"Audio segmentation finished\")"
   ]
  }
 ],
 "metadata": {
  "kernelspec": {
   "display_name": "Python 3",
   "language": "python",
   "name": "python3"
  },
  "language_info": {
   "codemirror_mode": {
    "name": "ipython",
    "version": 3
   },
   "file_extension": ".py",
   "mimetype": "text/x-python",
   "name": "python",
   "nbconvert_exporter": "python",
   "pygments_lexer": "ipython3",
   "version": "3.6.9"
  }
 },
 "nbformat": 4,
 "nbformat_minor": 2
}
