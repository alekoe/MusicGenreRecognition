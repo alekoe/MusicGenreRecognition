{
 "cells": [
  {
   "cell_type": "code",
   "execution_count": 1,
   "metadata": {},
   "outputs": [],
   "source": [
    "from __future__ import absolute_import, division, print_function, unicode_literals\n",
    "\n",
    "import numpy as np\n",
    "import os\n",
    "import math\n",
    "import soundfile as sf\n",
    "import tensorflow as tf\n",
    "from tensorflow import keras"
   ]
  },
  {
   "cell_type": "code",
   "execution_count": 2,
   "metadata": {},
   "outputs": [
    {
     "name": "stdout",
     "output_type": "stream",
     "text": [
      "2.4.1\n"
     ]
    }
   ],
   "source": [
    "print(tf.version.VERSION)"
   ]
  },
  {
   "cell_type": "code",
   "execution_count": 3,
   "metadata": {},
   "outputs": [],
   "source": [
    "with tf.compat.v1.Session() as sess:\n",
    "    devices = sess.list_devices()\n",
    "    \n",
    "devices\n",
    "\n",
    "os.environ[\"CUDA_VISIBLE_DEVICES\"] = \"0\"\n",
    "config = tf.compat.v1.ConfigProto()\n",
    "config.gpu_options.allow_growth = True\n",
    "sess = tf.compat.v1.Session(config=config)\n",
    "\n",
    "import tensorflow.keras.backend as tf_backend\n",
    "tf.compat.v1.keras.backend.set_session(sess)"
   ]
  },
  {
   "cell_type": "markdown",
   "metadata": {},
   "source": [
    "## Path to segmented files"
   ]
  },
  {
   "cell_type": "code",
   "execution_count": 4,
   "metadata": {},
   "outputs": [],
   "source": [
    "path3 = '../GTzan_3f_Win_110250_75_safaa'\n",
    "\n",
    "frame_size = 110250\n",
    "nb_classes = 10"
   ]
  },
  {
   "cell_type": "markdown",
   "metadata": {},
   "source": [
    "## List files"
   ]
  },
  {
   "cell_type": "code",
   "execution_count": 5,
   "metadata": {},
   "outputs": [
    {
     "name": "stdout",
     "output_type": "stream",
     "text": [
      "Number of files processed : 20990\n"
     ]
    }
   ],
   "source": [
    "file_list = []\n",
    "i = 0\n",
    "for path, subdirs, files in os.walk(path3):\n",
    "    for file in files:\n",
    "        file_list.append(os.path.join(path,file))\n",
    "        i += 1\n",
    "\n",
    "print(\"Number of files processed : \" + str(i))"
   ]
  },
  {
   "cell_type": "code",
   "execution_count": 6,
   "metadata": {},
   "outputs": [],
   "source": [
    "Train = \"fold1\"\n",
    "Valid = \"fold2\"\n",
    "Test  = \"fold3\""
   ]
  },
  {
   "cell_type": "code",
   "execution_count": 7,
   "metadata": {},
   "outputs": [
    {
     "name": "stdout",
     "output_type": "stream",
     "text": [
      "Number of files processed: 20990\n",
      "Number of Train files: 7011\n",
      "Number of Valid files: 6989\n",
      "Number of Test files: 6990\n"
     ]
    }
   ],
   "source": [
    "train_list = []\n",
    "valid_list = []\n",
    "test_list  = []\n",
    "\n",
    "train_path = []\n",
    "valid_path = []\n",
    "test_path  = []\n",
    "\n",
    "train_label_list = []\n",
    "valid_label_list = []\n",
    "test_label_list  = []\n",
    "\n",
    "train_seg_list = []\n",
    "valid_seg_list = []\n",
    "test_seg_list  = []\n",
    "\n",
    "choices = {'blues': 0,\n",
    "           'classical': 1,\n",
    "           'country': 2,\n",
    "           'disco': 3,\n",
    "           'hiphop': 4,\n",
    "           'jazz': 5,\n",
    "           'metal': 6,\n",
    "           'pop': 7,\n",
    "           'reggae': 8,\n",
    "           'rock': 9}\n",
    "\n",
    "i = 0\n",
    "for path, subdirs, files in os.walk(path3):\n",
    "    for file in files:\n",
    "        fold_num = path.split('/')[2]\n",
    "        label_id = choices.get(path.split('/')[3], 99)\n",
    "        track_id = file[0:].split('.')[0]\n",
    "        track_id_t = int(file[0:].split('.')[0].split('_')[0])\n",
    "        seg_id = int(file.split('.')[0].split('_')[1])\n",
    "        full_path_id = path+'/'+file\n",
    "        if fold_num == Train:\n",
    "            train_list.append( track_id )\n",
    "            train_path.append( full_path_id )\n",
    "            train_label_list.append( label_id )\n",
    "            train_seg_list.append( seg_id )\n",
    "        if fold_num == Valid:\n",
    "            valid_list.append( track_id )\n",
    "            valid_path.append( full_path_id )\n",
    "            valid_label_list.append( label_id )\n",
    "            valid_seg_list.append( seg_id )\n",
    "        if fold_num == Test:\n",
    "            test_list.append( track_id )\n",
    "            test_path.append( full_path_id )\n",
    "            test_label_list.append( label_id )\n",
    "            test_seg_list.append( seg_id )\n",
    "        i += 1\n",
    "\n",
    "print(\"Number of files processed: \" + str(i))\n",
    "print(\"Number of Train files: \" + str(len(train_list)))\n",
    "print(\"Number of Valid files: \" + str(len(valid_list)))\n",
    "print(\"Number of Test files: \" + str(len(test_list)))"
   ]
  },
  {
   "cell_type": "code",
   "execution_count": 8,
   "metadata": {},
   "outputs": [
    {
     "data": {
      "text/plain": [
       "'../GTzan_3f_Win_110250_75_safaa/fold1/rock/974_11.wav'"
      ]
     },
     "execution_count": 8,
     "metadata": {},
     "output_type": "execute_result"
    }
   ],
   "source": [
    "full_path_id"
   ]
  },
  {
   "cell_type": "code",
   "execution_count": 9,
   "metadata": {},
   "outputs": [],
   "source": [
    "partition = {}\n",
    "partition['train'] = train_path\n",
    "partition['valid'] = valid_path\n",
    "partition['test']  = test_path"
   ]
  },
  {
   "cell_type": "code",
   "execution_count": 10,
   "metadata": {},
   "outputs": [],
   "source": [
    "labels = {}\n",
    "for i in range(len(train_path)):\n",
    "    labels[train_path[i]] = train_label_list[i]\n",
    "\n",
    "for i in range(len(valid_path)):\n",
    "    labels[valid_path[i]] = valid_label_list[i]\n",
    "    \n",
    "for i in range(len(test_path)):\n",
    "    labels[test_path[i]] = test_label_list[i]"
   ]
  },
  {
   "cell_type": "code",
   "execution_count": 11,
   "metadata": {},
   "outputs": [
    {
     "data": {
      "text/plain": [
       "(7011, 6989, 6990)"
      ]
     },
     "execution_count": 11,
     "metadata": {},
     "output_type": "execute_result"
    }
   ],
   "source": [
    "len(partition['train']), len(partition['valid']), len(partition['test'])"
   ]
  },
  {
   "cell_type": "code",
   "execution_count": 12,
   "metadata": {},
   "outputs": [
    {
     "data": {
      "text/plain": [
       "'../GTzan_3f_Win_110250_75_safaa/fold1/metal/689_20.wav'"
      ]
     },
     "execution_count": 12,
     "metadata": {},
     "output_type": "execute_result"
    }
   ],
   "source": [
    "train_path[0]"
   ]
  },
  {
   "cell_type": "code",
   "execution_count": 13,
   "metadata": {},
   "outputs": [],
   "source": [
    "class DataGenerator( keras.utils.Sequence ):\n",
    "    'Generates data for Keras'\n",
    "\n",
    "    def __init__(self, list_IDs, labels, batch_size = 10, dim = (110250, 1), n_classes = 10, shuffle = True, data_set = 0):\n",
    "        'Initialization'\n",
    "        self.dim        = dim\n",
    "        self.batch_size = batch_size\n",
    "        self.labels     = labels\n",
    "        self.list_IDs   = list_IDs\n",
    "        self.n_classes  = n_classes\n",
    "        self.shuffle    = shuffle\n",
    "        self.data_set   = data_set\n",
    "        self.on_epoch_end()\n",
    "        \n",
    "    def __len__(self):\n",
    "        'Denotes the number of batches per epoch'\n",
    "        return int( np.floor( len( self.list_IDs) / self.batch_size ) )\n",
    "        \n",
    "    def __getitem__(self, index):\n",
    "        'Generate one batch of data'\n",
    "        # Generate indexes of the batch\n",
    "        indexes = self.indexes[ index * self.batch_size:(index + 1) * self.batch_size ]\n",
    "\n",
    "        # Find list of IDs\n",
    "        list_IDs_temp = [self.list_IDs[k] for k in indexes]\n",
    "\n",
    "        # Generate data\n",
    "        X, y = self.__data_generation(list_IDs_temp)\n",
    "\n",
    "        return X, y\n",
    "        \n",
    "    def on_epoch_end(self):\n",
    "        'Updates indexes after each epoch'\n",
    "        self.indexes = np.arange( len(self.list_IDs) )\n",
    "        if self.shuffle == True:\n",
    "            np.random.shuffle( self.indexes )\n",
    "        \n",
    "    def __data_generation( self, list_IDs_temp ):\n",
    "        'Generates data containing batch_size samples' # X : (n_samples, *dim, n_channels)\n",
    "        # Initialization\n",
    "        X = np.empty( ( self.batch_size, *self.dim ) )\n",
    "        y = np.empty( ( self.batch_size ), dtype = int )\n",
    "        \n",
    "        # Generate data\n",
    "        for i, ID in enumerate( list_IDs_temp ):\n",
    "                        \n",
    "            spcharray = np.asarray( sf.read(ID)[0] )       \n",
    "            X[i,] = np.expand_dims( spcharray, axis = 1 )\n",
    "            \n",
    "            # Store class\n",
    "            y[i] = self.labels[ID]\n",
    "\n",
    "        return X, keras.utils.to_categorical( y, num_classes = self.n_classes )       "
   ]
  },
  {
   "cell_type": "code",
   "execution_count": 14,
   "metadata": {},
   "outputs": [],
   "source": [
    "from tensorflow.keras.models import Sequential\n",
    "\n",
    "# Parameters\n",
    "params = {'dim': (110250, 1),\n",
    "          'batch_size': 10,\n",
    "          'n_classes': 10,\n",
    "          'shuffle': True,\n",
    "         'data_set': 0}\n",
    "\n",
    "# Generators\n",
    "training_generator   = DataGenerator(partition['train'], labels, **params)\n",
    "\n",
    "params2 = {'dim': (110250, 1),\n",
    "          'batch_size': 10,\n",
    "          'n_classes': 10,\n",
    "          'shuffle': True,\n",
    "         'data_set': 1}\n",
    "\n",
    "validation_generator = DataGenerator(partition['valid'], labels, **params2)"
   ]
  },
  {
   "cell_type": "code",
   "execution_count": 15,
   "metadata": {},
   "outputs": [],
   "source": [
    "frame_size = 110250\n",
    "nb_classes = 10"
   ]
  },
  {
   "cell_type": "code",
   "execution_count": 16,
   "metadata": {},
   "outputs": [],
   "source": [
    "def model_generator_alenet_nov19_a():\n",
    "    from tensorflow.keras.layers import Input, Dense\n",
    "    from tensorflow.keras.layers import AveragePooling1D, Conv1D, MaxPool1D, Flatten\n",
    "    from tensorflow.keras.models import Model\n",
    "    from tensorflow.keras import initializers\n",
    "    from tensorflow.keras.callbacks import ModelCheckpoint\n",
    "    from tensorflow.keras.layers import LeakyReLU    \n",
    "    \n",
    "    from tensorflow.keras import optimizers\n",
    "    from tensorflow.keras.layers import BatchNormalization\n",
    "    from tensorflow.keras.layers import Dropout\n",
    "    \n",
    "    import tensorflow.keras.initializers as init\n",
    "    from tensorflow.keras.regularizers import l2\n",
    "    \n",
    "    inp =  Input( shape = (frame_size,1) )\n",
    "    #----------------------\n",
    "    conv1 = Conv1D(filters = 128, kernel_size = 3, strides = 3, activation ='relu', kernel_initializer = 'he_uniform', padding = 'valid', trainable = False)(inp)\n",
    "    #----------------------\n",
    "    conv2 = Conv1D(filters = 128, kernel_size = 3, strides = 1, activation = 'relu', kernel_initializer = 'he_uniform', padding = 'same' )(conv1)\n",
    "    pool2 = MaxPool1D(pool_size = 3, strides = 3)(conv2)\n",
    "    #----------------------\n",
    "    conv3 = Conv1D(filters = 128, kernel_size = 3, strides = 1, activation = 'relu', kernel_initializer = 'he_uniform', padding = 'same' )(pool2)\n",
    "    pool3 = MaxPool1D(pool_size = 3, strides = 3)(conv3)\n",
    "    #----------------------\n",
    "    conv4 = Conv1D(filters = 256, kernel_size = 3, strides = 1, activation = 'relu', kernel_initializer = 'he_uniform', padding = 'same' )(pool3)\n",
    "    pool4 = MaxPool1D(pool_size = 3, strides = 3)(conv4)\n",
    "    #----------------------\n",
    "    conv5 = Conv1D(filters = 256, kernel_size = 3, strides = 1, activation = 'relu', kernel_initializer = 'he_uniform', padding = 'same' )(pool4)\n",
    "    pool5 = MaxPool1D(pool_size = 3, strides = 3)(conv5)\n",
    "    #----------------------\n",
    "    conv6 = Conv1D(filters = 256, kernel_size = 3, strides = 1, activation = 'relu', kernel_initializer = 'he_uniform', padding = 'same' )(pool5)\n",
    "    pool6 = MaxPool1D(pool_size = 3, strides = 3)(conv6)\n",
    "    #----------------------\n",
    "    conv7 = Conv1D(filters = 256, kernel_size = 3, strides = 1, activation = 'relu', kernel_initializer = 'he_uniform', padding = 'same' )(pool6)\n",
    "    pool7 = MaxPool1D(pool_size = 3, strides = 3)(conv7)\n",
    "    #----------------------\n",
    "    conv8 = Conv1D(filters = 256, kernel_size = 3, strides = 1, activation = 'relu', kernel_initializer = 'he_uniform', padding = 'same' )(pool7)\n",
    "    pool8 = MaxPool1D(pool_size = 3, strides = 3)(conv8)\n",
    "    #----------------------\n",
    "    conv9 = Conv1D(filters = 256, kernel_size = 3, strides = 1, activation = 'relu', kernel_initializer = 'he_uniform', padding = 'same' )(pool8)\n",
    "    pool9 = MaxPool1D(pool_size = 3, strides = 3)(conv9)\n",
    "    #----------------------\n",
    "    conv10 = Conv1D(filters = 512, kernel_size = 3, strides = 1, activation = 'relu', kernel_initializer = 'he_uniform', padding = 'same' )(pool9)\n",
    "    pool10 = MaxPool1D(pool_size = 3, strides = 3)(conv10)\n",
    "    #----------------------\n",
    "    conv11 = Conv1D(filters = 512, kernel_size = 1, strides = 1, activation = 'relu', kernel_initializer = 'he_uniform', padding = 'same')(pool10)\n",
    "    drop1  = Dropout(0.5)(conv11)\n",
    "    \n",
    "    flat = Flatten()(drop1)\n",
    "    \n",
    "    dense1 = Dense(nb_classes, activation='sigmoid')(flat)\n",
    "    model  = Model(inp, dense1)\n",
    "\n",
    "    model.compile(loss='binary_crossentropy',\n",
    "              optimizer=optimizers.Adadelta(lr=1.0, rho=0.95, epsilon=1e-08, decay=0.0)\n",
    "              ,metrics=['accuracy'])\n",
    "    \n",
    "    model.summary()\n",
    "    \n",
    "    return model"
   ]
  },
  {
   "cell_type": "code",
   "execution_count": 17,
   "metadata": {},
   "outputs": [
    {
     "name": "stdout",
     "output_type": "stream",
     "text": [
      "Model: \"model\"\n",
      "_________________________________________________________________\n",
      "Layer (type)                 Output Shape              Param #   \n",
      "=================================================================\n",
      "input_1 (InputLayer)         [(None, 110250, 1)]       0         \n",
      "_________________________________________________________________\n",
      "conv1d (Conv1D)              (None, 36750, 128)        512       \n",
      "_________________________________________________________________\n",
      "conv1d_1 (Conv1D)            (None, 36750, 128)        49280     \n",
      "_________________________________________________________________\n",
      "max_pooling1d (MaxPooling1D) (None, 12250, 128)        0         \n",
      "_________________________________________________________________\n",
      "conv1d_2 (Conv1D)            (None, 12250, 128)        49280     \n",
      "_________________________________________________________________\n",
      "max_pooling1d_1 (MaxPooling1 (None, 4083, 128)         0         \n",
      "_________________________________________________________________\n",
      "conv1d_3 (Conv1D)            (None, 4083, 256)         98560     \n",
      "_________________________________________________________________\n",
      "max_pooling1d_2 (MaxPooling1 (None, 1361, 256)         0         \n",
      "_________________________________________________________________\n",
      "conv1d_4 (Conv1D)            (None, 1361, 256)         196864    \n",
      "_________________________________________________________________\n",
      "max_pooling1d_3 (MaxPooling1 (None, 453, 256)          0         \n",
      "_________________________________________________________________\n",
      "conv1d_5 (Conv1D)            (None, 453, 256)          196864    \n",
      "_________________________________________________________________\n",
      "max_pooling1d_4 (MaxPooling1 (None, 151, 256)          0         \n",
      "_________________________________________________________________\n",
      "conv1d_6 (Conv1D)            (None, 151, 256)          196864    \n",
      "_________________________________________________________________\n",
      "max_pooling1d_5 (MaxPooling1 (None, 50, 256)           0         \n",
      "_________________________________________________________________\n",
      "conv1d_7 (Conv1D)            (None, 50, 256)           196864    \n",
      "_________________________________________________________________\n",
      "max_pooling1d_6 (MaxPooling1 (None, 16, 256)           0         \n",
      "_________________________________________________________________\n",
      "conv1d_8 (Conv1D)            (None, 16, 256)           196864    \n",
      "_________________________________________________________________\n",
      "max_pooling1d_7 (MaxPooling1 (None, 5, 256)            0         \n",
      "_________________________________________________________________\n",
      "conv1d_9 (Conv1D)            (None, 5, 512)            393728    \n",
      "_________________________________________________________________\n",
      "max_pooling1d_8 (MaxPooling1 (None, 1, 512)            0         \n",
      "_________________________________________________________________\n",
      "conv1d_10 (Conv1D)           (None, 1, 512)            262656    \n",
      "_________________________________________________________________\n",
      "dropout (Dropout)            (None, 1, 512)            0         \n",
      "_________________________________________________________________\n",
      "flatten (Flatten)            (None, 512)               0         \n",
      "_________________________________________________________________\n",
      "dense (Dense)                (None, 10)                5130      \n",
      "=================================================================\n",
      "Total params: 1,843,466\n",
      "Trainable params: 1,842,954\n",
      "Non-trainable params: 512\n",
      "_________________________________________________________________\n",
      "XXXXYYYYXXXXX.best.hdf5\n"
     ]
    }
   ],
   "source": [
    "from tensorflow.keras.callbacks import ModelCheckpoint, EarlyStopping\n",
    "from livelossplot    import PlotLossesKeras\n",
    "from tensorflow.keras           import optimizers\n",
    "\n",
    "# Generating the model \n",
    "model = model_generator_alenet_nov19_a()\n",
    "\n",
    "# Checkpoints \n",
    "str1     = \"XXXXYYYYXXXXX\"\n",
    "str2     = \".best.hdf5\" \n",
    "file_path = str1 + str2 \n",
    "print( file_path )\n",
    "\n",
    "checkpointer = ModelCheckpoint(monitor='val_accuracy', mode='max', filepath = file_path,\n",
    "                               save_best_only=True, verbose=1 ) \n",
    "earlystopper = EarlyStopping(monitor='val_accuracy', min_delta=0, patience=20, verbose=0,\n",
    "                             mode='max', baseline=None, restore_best_weights=True)\n",
    "\n",
    "callbacks_list = [checkpointer, earlystopper, PlotLossesKeras()]"
   ]
  },
  {
   "cell_type": "code",
   "execution_count": 18,
   "metadata": {},
   "outputs": [
    {
     "data": {
      "image/png": "[encoded data removed]",
      "text/plain": [
       "<Figure size 864x576 with 2 Axes>"
      ]
     },
     "metadata": {
      "needs_background": "light"
     },
     "output_type": "display_data"
    },
    {
     "name": "stdout",
     "output_type": "stream",
     "text": [
      "accuracy\n",
      "\ttraining         \t (min:    0.293, max:    0.972, cur:    0.972)\n",
      "\tvalidation       \t (min:    0.458, max:    0.653, cur:    0.635)\n",
      "Loss\n",
      "\ttraining         \t (min:    0.019, max:    0.299, cur:    0.019)\n",
      "\tvalidation       \t (min:    0.212, max:    0.483, cur:    0.483)\n",
      "\n",
      "Epoch 00010: val_accuracy did not improve from 0.65272\n"
     ]
    }
   ],
   "source": [
    "history = model.fit_generator(generator = training_generator,\n",
    "                    epochs   = 10,\n",
    "                    validation_data = validation_generator,\n",
    "                    callbacks = [PlotLossesKeras(), checkpointer, earlystopper ]\n",
    "                    )"
   ]
  },
  {
   "cell_type": "code",
   "execution_count": 19,
   "metadata": {},
   "outputs": [
    {
     "data": {
      "image/png": "[encoded data removed]",
      "text/plain": [
       "<Figure size 432x288 with 1 Axes>"
      ]
     },
     "metadata": {
      "needs_background": "light"
     },
     "output_type": "display_data"
    }
   ],
   "source": [
    "import matplotlib.pyplot as plt\n",
    "\n",
    "#Accuracy\n",
    "plt.plot(history.history['accuracy'])\n",
    "plt.plot(history.history['val_accuracy'])\n",
    "plt.title('model accuracy')\n",
    "plt.xlabel('epoch')\n",
    "plt.ylabel('accuracy')\n",
    "plt.legend(['train', 'valid'], loc = 'upper left')\n",
    "plt.savefig('SampleLevelDeepCNN_Accuracy.png')\n",
    "plt.show()"
   ]
  },
  {
   "cell_type": "code",
   "execution_count": 20,
   "metadata": {},
   "outputs": [
    {
     "data": {
      "image/png": "[encoded data removed]",
      "text/plain": [
       "<Figure size 432x288 with 1 Axes>"
      ]
     },
     "metadata": {
      "needs_background": "light"
     },
     "output_type": "display_data"
    }
   ],
   "source": [
    "#Loss\n",
    "plt.plot(history.history['loss'])\n",
    "plt.plot(history.history['val_loss'])\n",
    "plt.title('model loss')\n",
    "plt.xlabel('epoch')\n",
    "plt.ylabel('loss')\n",
    "plt.legend(['train', 'valid'], loc = 'upper left')\n",
    "plt.savefig('SampleLevelDeepCNN_Loss.png')\n",
    "plt.show()"
   ]
  },
  {
   "cell_type": "code",
   "execution_count": null,
   "metadata": {},
   "outputs": [],
   "source": []
  }
 ],
 "metadata": {
  "kernelspec": {
   "display_name": "Python 3",
   "language": "python",
   "name": "python3"
  },
  "language_info": {
   "codemirror_mode": {
    "name": "ipython",
    "version": 3
   },
   "file_extension": ".py",
   "mimetype": "text/x-python",
   "name": "python",
   "nbconvert_exporter": "python",
   "pygments_lexer": "ipython3",
   "version": "3.6.9"
  }
 },
 "nbformat": 4,
 "nbformat_minor": 4
}
