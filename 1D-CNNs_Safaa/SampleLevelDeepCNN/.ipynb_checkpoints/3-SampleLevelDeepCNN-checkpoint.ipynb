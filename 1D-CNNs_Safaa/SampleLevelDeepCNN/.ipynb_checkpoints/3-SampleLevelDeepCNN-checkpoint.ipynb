{
 "cells": [
  {
   "cell_type": "code",
   "execution_count": 1,
   "metadata": {},
   "outputs": [
    {
     "name": "stdout",
     "output_type": "stream",
     "text": [
      "2.4.1\n"
     ]
    }
   ],
   "source": [
    "from __future__ import absolute_import, division, print_function, unicode_literals\n",
    "import numpy as np\n",
    "import os\n",
    "import soundfile as sf\n",
    "import math\n",
    "import tensorflow as tf\n",
    "from tensorflow import keras\n",
    "\n",
    "print(tf.version.VERSION)"
   ]
  },
  {
   "cell_type": "code",
   "execution_count": 2,
   "metadata": {},
   "outputs": [],
   "source": [
    "with tf.compat.v1.Session() as sess:\n",
    "  devices = sess.list_devices()\n",
    "devices\n",
    "\n",
    "os.environ[\"CUDA_VISIBLE_DEVICES\"]=\"0\"\n",
    "config = tf.compat.v1.ConfigProto( )\n",
    "config.gpu_options.allow_growth = True\n",
    "sess   =  tf.compat.v1.Session(config=config)\n",
    "\n",
    "import tensorflow.keras.backend as tf_bkend\n",
    "tf.compat.v1.keras.backend.set_session(sess)"
   ]
  },
  {
   "cell_type": "markdown",
   "metadata": {},
   "source": [
    "### Define Path to Segmented Files"
   ]
  },
  {
   "cell_type": "code",
   "execution_count": 3,
   "metadata": {},
   "outputs": [],
   "source": [
    "# Path to destination files 3-fold, 22050 * 1s = 110,250 inputs, overlapping 75 \n",
    "path3      = '../GTzan_3f_Win_110250_75_safaa'\n",
    "frame_size = 110250\n",
    "nb_classes = 10"
   ]
  },
  {
   "cell_type": "markdown",
   "metadata": {},
   "source": [
    "### List Files"
   ]
  },
  {
   "cell_type": "code",
   "execution_count": 4,
   "metadata": {},
   "outputs": [
    {
     "name": "stdout",
     "output_type": "stream",
     "text": [
      "Files processed: 20990\n"
     ]
    }
   ],
   "source": [
    "file_list = []\n",
    "i = 0 \n",
    "for path, subdirs, files in os.walk( path3 ):\n",
    "    for name in files:\n",
    "        file_list.append( os.path.join( path, name) )\n",
    "        i += 1\n",
    "print(\"Files processed: \"+str(i) )"
   ]
  },
  {
   "cell_type": "markdown",
   "metadata": {},
   "source": [
    "### Define Test Fold"
   ]
  },
  {
   "cell_type": "code",
   "execution_count": 5,
   "metadata": {},
   "outputs": [],
   "source": [
    "Test  = \"fold1\""
   ]
  },
  {
   "cell_type": "markdown",
   "metadata": {},
   "source": [
    "### Put all Filenames in Two Lists"
   ]
  },
  {
   "cell_type": "code",
   "execution_count": 6,
   "metadata": {},
   "outputs": [
    {
     "name": "stdout",
     "output_type": "stream",
     "text": [
      "Files processed: 20990\n",
      "Test  files    : 7011\n"
     ]
    }
   ],
   "source": [
    "test_list  = []\n",
    "test_path  = []\n",
    "test_label_list  = []\n",
    "test_seg_list  = []\n",
    "\n",
    "\n",
    "choices = {'blues': 0, \n",
    "           'classical': 1, \n",
    "           'country': 2, \n",
    "           'disco': 3, \n",
    "           'hiphop': 4, \n",
    "           'jazz': 5,\n",
    "           'metal': 6, \n",
    "           'pop': 7, \n",
    "           'reggae': 8, \n",
    "           'rock': 9}\n",
    "\n",
    "\n",
    "i = 0 \n",
    "for path, subdirs, files in os.walk( path3 ):\n",
    "    for name in files:\n",
    "        fold_id    = path.split('/')[2]\n",
    "        # Replace the 2-character string by a number according to choices\n",
    "        label_id     = choices.get( path.split('/')[3], 99 )\n",
    "        track_id     = name[0:].split('.')[0]\n",
    "        seg_id       = int(name.split('.')[0].split('_')[1])\n",
    "        full_path_id = path+'/'+name\n",
    "        if fold_id == Test:\n",
    "            test_list.append( track_id )\n",
    "            test_path.append( full_path_id )\n",
    "            test_label_list.append( label_id )\n",
    "            test_seg_list.append( seg_id )\n",
    "        i += 1\n",
    "print(\"Files processed: \"+str(i) )\n",
    "print(\"Test  files    : \"+str(len(test_list)) )"
   ]
  },
  {
   "cell_type": "markdown",
   "metadata": {},
   "source": [
    "## Define CNN Model"
   ]
  },
  {
   "cell_type": "code",
   "execution_count": 7,
   "metadata": {},
   "outputs": [],
   "source": [
    "def model_generator_alenet_nov19_a():\n",
    "    from keras.layers import Input, Dense\n",
    "    from keras.layers import AveragePooling1D, Conv1D, MaxPool1D, Flatten\n",
    "    from keras.models import Model\n",
    "    from keras import initializers\n",
    "    from keras.callbacks import ModelCheckpoint\n",
    "    from keras.layers import LeakyReLU    \n",
    "    \n",
    "    from keras import optimizers\n",
    "    from keras.layers.normalization import BatchNormalization\n",
    "    from keras.layers.core import Dropout\n",
    "    \n",
    "    import keras.initializers as init\n",
    "    from keras.regularizers import l2\n",
    "    \n",
    "    inp =  Input( shape = (frame_size,1) )\n",
    "    #----------------------\n",
    "    conv1 = Conv1D(filters = 128, kernel_size = 3, strides = 3, activation ='relu', kernel_initializer = 'he_uniform', padding = 'valid', trainable = False)(inp)\n",
    "    #norm1 = BatchNormalization()(conv1)\n",
    "    #----------------------\n",
    "    conv2 = Conv1D(filters = 128, kernel_size = 3, strides = 1, activation = 'relu', kernel_initializer = 'he_uniform', padding = 'same' )(conv1)\n",
    "    #norm2 = BatchNormalization()(conv2)\n",
    "    pool2 = MaxPool1D(pool_size = 3, strides = 3)(conv2)\n",
    "    #----------------------\n",
    "    conv3 = Conv1D(filters = 128, kernel_size = 3, strides = 1, activation = 'relu', kernel_initializer = 'he_uniform', padding = 'same' )(pool2)\n",
    "    #norm3 = BatchNormalization()(conv3)\n",
    "    pool3 = MaxPool1D(pool_size = 3, strides = 3)(conv3)\n",
    "    #----------------------\n",
    "    conv4 = Conv1D(filters = 256, kernel_size = 3, strides = 1, activation = 'relu', kernel_initializer = 'he_uniform', padding = 'same' )(pool3)\n",
    "    #norm4 = BatchNormalization()(conv4)\n",
    "    pool4 = MaxPool1D(pool_size = 3, strides = 3)(conv4)\n",
    "    #----------------------\n",
    "    conv5 = Conv1D(filters = 256, kernel_size = 3, strides = 1, activation = 'relu', kernel_initializer = 'he_uniform', padding = 'same' )(pool4)\n",
    "    #norm5 = BatchNormalization()(conv5)\n",
    "    pool5 = MaxPool1D(pool_size = 3, strides = 3)(conv5)\n",
    "    #----------------------\n",
    "    conv6 = Conv1D(filters = 256, kernel_size = 3, strides = 1, activation = 'relu', kernel_initializer = 'he_uniform', padding = 'same' )(pool5)\n",
    "    #norm6 = BatchNormalization()(conv6)\n",
    "    pool6 = MaxPool1D(pool_size = 3, strides = 3)(conv6)\n",
    "    #----------------------\n",
    "    conv7 = Conv1D(filters = 256, kernel_size = 3, strides = 1, activation = 'relu', kernel_initializer = 'he_uniform', padding = 'same' )(pool6)\n",
    "    #norm7 = BatchNormalization()(conv7)\n",
    "    pool7 = MaxPool1D(pool_size = 3, strides = 3)(conv7)\n",
    "    #----------------------\n",
    "    conv8 = Conv1D(filters = 256, kernel_size = 3, strides = 1, activation = 'relu', kernel_initializer = 'he_uniform', padding = 'same' )(pool7)\n",
    "    #norm8 = BatchNormalization()(conv8)\n",
    "    pool8 = MaxPool1D(pool_size = 3, strides = 3)(conv8)\n",
    "    #----------------------\n",
    "    conv9 = Conv1D(filters = 256, kernel_size = 3, strides = 1, activation = 'relu', kernel_initializer = 'he_uniform', padding = 'same' )(pool8)\n",
    "    #norm9 = BatchNormalization()(conv9)\n",
    "    pool9 = MaxPool1D(pool_size = 3, strides = 3)(conv9)\n",
    "    #----------------------\n",
    "    conv10 = Conv1D(filters = 512, kernel_size = 3, strides = 1, activation = 'relu', kernel_initializer = 'he_uniform', padding = 'same' )(pool9)\n",
    "    #norm10 = BatchNormalization()(conv10)\n",
    "    pool10 = MaxPool1D(pool_size = 3, strides = 3)(conv10)\n",
    "    #----------------------\n",
    "    conv11 = Conv1D(filters = 512, kernel_size = 1, strides = 1, activation = 'relu', kernel_initializer = 'he_uniform', padding = 'same')(pool10)\n",
    "    #norm11 = BatchNormalization()(conv11)\n",
    "    drop1  = Dropout(0.5)(conv11)\n",
    "    \n",
    "    flat = Flatten()(drop1)\n",
    "    \n",
    "    dense1 = Dense(nb_classes, activation='sigmoid')(flat)\n",
    "    model  = Model(inp, dense1)\n",
    "\n",
    "    model.compile(loss='categorical_crossentropy',\n",
    "              optimizer=optimizers.Adadelta(lr=1.0, rho=0.95, epsilon=1e-08, decay=0.0)\n",
    "              ,metrics=['accuracy'])\n",
    "    \n",
    "    model.summary()\n",
    "    \n",
    "    return model"
   ]
  },
  {
   "cell_type": "markdown",
   "metadata": {},
   "source": [
    "## Load learned weights"
   ]
  },
  {
   "cell_type": "code",
   "execution_count": 8,
   "metadata": {},
   "outputs": [
    {
     "name": "stdout",
     "output_type": "stream",
     "text": [
      "Model: \"model\"\n",
      "_________________________________________________________________\n",
      "Layer (type)                 Output Shape              Param #   \n",
      "=================================================================\n",
      "input_1 (InputLayer)         [(None, 110250, 1)]       0         \n",
      "_________________________________________________________________\n",
      "conv1d (Conv1D)              (None, 36750, 128)        512       \n",
      "_________________________________________________________________\n",
      "conv1d_1 (Conv1D)            (None, 36750, 128)        49280     \n",
      "_________________________________________________________________\n",
      "max_pooling1d (MaxPooling1D) (None, 12250, 128)        0         \n",
      "_________________________________________________________________\n",
      "conv1d_2 (Conv1D)            (None, 12250, 128)        49280     \n",
      "_________________________________________________________________\n",
      "max_pooling1d_1 (MaxPooling1 (None, 4083, 128)         0         \n",
      "_________________________________________________________________\n",
      "conv1d_3 (Conv1D)            (None, 4083, 256)         98560     \n",
      "_________________________________________________________________\n",
      "max_pooling1d_2 (MaxPooling1 (None, 1361, 256)         0         \n",
      "_________________________________________________________________\n",
      "conv1d_4 (Conv1D)            (None, 1361, 256)         196864    \n",
      "_________________________________________________________________\n",
      "max_pooling1d_3 (MaxPooling1 (None, 453, 256)          0         \n",
      "_________________________________________________________________\n",
      "conv1d_5 (Conv1D)            (None, 453, 256)          196864    \n",
      "_________________________________________________________________\n",
      "max_pooling1d_4 (MaxPooling1 (None, 151, 256)          0         \n",
      "_________________________________________________________________\n",
      "conv1d_6 (Conv1D)            (None, 151, 256)          196864    \n",
      "_________________________________________________________________\n",
      "max_pooling1d_5 (MaxPooling1 (None, 50, 256)           0         \n",
      "_________________________________________________________________\n",
      "conv1d_7 (Conv1D)            (None, 50, 256)           196864    \n",
      "_________________________________________________________________\n",
      "max_pooling1d_6 (MaxPooling1 (None, 16, 256)           0         \n",
      "_________________________________________________________________\n",
      "conv1d_8 (Conv1D)            (None, 16, 256)           196864    \n",
      "_________________________________________________________________\n",
      "max_pooling1d_7 (MaxPooling1 (None, 5, 256)            0         \n",
      "_________________________________________________________________\n",
      "conv1d_9 (Conv1D)            (None, 5, 512)            393728    \n",
      "_________________________________________________________________\n",
      "max_pooling1d_8 (MaxPooling1 (None, 1, 512)            0         \n",
      "_________________________________________________________________\n",
      "conv1d_10 (Conv1D)           (None, 1, 512)            262656    \n",
      "_________________________________________________________________\n",
      "dropout (Dropout)            (None, 1, 512)            0         \n",
      "_________________________________________________________________\n",
      "flatten (Flatten)            (None, 512)               0         \n",
      "_________________________________________________________________\n",
      "dense (Dense)                (None, 10)                5130      \n",
      "=================================================================\n",
      "Total params: 1,843,466\n",
      "Trainable params: 1,842,954\n",
      "Non-trainable params: 512\n",
      "_________________________________________________________________\n"
     ]
    }
   ],
   "source": [
    "# Re-generating the model \n",
    "# model = model_generator_alenet4()\n",
    "model = model_generator_alenet_nov19_a()\n",
    "\n",
    "model.load_weights(\"XXXXYYYYXXXXX.best.hdf5\")"
   ]
  },
  {
   "cell_type": "markdown",
   "metadata": {},
   "source": [
    "## Evaluate the Model on Frames"
   ]
  },
  {
   "cell_type": "markdown",
   "metadata": {},
   "source": [
    "### Create Test Matrix"
   ]
  },
  {
   "cell_type": "code",
   "execution_count": 9,
   "metadata": {},
   "outputs": [
    {
     "name": "stdout",
     "output_type": "stream",
     "text": [
      "(7011, 110250)\n",
      "Data matrix filled: 7011 files\n"
     ]
    }
   ],
   "source": [
    "# Create a big matrix to accomodate train files\n",
    "spchnumber_test = len(test_list)\n",
    "X_test = np.ones( (spchnumber_test, frame_size), dtype = float )\n",
    "print( X_test.shape )\n",
    "\n",
    "# Fill the matrix with data \n",
    "i = 0\n",
    "for spch1 in test_path:\n",
    "    #print( len(spch1) )\n",
    "    X_test[i,:] = np.asarray( sf.read( spch1 )[0] )\n",
    "    # MF\n",
    "    #X_test[i,0:110080] = np.asarray( sf.read( spch1 )[0] )\n",
    "    # MF\n",
    "    #X_test[i,110081:frame_size] = 0    \n",
    "    i += 1\n",
    "    if (i%10000 == 0.000):\n",
    "        print(\"Files read: \"+str(i) )\n",
    "\n",
    "print( \"Data matrix filled: \"+str(i)+\" files\" )\n",
    "\n",
    "#expanding shapes for Conv1D\n",
    "X_test = np.expand_dims( X_test, axis = 2)"
   ]
  },
  {
   "cell_type": "code",
   "execution_count": 10,
   "metadata": {},
   "outputs": [
    {
     "data": {
      "text/plain": [
       "array([[[ 0.06903076],\n",
       "        [ 0.07232666],\n",
       "        [ 0.03991699],\n",
       "        ...,\n",
       "        [-0.00299072],\n",
       "        [ 0.10144043],\n",
       "        [ 0.06402588]],\n",
       "\n",
       "       [[-0.02331543],\n",
       "        [-0.02386475],\n",
       "        [ 0.01455688],\n",
       "        ...,\n",
       "        [-0.26556396],\n",
       "        [-0.40948486],\n",
       "        [-0.49389648]],\n",
       "\n",
       "       [[-0.06365967],\n",
       "        [-0.07427979],\n",
       "        [-0.08480835],\n",
       "        ...,\n",
       "        [-0.00506592],\n",
       "        [-0.05490112],\n",
       "        [-0.10498047]],\n",
       "\n",
       "       ...,\n",
       "\n",
       "       [[-0.46313477],\n",
       "        [-0.57794189],\n",
       "        [-0.41906738],\n",
       "        ...,\n",
       "        [-0.10498047],\n",
       "        [-0.12585449],\n",
       "        [-0.05508423]],\n",
       "\n",
       "       [[-0.14581299],\n",
       "        [-0.17462158],\n",
       "        [-0.19876099],\n",
       "        ...,\n",
       "        [ 0.11569214],\n",
       "        [ 0.10952759],\n",
       "        [ 0.10638428]],\n",
       "\n",
       "       [[-0.11608887],\n",
       "        [-0.17147827],\n",
       "        [-0.1842041 ],\n",
       "        ...,\n",
       "        [-0.46838379],\n",
       "        [-0.47943115],\n",
       "        [-0.4647522 ]]])"
      ]
     },
     "execution_count": 10,
     "metadata": {},
     "output_type": "execute_result"
    }
   ],
   "source": [
    "X_test"
   ]
  },
  {
   "cell_type": "code",
   "execution_count": 11,
   "metadata": {},
   "outputs": [],
   "source": [
    "# Create a vector for labels\n",
    "# Binary class metrics\n",
    "\n",
    "from keras.utils import np_utils, to_categorical\n",
    "Y_test = to_categorical( test_label_list, num_classes = nb_classes )"
   ]
  },
  {
   "cell_type": "code",
   "execution_count": 12,
   "metadata": {},
   "outputs": [
    {
     "data": {
      "text/plain": [
       "array([[0., 0., 0., ..., 0., 0., 0.],\n",
       "       [0., 0., 0., ..., 0., 0., 0.],\n",
       "       [0., 0., 0., ..., 0., 0., 0.],\n",
       "       ...,\n",
       "       [0., 0., 0., ..., 0., 0., 1.],\n",
       "       [0., 0., 0., ..., 0., 0., 1.],\n",
       "       [0., 0., 0., ..., 0., 0., 1.]], dtype=float32)"
      ]
     },
     "execution_count": 12,
     "metadata": {},
     "output_type": "execute_result"
    }
   ],
   "source": [
    "Y_test"
   ]
  },
  {
   "cell_type": "code",
   "execution_count": 13,
   "metadata": {},
   "outputs": [
    {
     "name": "stdout",
     "output_type": "stream",
     "text": [
      "Evaluating on: fold1\n",
      "220/220 [==============================] - 159s 724ms/step - loss: 0.0834 - accuracy: 0.9772\n",
      "[0.0861172005534172, 0.9743260741233826]\n",
      "['loss', 'accuracy']\n"
     ]
    }
   ],
   "source": [
    "# Evaluating the model on test set\n",
    "fold = Test\n",
    "print(\"Evaluating on: \"+str(fold) ) \n",
    "print( model.evaluate( X_test, Y_test, verbose = 1) )\n",
    "print( model.metrics_names )"
   ]
  },
  {
   "cell_type": "code",
   "execution_count": 14,
   "metadata": {},
   "outputs": [],
   "source": [
    "t_test = test_list\n",
    "s_test = test_seg_list"
   ]
  },
  {
   "cell_type": "code",
   "execution_count": 15,
   "metadata": {},
   "outputs": [
    {
     "name": "stdout",
     "output_type": "stream",
     "text": [
      "Testing on test set of fold number: fold1\n",
      "Done testing - Total samples: 334\n"
     ]
    }
   ],
   "source": [
    "#Combining similar segments\n",
    "\n",
    "big_matrix = []\n",
    "\n",
    "print(\"Testing on test set of fold number: \" + str(fold))\n",
    "\n",
    "tested = list()\n",
    "h = int(max(s_test)) # all frames available\n",
    "    \n",
    "for i in range(len(X_test)):\n",
    "    \n",
    "    # if t_valid[i] not in tested:\n",
    "    if t_test[i].split('_')[0] not in tested:    \n",
    "\n",
    "        #tested.append(t_valid[i])\n",
    "        tested.append( t_test[i].split('_')[0] )\n",
    "        #similar_items_res = list()\n",
    "        similar_items_res_sum = list()\n",
    "        #similar_items_conf = list()\n",
    "\n",
    "        #search for similar items\n",
    "        \n",
    "        count_frames = 1\n",
    "        j = 0\n",
    "            \n",
    "        while j < len(X_test):\n",
    "            #if ( t_valid[i] == t_valid[j] and s_valid[j] == count_frames):\n",
    "            if ( t_test[i].split('_')[0] == t_test[j].split('_')[0] and s_test[j] == count_frames):\n",
    "                if ( count_frames <= h ): \n",
    "                    #compute the results for similar items\n",
    "                    #y_proba   = model.predict(X_valid[j:j+1])\n",
    "                    #y_predict = y_proba.argmax()\n",
    "                    #y_target  = Y_valid[j:j+1].argmax(axis=-1) \n",
    "                    \n",
    "                    y_proba   = model.predict( X_test[j:j+1] )\n",
    "                    y_predict = y_proba.argmax()\n",
    "                    y_target  = Y_test[j:j+1].argmax( axis=-1 ) \n",
    "                    \n",
    "                    \n",
    "                    \n",
    "                    #similar_items_res.append(y_predict) # y_predict = y_proba.argmax()\n",
    "                    #similar_items_res_sum.append(y_proba)\n",
    "                    similar_items_res_sum.append( y_proba ) \n",
    "                    \n",
    "                    count_frames += 1\n",
    "                    j = 0\n",
    "            j += 1\n",
    "        \n",
    "        big_matrix.append([similar_items_res_sum, y_target])\n",
    "        \n",
    "print(\"Done testing - Total samples:\", len(big_matrix))"
   ]
  },
  {
   "cell_type": "code",
   "execution_count": 16,
   "metadata": {},
   "outputs": [
    {
     "data": {
      "text/plain": [
       "21"
      ]
     },
     "execution_count": 16,
     "metadata": {},
     "output_type": "execute_result"
    }
   ],
   "source": [
    "max(s_test)"
   ]
  },
  {
   "cell_type": "code",
   "execution_count": 17,
   "metadata": {},
   "outputs": [],
   "source": [
    "#Insert the number of splits (Example: 5 splits for 21 frames -> 1, 6, 12, 18, 21)\n",
    "\n",
    "splits = [1, 2, 5, 10, 15, 20, 21, 23, 25]\n",
    "        \n",
    "percentage_vot = []\n",
    "percentage_sum  = []\n",
    "\n",
    "for i in range (len(splits)):\n",
    "    percentage_vot.append(0)\n",
    "    percentage_sum.append(0)\n",
    "    \n",
    "for obj_similiar_items_res_sum in big_matrix:\n",
    "\n",
    "    similar_items_res_sum = obj_similiar_items_res_sum[0]\n",
    "    y_target = obj_similiar_items_res_sum[1]\n",
    "    \n",
    "    beg = 0\n",
    "    index = 0\n",
    "    lens = len(similar_items_res_sum) #To access the list of similar objects\n",
    "    candidates_vot = np.zeros(nb_classes)\n",
    "    candidates_sum = np.ones(nb_classes)\n",
    "    \n",
    "    for split in splits:\n",
    "        \n",
    "        current_split = split\n",
    "        end = min(lens, split)\n",
    "            \n",
    "        for n in range(beg, end):\n",
    "            candidates_vot[similar_items_res_sum[n].argmax()] += 1 #voting\n",
    "            candidates_sum = candidates_sum + similar_items_res_sum[n] #sum\n",
    "            \n",
    "        if (np.argmax(candidates_vot) == y_target):\n",
    "            percentage_vot[index] += 1\n",
    "        if (np.argmax(candidates_sum) == y_target):\n",
    "            percentage_sum[index] += 1\n",
    "            \n",
    "        candidates_sum = candidates_sum.copy()\n",
    "        candidates_vot = candidates_vot.copy()\n",
    "            \n",
    "        beg = current_split\n",
    "        index += 1"
   ]
  },
  {
   "cell_type": "code",
   "execution_count": 18,
   "metadata": {},
   "outputs": [
    {
     "name": "stdout",
     "output_type": "stream",
     "text": [
      "Acc: 97.0059880239521 Number of tracks tested: 334 Number of frames combined: 1\n",
      "Acc: 96.7065868263473 Number of tracks tested: 334 Number of frames combined: 2\n",
      "Acc: 98.80239520958084 Number of tracks tested: 334 Number of frames combined: 5\n",
      "Acc: 99.10179640718563 Number of tracks tested: 334 Number of frames combined: 10\n",
      "Acc: 99.10179640718563 Number of tracks tested: 334 Number of frames combined: 15\n",
      "Acc: 99.40119760479041 Number of tracks tested: 334 Number of frames combined: 20\n",
      "Acc: 99.40119760479041 Number of tracks tested: 334 Number of frames combined: 21\n",
      "Acc: 99.40119760479041 Number of tracks tested: 334 Number of frames combined: 23\n",
      "Acc: 99.40119760479041 Number of tracks tested: 334 Number of frames combined: 25\n"
     ]
    }
   ],
   "source": [
    "# VOTING RULE\n",
    "i = 0\n",
    "for split in percentage_vot:\n",
    "    samples = len(big_matrix)\n",
    "    print( 'Acc:', ((split/samples)*100), 'Number of tracks tested:', samples, 'Number of frames combined:', splits[i])\n",
    "    i += 1"
   ]
  },
  {
   "cell_type": "code",
   "execution_count": 19,
   "metadata": {},
   "outputs": [
    {
     "name": "stdout",
     "output_type": "stream",
     "text": [
      "Acc: 97.0059880239521 Number of tracks tested: 334 Number of frames combined: 1\n",
      "Acc: 97.60479041916167 Number of tracks tested: 334 Number of frames combined: 2\n",
      "Acc: 99.10179640718563 Number of tracks tested: 334 Number of frames combined: 5\n",
      "Acc: 99.10179640718563 Number of tracks tested: 334 Number of frames combined: 10\n",
      "Acc: 98.80239520958084 Number of tracks tested: 334 Number of frames combined: 15\n",
      "Acc: 99.10179640718563 Number of tracks tested: 334 Number of frames combined: 20\n",
      "Acc: 99.10179640718563 Number of tracks tested: 334 Number of frames combined: 21\n",
      "Acc: 99.10179640718563 Number of tracks tested: 334 Number of frames combined: 23\n",
      "Acc: 99.10179640718563 Number of tracks tested: 334 Number of frames combined: 25\n"
     ]
    }
   ],
   "source": [
    "# SUM RULE\n",
    "i = 0\n",
    "for split in percentage_sum:\n",
    "    samples = len(big_matrix)\n",
    "    print( 'Acc:', ((split/samples)*100), 'Number of tracks tested:', samples, 'Number of frames combined:', splits[i])\n",
    "    i += 1"
   ]
  },
  {
   "cell_type": "code",
   "execution_count": 23,
   "metadata": {},
   "outputs": [
    {
     "name": "stdout",
     "output_type": "stream",
     "text": [
      "Notebook Ended\n"
     ]
    }
   ],
   "source": [
    "print(\"Notebook Ended\")"
   ]
  },
  {
   "cell_type": "code",
   "execution_count": null,
   "metadata": {},
   "outputs": [],
   "source": []
  },
  {
   "cell_type": "code",
   "execution_count": null,
   "metadata": {},
   "outputs": [],
   "source": []
  },
  {
   "cell_type": "markdown",
   "metadata": {},
   "source": [
    "## TRAINED on STFT Original AUDIO???"
   ]
  },
  {
   "cell_type": "code",
   "execution_count": null,
   "metadata": {},
   "outputs": [],
   "source": [
    "MF\n",
    "Acc: 50.60606060606061 Number of tracks tested: 330 Number of frames combined: 1\n",
    "Acc: 52.72727272727272 Number of tracks tested: 330 Number of frames combined: 2\n",
    "Acc: 56.666666666666664 Number of tracks tested: 330 Number of frames combined: 5\n",
    "Acc: 60.0 Number of tracks tested: 330 Number of frames combined: 10\n",
    "Acc: 58.484848484848484 Number of tracks tested: 330 Number of frames combined: 15\n",
    "Acc: 58.78787878787879 Number of tracks tested: 330 Number of frames combined: 20\n",
    "Acc: 59.696969696969695 Number of tracks tested: 330 Number of frames combined: 21\n",
    "Acc: 59.696969696969695 Number of tracks tested: 330 Number of frames combined: 23\n",
    "Acc: 59.696969696969695 Number of tracks tested: 330 Number of frames combined: 25\n",
    "\n",
    "Acc: 50.60606060606061 Number of tracks tested: 330 Number of frames combined: 1\n",
    "Acc: 52.121212121212125 Number of tracks tested: 330 Number of frames combined: 2\n",
    "Acc: 55.45454545454545 Number of tracks tested: 330 Number of frames combined: 5\n",
    "Acc: 59.3939393939394 Number of tracks tested: 330 Number of frames combined: 10\n",
    "Acc: 60.0 Number of tracks tested: 330 Number of frames combined: 15\n",
    "Acc: 60.303030303030305 Number of tracks tested: 330 Number of frames combined: 20\n",
    "Acc: 61.212121212121204 Number of tracks tested: 330 Number of frames combined: 21\n",
    "Acc: 61.212121212121204 Number of tracks tested: 330 Number of frames combined: 23\n",
    "Acc: 61.212121212121204 Number of tracks tested: 330 Number of frames combined: 25"
   ]
  },
  {
   "cell_type": "code",
   "execution_count": null,
   "metadata": {},
   "outputs": [],
   "source": [
    "MF_FGSM\n",
    "\n",
    "Acc: 50.60606060606061 Number of tracks tested: 330 Number of frames combined: 1\n",
    "Acc: 52.72727272727272 Number of tracks tested: 330 Number of frames combined: 2\n",
    "Acc: 56.666666666666664 Number of tracks tested: 330 Number of frames combined: 5\n",
    "Acc: 60.0 Number of tracks tested: 330 Number of frames combined: 10\n",
    "Acc: 58.484848484848484 Number of tracks tested: 330 Number of frames combined: 15\n",
    "Acc: 58.78787878787879 Number of tracks tested: 330 Number of frames combined: 20\n",
    "Acc: 59.696969696969695 Number of tracks tested: 330 Number of frames combined: 21\n",
    "Acc: 59.696969696969695 Number of tracks tested: 330 Number of frames combined: 23\n",
    "Acc: 59.696969696969695 Number of tracks tested: 330 Number of frames combined: 25\n",
    "\n",
    "            \n",
    "Acc: 50.60606060606061 Number of tracks tested: 330 Number of frames combined: 1\n",
    "Acc: 52.121212121212125 Number of tracks tested: 330 Number of frames combined: 2\n",
    "Acc: 55.45454545454545 Number of tracks tested: 330 Number of frames combined: 5\n",
    "Acc: 59.3939393939394 Number of tracks tested: 330 Number of frames combined: 10\n",
    "Acc: 60.0 Number of tracks tested: 330 Number of frames combined: 15\n",
    "Acc: 60.303030303030305 Number of tracks tested: 330 Number of frames combined: 20\n",
    "Acc: 61.212121212121204 Number of tracks tested: 330 Number of frames combined: 21\n",
    "Acc: 61.212121212121204 Number of tracks tested: 330 Number of frames combined: 23\n",
    "Acc: 61.212121212121204 Number of tracks tested: 330 Number of frames combined: 25"
   ]
  },
  {
   "cell_type": "code",
   "execution_count": null,
   "metadata": {},
   "outputs": [],
   "source": [
    "MF_BIM\n",
    "Acc: 49.09090909090909 Number of tracks tested: 330 Number of frames combined: 1\n",
    "Acc: 51.81818181818182 Number of tracks tested: 330 Number of frames combined: 2\n",
    "Acc: 56.060606060606055 Number of tracks tested: 330 Number of frames combined: 5\n",
    "Acc: 57.878787878787875 Number of tracks tested: 330 Number of frames combined: 10\n",
    "Acc: 58.78787878787879 Number of tracks tested: 330 Number of frames combined: 15\n",
    "Acc: 60.0 Number of tracks tested: 330 Number of frames combined: 20\n",
    "Acc: 60.0 Number of tracks tested: 330 Number of frames combined: 21\n",
    "Acc: 60.0 Number of tracks tested: 330 Number of frames combined: 23\n",
    "Acc: 60.0 Number of tracks tested: 330 Number of frames combined: 25\n",
    "            \n",
    "Acc: 49.09090909090909 Number of tracks tested: 330 Number of frames combined: 1\n",
    "Acc: 51.21212121212121 Number of tracks tested: 330 Number of frames combined: 2\n",
    "Acc: 55.757575757575765 Number of tracks tested: 330 Number of frames combined: 5\n",
    "Acc: 59.696969696969695 Number of tracks tested: 330 Number of frames combined: 10\n",
    "Acc: 60.60606060606061 Number of tracks tested: 330 Number of frames combined: 15\n",
    "Acc: 60.60606060606061 Number of tracks tested: 330 Number of frames combined: 20\n",
    "Acc: 60.60606060606061 Number of tracks tested: 330 Number of frames combined: 21\n",
    "Acc: 60.60606060606061 Number of tracks tested: 330 Number of frames combined: 23\n",
    "Acc: 60.60606060606061 Number of tracks tested: 330 Number of frames combined: 25"
   ]
  },
  {
   "cell_type": "code",
   "execution_count": null,
   "metadata": {},
   "outputs": [],
   "source": [
    "STFT\n",
    "\n",
    "Acc: 62.727272727272734 Number of tracks tested: 330 Number of frames combined: 1\n",
    "Acc: 64.24242424242425 Number of tracks tested: 330 Number of frames combined: 2\n",
    "Acc: 66.66666666666666 Number of tracks tested: 330 Number of frames combined: 5\n",
    "Acc: 67.57575757575758 Number of tracks tested: 330 Number of frames combined: 10\n",
    "Acc: 71.21212121212122 Number of tracks tested: 330 Number of frames combined: 15\n",
    "Acc: 71.81818181818181 Number of tracks tested: 330 Number of frames combined: 20\n",
    "Acc: 71.81818181818181 Number of tracks tested: 330 Number of frames combined: 21\n",
    "Acc: 71.81818181818181 Number of tracks tested: 330 Number of frames combined: 23\n",
    "Acc: 71.81818181818181 Number of tracks tested: 330 Number of frames combined: 25\n",
    "            \n",
    "Acc: 62.727272727272734 Number of tracks tested: 330 Number of frames combined: 1\n",
    "Acc: 65.75757575757576 Number of tracks tested: 330 Number of frames combined: 2\n",
    "Acc: 67.27272727272727 Number of tracks tested: 330 Number of frames combined: 5\n",
    "Acc: 68.78787878787878 Number of tracks tested: 330 Number of frames combined: 10\n",
    "Acc: 71.81818181818181 Number of tracks tested: 330 Number of frames combined: 15\n",
    "Acc: 71.51515151515152 Number of tracks tested: 330 Number of frames combined: 20\n",
    "Acc: 71.51515151515152 Number of tracks tested: 330 Number of frames combined: 21\n",
    "Acc: 71.51515151515152 Number of tracks tested: 330 Number of frames combined: 23\n",
    "Acc: 71.51515151515152 Number of tracks tested: 330 Number of frames combined: 25"
   ]
  },
  {
   "cell_type": "code",
   "execution_count": null,
   "metadata": {},
   "outputs": [],
   "source": [
    "STFT_BIM\n",
    "\n",
    "Acc: 26.36363636363636 Number of tracks tested: 330 Number of frames combined: 1\n",
    "Acc: 27.27272727272727 Number of tracks tested: 330 Number of frames combined: 2\n",
    "Acc: 26.060606060606062 Number of tracks tested: 330 Number of frames combined: 5\n",
    "Acc: 26.666666666666668 Number of tracks tested: 330 Number of frames combined: 10\n",
    "Acc: 27.575757575757574 Number of tracks tested: 330 Number of frames combined: 15\n",
    "Acc: 26.969696969696972 Number of tracks tested: 330 Number of frames combined: 20\n",
    "Acc: 26.969696969696972 Number of tracks tested: 330 Number of frames combined: 21\n",
    "Acc: 26.969696969696972 Number of tracks tested: 330 Number of frames combined: 23\n",
    "Acc: 26.969696969696972 Number of tracks tested: 330 Number of frames combined: 25\n",
    "\n",
    "Acc: 26.36363636363636 Number of tracks tested: 330 Number of frames combined: 1\n",
    "Acc: 28.18181818181818 Number of tracks tested: 330 Number of frames combined: 2\n",
    "Acc: 26.36363636363636 Number of tracks tested: 330 Number of frames combined: 5\n",
    "Acc: 27.27272727272727 Number of tracks tested: 330 Number of frames combined: 10\n",
    "Acc: 28.78787878787879 Number of tracks tested: 330 Number of frames combined: 15\n",
    "Acc: 27.575757575757574 Number of tracks tested: 330 Number of frames combined: 20\n",
    "Acc: 27.575757575757574 Number of tracks tested: 330 Number of frames combined: 21\n",
    "Acc: 27.575757575757574 Number of tracks tested: 330 Number of frames combined: 23\n",
    "Acc: 27.575757575757574 Number of tracks tested: 330 Number of frames combined: 25"
   ]
  },
  {
   "cell_type": "code",
   "execution_count": null,
   "metadata": {},
   "outputs": [],
   "source": [
    "STFT_FGSM\n",
    "\n",
    "Acc: 21.818181818181817 Number of tracks tested: 330 Number of frames combined: 1\n",
    "Acc: 22.424242424242426 Number of tracks tested: 330 Number of frames combined: 2\n",
    "Acc: 23.939393939393938 Number of tracks tested: 330 Number of frames combined: 5\n",
    "Acc: 23.333333333333332 Number of tracks tested: 330 Number of frames combined: 10\n",
    "Acc: 25.151515151515152 Number of tracks tested: 330 Number of frames combined: 15\n",
    "Acc: 23.333333333333332 Number of tracks tested: 330 Number of frames combined: 20\n",
    "Acc: 23.03030303030303 Number of tracks tested: 330 Number of frames combined: 21\n",
    "Acc: 23.03030303030303 Number of tracks tested: 330 Number of frames combined: 23\n",
    "Acc: 23.03030303030303 Number of tracks tested: 330 Number of frames combined: 25\n",
    "            \n",
    "Acc: 21.818181818181817 Number of tracks tested: 330 Number of frames combined: 1\n",
    "Acc: 22.424242424242426 Number of tracks tested: 330 Number of frames combined: 2\n",
    "Acc: 24.242424242424242 Number of tracks tested: 330 Number of frames combined: 5\n",
    "Acc: 23.636363636363637 Number of tracks tested: 330 Number of frames combined: 10\n",
    "Acc: 23.939393939393938 Number of tracks tested: 330 Number of frames combined: 15\n",
    "Acc: 23.939393939393938 Number of tracks tested: 330 Number of frames combined: 20\n",
    "Acc: 23.333333333333332 Number of tracks tested: 330 Number of frames combined: 21\n",
    "Acc: 23.333333333333332 Number of tracks tested: 330 Number of frames combined: 23\n",
    "Acc: 23.333333333333332 Number of tracks tested: 330 Number of frames combined: 25"
   ]
  },
  {
   "cell_type": "code",
   "execution_count": null,
   "metadata": {},
   "outputs": [],
   "source": [
    "stft_griffin\n",
    "\n",
    "Acc: 5.151515151515151 Number of tracks tested: 330 Number of frames combined: 1\n",
    "Acc: 4.242424242424243 Number of tracks tested: 330 Number of frames combined: 2\n",
    "Acc: 4.545454545454546 Number of tracks tested: 330 Number of frames combined: 5\n",
    "Acc: 3.0303030303030303 Number of tracks tested: 330 Number of frames combined: 10\n",
    "Acc: 3.0303030303030303 Number of tracks tested: 330 Number of frames combined: 15\n",
    "Acc: 3.0303030303030303 Number of tracks tested: 330 Number of frames combined: 20\n",
    "Acc: 1.2121212121212122 Number of tracks tested: 330 Number of frames combined: 21\n",
    "Acc: 1.2121212121212122 Number of tracks tested: 330 Number of frames combined: 23\n",
    "Acc: 1.2121212121212122 Number of tracks tested: 330 Number of frames combined: 25\n",
    "    \n",
    "Acc: 5.151515151515151 Number of tracks tested: 330 Number of frames combined: 1\n",
    "Acc: 6.0606060606060606 Number of tracks tested: 330 Number of frames combined: 2\n",
    "Acc: 2.1212121212121215 Number of tracks tested: 330 Number of frames combined: 5\n",
    "Acc: 2.1212121212121215 Number of tracks tested: 330 Number of frames combined: 10\n",
    "Acc: 1.5151515151515151 Number of tracks tested: 330 Number of frames combined: 15\n",
    "Acc: 0.6060606060606061 Number of tracks tested: 330 Number of frames combined: 20\n",
    "Acc: 0.9090909090909091 Number of tracks tested: 330 Number of frames combined: 21\n",
    "Acc: 0.9090909090909091 Number of tracks tested: 330 Number of frames combined: 23\n",
    "Acc: 0.9090909090909091 Number of tracks tested: 330 Number of frames combined: 25"
   ]
  },
  {
   "cell_type": "code",
   "execution_count": null,
   "metadata": {},
   "outputs": [],
   "source": [
    "stft_griffin_bim\n",
    "\n",
    "Acc: 10.606060606060606 Number of tracks tested: 330 Number of frames combined: 1\n",
    "Acc: 8.181818181818182 Number of tracks tested: 330 Number of frames combined: 2\n",
    "Acc: 12.727272727272727 Number of tracks tested: 330 Number of frames combined: 5\n",
    "Acc: 14.84848484848485 Number of tracks tested: 330 Number of frames combined: 10\n",
    "Acc: 17.272727272727273 Number of tracks tested: 330 Number of frames combined: 15\n",
    "Acc: 17.87878787878788 Number of tracks tested: 330 Number of frames combined: 20\n",
    "Acc: 17.575757575757574 Number of tracks tested: 330 Number of frames combined: 21\n",
    "Acc: 17.575757575757574 Number of tracks tested: 330 Number of frames combined: 23\n",
    "Acc: 17.575757575757574 Number of tracks tested: 330 Number of frames combined: 25\n",
    "            \n",
    "Acc: 10.606060606060606 Number of tracks tested: 330 Number of frames combined: 1\n",
    "Acc: 10.606060606060606 Number of tracks tested: 330 Number of frames combined: 2\n",
    "Acc: 13.636363636363635 Number of tracks tested: 330 Number of frames combined: 5\n",
    "Acc: 16.969696969696972 Number of tracks tested: 330 Number of frames combined: 10\n",
    "Acc: 16.363636363636363 Number of tracks tested: 330 Number of frames combined: 15\n",
    "Acc: 17.575757575757574 Number of tracks tested: 330 Number of frames combined: 20\n",
    "Acc: 17.272727272727273 Number of tracks tested: 330 Number of frames combined: 21\n",
    "Acc: 17.272727272727273 Number of tracks tested: 330 Number of frames combined: 23\n",
    "Acc: 17.272727272727273 Number of tracks tested: 330 Number of frames combined: 25"
   ]
  },
  {
   "cell_type": "code",
   "execution_count": null,
   "metadata": {},
   "outputs": [],
   "source": [
    "stft_griffin_fgsm\n",
    "\n",
    "Acc: 13.636363636363635 Number of tracks tested: 330 Number of frames combined: 1\n",
    "Acc: 11.212121212121213 Number of tracks tested: 330 Number of frames combined: 2\n",
    "Acc: 14.545454545454545 Number of tracks tested: 330 Number of frames combined: 5\n",
    "Acc: 17.575757575757574 Number of tracks tested: 330 Number of frames combined: 10\n",
    "Acc: 17.87878787878788 Number of tracks tested: 330 Number of frames combined: 15\n",
    "Acc: 18.787878787878785 Number of tracks tested: 330 Number of frames combined: 20\n",
    "Acc: 18.484848484848484 Number of tracks tested: 330 Number of frames combined: 21\n",
    "Acc: 18.484848484848484 Number of tracks tested: 330 Number of frames combined: 23\n",
    "Acc: 18.484848484848484 Number of tracks tested: 330 Number of frames combined: 25\n",
    "        \n",
    "Acc: 13.636363636363635 Number of tracks tested: 330 Number of frames combined: 1\n",
    "Acc: 14.242424242424242 Number of tracks tested: 330 Number of frames combined: 2\n",
    "Acc: 16.363636363636363 Number of tracks tested: 330 Number of frames combined: 5\n",
    "Acc: 16.363636363636363 Number of tracks tested: 330 Number of frames combined: 10\n",
    "Acc: 17.575757575757574 Number of tracks tested: 330 Number of frames combined: 15\n",
    "Acc: 18.484848484848484 Number of tracks tested: 330 Number of frames combined: 20\n",
    "Acc: 18.181818181818183 Number of tracks tested: 330 Number of frames combined: 21\n",
    "Acc: 18.181818181818183 Number of tracks tested: 330 Number of frames combined: 23\n",
    "Acc: 18.181818181818183 Number of tracks tested: 330 Number of frames combined: 25"
   ]
  },
  {
   "cell_type": "markdown",
   "metadata": {},
   "source": [
    "## TRAINED on STFT Reconstructed Griffin-Lin"
   ]
  },
  {
   "cell_type": "code",
   "execution_count": null,
   "metadata": {},
   "outputs": [],
   "source": [
    "STFT_Griffin\n",
    "Acc: 35.15151515151515 Number of tracks tested: 330 Number of frames combined: 1\n",
    "Acc: 34.84848484848485 Number of tracks tested: 330 Number of frames combined: 2\n",
    "Acc: 48.484848484848484 Number of tracks tested: 330 Number of frames combined: 5\n",
    "Acc: 50.0 Number of tracks tested: 330 Number of frames combined: 10\n",
    "Acc: 53.63636363636364 Number of tracks tested: 330 Number of frames combined: 15\n",
    "Acc: 56.96969696969697 Number of tracks tested: 330 Number of frames combined: 20\n",
    "Acc: 56.96969696969697 Number of tracks tested: 330 Number of frames combined: 21\n",
    "Acc: 56.96969696969697 Number of tracks tested: 330 Number of frames combined: 23\n",
    "Acc: 56.96969696969697 Number of tracks tested: 330 Number of frames combined: 25\n",
    "            \n",
    "Acc: 35.15151515151515 Number of tracks tested: 330 Number of frames combined: 1\n",
    "Acc: 40.909090909090914 Number of tracks tested: 330 Number of frames combined: 2\n",
    "Acc: 51.21212121212121 Number of tracks tested: 330 Number of frames combined: 5\n",
    "Acc: 55.15151515151515 Number of tracks tested: 330 Number of frames combined: 10\n",
    "Acc: 55.757575757575765 Number of tracks tested: 330 Number of frames combined: 15\n",
    "Acc: 57.57575757575758 Number of tracks tested: 330 Number of frames combined: 20\n",
    "Acc: 59.3939393939394 Number of tracks tested: 330 Number of frames combined: 21\n",
    "Acc: 59.3939393939394 Number of tracks tested: 330 Number of frames combined: 23\n",
    "Acc: 59.3939393939394 Number of tracks tested: 330 Number of frames combined: 25\n",
    "            \n",
    "STFT_Griffin_FGSM\n",
    "Acc: 11.818181818181818 Number of tracks tested: 330 Number of frames combined: 1\n",
    "Acc: 13.030303030303031 Number of tracks tested: 330 Number of frames combined: 2\n",
    "Acc: 12.121212121212121 Number of tracks tested: 330 Number of frames combined: 5\n",
    "Acc: 10.303030303030303 Number of tracks tested: 330 Number of frames combined: 10\n",
    "Acc: 10.303030303030303 Number of tracks tested: 330 Number of frames combined: 15\n",
    "Acc: 10.303030303030303 Number of tracks tested: 330 Number of frames combined: 20\n",
    "Acc: 10.303030303030303 Number of tracks tested: 330 Number of frames combined: 21\n",
    "Acc: 10.303030303030303 Number of tracks tested: 330 Number of frames combined: 23\n",
    "Acc: 10.303030303030303 Number of tracks tested: 330 Number of frames combined: 25\n",
    "\n",
    "Acc: 11.818181818181818 Number of tracks tested: 330 Number of frames combined: 1\n",
    "Acc: 10.303030303030303 Number of tracks tested: 330 Number of frames combined: 2\n",
    "Acc: 11.515151515151516 Number of tracks tested: 330 Number of frames combined: 5\n",
    "Acc: 10.303030303030303 Number of tracks tested: 330 Number of frames combined: 10\n",
    "Acc: 10.303030303030303 Number of tracks tested: 330 Number of frames combined: 15\n",
    "Acc: 10.303030303030303 Number of tracks tested: 330 Number of frames combined: 20\n",
    "Acc: 10.0 Number of tracks tested: 330 Number of frames combined: 21\n",
    "Acc: 10.0 Number of tracks tested: 330 Number of frames combined: 23\n",
    "Acc: 10.0 Number of tracks tested: 330 Number of frames combined: 25\n",
    "            \n",
    "STFT_Griffin_Bim\n",
    "Acc: 12.121212121212121 Number of tracks tested: 330 Number of frames combined: 1\n",
    "Acc: 12.727272727272727 Number of tracks tested: 330 Number of frames combined: 2\n",
    "Acc: 13.030303030303031 Number of tracks tested: 330 Number of frames combined: 5\n",
    "Acc: 12.424242424242424 Number of tracks tested: 330 Number of frames combined: 10\n",
    "Acc: 11.212121212121213 Number of tracks tested: 330 Number of frames combined: 15\n",
    "Acc: 10.909090909090908 Number of tracks tested: 330 Number of frames combined: 20\n",
    "Acc: 11.515151515151516 Number of tracks tested: 330 Number of frames combined: 21\n",
    "Acc: 11.515151515151516 Number of tracks tested: 330 Number of frames combined: 23\n",
    "Acc: 11.515151515151516 Number of tracks tested: 330 Number of frames combined: 25\n",
    "\n",
    "Acc: 12.121212121212121 Number of tracks tested: 330 Number of frames combined: 1\n",
    "Acc: 12.727272727272727 Number of tracks tested: 330 Number of frames combined: 2\n",
    "Acc: 13.030303030303031 Number of tracks tested: 330 Number of frames combined: 5\n",
    "Acc: 11.515151515151516 Number of tracks tested: 330 Number of frames combined: 10\n",
    "Acc: 10.303030303030303 Number of tracks tested: 330 Number of frames combined: 15\n",
    "Acc: 10.606060606060606 Number of tracks tested: 330 Number of frames combined: 20\n",
    "Acc: 10.606060606060606 Number of tracks tested: 330 Number of frames combined: 21\n",
    "Acc: 10.606060606060606 Number of tracks tested: 330 Number of frames combined: 23\n",
    "Acc: 10.606060606060606 Number of tracks tested: 330 Number of frames combined: 25\n",
    "            \n",
    "STFT\n",
    "Acc: 15.454545454545453 Number of tracks tested: 330 Number of frames combined: 1\n",
    "Acc: 17.87878787878788 Number of tracks tested: 330 Number of frames combined: 2\n",
    "Acc: 14.84848484848485 Number of tracks tested: 330 Number of frames combined: 5\n",
    "Acc: 17.87878787878788 Number of tracks tested: 330 Number of frames combined: 10\n",
    "Acc: 18.787878787878785 Number of tracks tested: 330 Number of frames combined: 15\n",
    "Acc: 16.969696969696972 Number of tracks tested: 330 Number of frames combined: 20\n",
    "Acc: 17.272727272727273 Number of tracks tested: 330 Number of frames combined: 21\n",
    "Acc: 17.272727272727273 Number of tracks tested: 330 Number of frames combined: 23\n",
    "Acc: 17.272727272727273 Number of tracks tested: 330 Number of frames combined: 25\n",
    "\n",
    "Acc: 15.454545454545453 Number of tracks tested: 330 Number of frames combined: 1\n",
    "Acc: 17.272727272727273 Number of tracks tested: 330 Number of frames combined: 2\n",
    "Acc: 15.151515151515152 Number of tracks tested: 330 Number of frames combined: 5\n",
    "Acc: 17.87878787878788 Number of tracks tested: 330 Number of frames combined: 10\n",
    "Acc: 18.181818181818183 Number of tracks tested: 330 Number of frames combined: 15\n",
    "Acc: 16.363636363636363 Number of tracks tested: 330 Number of frames combined: 20\n",
    "Acc: 16.969696969696972 Number of tracks tested: 330 Number of frames combined: 21\n",
    "Acc: 16.969696969696972 Number of tracks tested: 330 Number of frames combined: 23\n",
    "Acc: 16.969696969696972 Number of tracks tested: 330 Number of frames combined: 25\n",
    "            \n",
    "STFT_FGSM\n",
    "Acc: 5.454545454545454 Number of tracks tested: 330 Number of frames combined: 1\n",
    "Acc: 5.151515151515151 Number of tracks tested: 330 Number of frames combined: 2\n",
    "Acc: 6.363636363636363 Number of tracks tested: 330 Number of frames combined: 5\n",
    "Acc: 6.666666666666667 Number of tracks tested: 330 Number of frames combined: 10\n",
    "Acc: 6.0606060606060606 Number of tracks tested: 330 Number of frames combined: 15\n",
    "Acc: 6.0606060606060606 Number of tracks tested: 330 Number of frames combined: 20\n",
    "Acc: 6.666666666666667 Number of tracks tested: 330 Number of frames combined: 21\n",
    "Acc: 6.666666666666667 Number of tracks tested: 330 Number of frames combined: 23\n",
    "Acc: 6.666666666666667 Number of tracks tested: 330 Number of frames combined: 25\n",
    "            \n",
    "Acc: 5.454545454545454 Number of tracks tested: 330 Number of frames combined: 1\n",
    "Acc: 6.0606060606060606 Number of tracks tested: 330 Number of frames combined: 2\n",
    "Acc: 6.0606060606060606 Number of tracks tested: 330 Number of frames combined: 5\n",
    "Acc: 6.666666666666667 Number of tracks tested: 330 Number of frames combined: 10\n",
    "Acc: 6.0606060606060606 Number of tracks tested: 330 Number of frames combined: 15\n",
    "Acc: 6.363636363636363 Number of tracks tested: 330 Number of frames combined: 20\n",
    "Acc: 6.363636363636363 Number of tracks tested: 330 Number of frames combined: 21\n",
    "Acc: 6.363636363636363 Number of tracks tested: 330 Number of frames combined: 23\n",
    "Acc: 6.363636363636363 Number of tracks tested: 330 Number of frames combined: 25\n",
    "            \n",
    "STFT_BIM\n",
    "Acc: 7.878787878787878 Number of tracks tested: 330 Number of frames combined: 1\n",
    "Acc: 6.969696969696971 Number of tracks tested: 330 Number of frames combined: 2\n",
    "Acc: 6.363636363636363 Number of tracks tested: 330 Number of frames combined: 5\n",
    "Acc: 8.181818181818182 Number of tracks tested: 330 Number of frames combined: 10\n",
    "Acc: 7.575757575757576 Number of tracks tested: 330 Number of frames combined: 15\n",
    "Acc: 7.575757575757576 Number of tracks tested: 330 Number of frames combined: 20\n",
    "Acc: 7.2727272727272725 Number of tracks tested: 330 Number of frames combined: 21\n",
    "Acc: 7.2727272727272725 Number of tracks tested: 330 Number of frames combined: 23\n",
    "Acc: 7.2727272727272725 Number of tracks tested: 330 Number of frames combined: 25\n",
    "            \n",
    "Acc: 7.878787878787878 Number of tracks tested: 330 Number of frames combined: 1\n",
    "Acc: 7.878787878787878 Number of tracks tested: 330 Number of frames combined: 2\n",
    "Acc: 6.666666666666667 Number of tracks tested: 330 Number of frames combined: 5\n",
    "Acc: 8.181818181818182 Number of tracks tested: 330 Number of frames combined: 10\n",
    "Acc: 8.181818181818182 Number of tracks tested: 330 Number of frames combined: 15\n",
    "Acc: 7.575757575757576 Number of tracks tested: 330 Number of frames combined: 20\n",
    "Acc: 7.2727272727272725 Number of tracks tested: 330 Number of frames combined: 21\n",
    "Acc: 7.2727272727272725 Number of tracks tested: 330 Number of frames combined: 23\n",
    "Acc: 7.2727272727272725 Number of tracks tested: 330 Number of frames combined: 25\n",
    "            \n",
    "MF\n",
    "Acc: 12.121212121212121 Number of tracks tested: 330 Number of frames combined: 1\n",
    "Acc: 13.030303030303031 Number of tracks tested: 330 Number of frames combined: 2\n",
    "Acc: 12.424242424242424 Number of tracks tested: 330 Number of frames combined: 5\n",
    "Acc: 12.424242424242424 Number of tracks tested: 330 Number of frames combined: 10\n",
    "Acc: 12.121212121212121 Number of tracks tested: 330 Number of frames combined: 15\n",
    "Acc: 11.212121212121213 Number of tracks tested: 330 Number of frames combined: 20\n",
    "Acc: 11.212121212121213 Number of tracks tested: 330 Number of frames combined: 21\n",
    "Acc: 11.212121212121213 Number of tracks tested: 330 Number of frames combined: 23\n",
    "Acc: 11.212121212121213 Number of tracks tested: 330 Number of frames combined: 25\n",
    "            \n",
    "Acc: 12.121212121212121 Number of tracks tested: 330 Number of frames combined: 1\n",
    "Acc: 12.424242424242424 Number of tracks tested: 330 Number of frames combined: 2\n",
    "Acc: 12.727272727272727 Number of tracks tested: 330 Number of frames combined: 5\n",
    "Acc: 13.939393939393941 Number of tracks tested: 330 Number of frames combined: 10\n",
    "Acc: 13.030303030303031 Number of tracks tested: 330 Number of frames combined: 15\n",
    "Acc: 12.424242424242424 Number of tracks tested: 330 Number of frames combined: 20\n",
    "Acc: 12.424242424242424 Number of tracks tested: 330 Number of frames combined: 21\n",
    "Acc: 12.424242424242424 Number of tracks tested: 330 Number of frames combined: 23\n",
    "Acc: 12.424242424242424 Number of tracks tested: 330 Number of frames combined: 25\n",
    "            \n",
    "MF_BIM\n",
    "Acc: 12.424242424242424 Number of tracks tested: 330 Number of frames combined: 1\n",
    "Acc: 12.727272727272727 Number of tracks tested: 330 Number of frames combined: 2\n",
    "Acc: 13.030303030303031 Number of tracks tested: 330 Number of frames combined: 5\n",
    "Acc: 12.424242424242424 Number of tracks tested: 330 Number of frames combined: 10\n",
    "Acc: 11.818181818181818 Number of tracks tested: 330 Number of frames combined: 15\n",
    "Acc: 11.515151515151516 Number of tracks tested: 330 Number of frames combined: 20\n",
    "Acc: 11.212121212121213 Number of tracks tested: 330 Number of frames combined: 21\n",
    "Acc: 11.212121212121213 Number of tracks tested: 330 Number of frames combined: 23\n",
    "Acc: 11.212121212121213 Number of tracks tested: 330 Number of frames combined: 25\n",
    "\n",
    "Acc: 12.424242424242424 Number of tracks tested: 330 Number of frames combined: 1\n",
    "Acc: 13.333333333333334 Number of tracks tested: 330 Number of frames combined: 2\n",
    "Acc: 13.333333333333334 Number of tracks tested: 330 Number of frames combined: 5\n",
    "Acc: 13.333333333333334 Number of tracks tested: 330 Number of frames combined: 10\n",
    "Acc: 12.727272727272727 Number of tracks tested: 330 Number of frames combined: 15\n",
    "Acc: 12.121212121212121 Number of tracks tested: 330 Number of frames combined: 20\n",
    "Acc: 11.818181818181818 Number of tracks tested: 330 Number of frames combined: 21\n",
    "Acc: 11.818181818181818 Number of tracks tested: 330 Number of frames combined: 23\n",
    "Acc: 11.818181818181818 Number of tracks tested: 330 Number of frames combined: 25\n",
    "\n",
    "MF_FGSM\n",
    "Acc: 13.333333333333334 Number of tracks tested: 330 Number of frames combined: 1\n",
    "Acc: 13.636363636363635 Number of tracks tested: 330 Number of frames combined: 2\n",
    "Acc: 13.636363636363635 Number of tracks tested: 330 Number of frames combined: 5\n",
    "Acc: 12.727272727272727 Number of tracks tested: 330 Number of frames combined: 10\n",
    "Acc: 11.818181818181818 Number of tracks tested: 330 Number of frames combined: 15\n",
    "Acc: 11.212121212121213 Number of tracks tested: 330 Number of frames combined: 20\n",
    "Acc: 11.515151515151516 Number of tracks tested: 330 Number of frames combined: 21\n",
    "Acc: 11.515151515151516 Number of tracks tested: 330 Number of frames combined: 23\n",
    "Acc: 11.515151515151516 Number of tracks tested: 330 Number of frames combined: 25\n",
    "\n",
    "Acc: 13.333333333333334 Number of tracks tested: 330 Number of frames combined: 1\n",
    "Acc: 13.636363636363635 Number of tracks tested: 330 Number of frames combined: 2\n",
    "Acc: 13.636363636363635 Number of tracks tested: 330 Number of frames combined: 5\n",
    "Acc: 13.333333333333334 Number of tracks tested: 330 Number of frames combined: 10\n",
    "Acc: 13.030303030303031 Number of tracks tested: 330 Number of frames combined: 15\n",
    "Acc: 12.121212121212121 Number of tracks tested: 330 Number of frames combined: 20\n",
    "Acc: 11.818181818181818 Number of tracks tested: 330 Number of frames combined: 21\n",
    "Acc: 11.818181818181818 Number of tracks tested: 330 Number of frames combined: 23\n",
    "Acc: 11.818181818181818 Number of tracks tested: 330 Number of frames combined: 25"
   ]
  },
  {
   "cell_type": "code",
   "execution_count": null,
   "metadata": {},
   "outputs": [],
   "source": []
  },
  {
   "cell_type": "code",
   "execution_count": null,
   "metadata": {},
   "outputs": [],
   "source": []
  },
  {
   "cell_type": "code",
   "execution_count": null,
   "metadata": {},
   "outputs": [],
   "source": []
  },
  {
   "cell_type": "code",
   "execution_count": null,
   "metadata": {},
   "outputs": [],
   "source": []
  }
 ],
 "metadata": {
  "kernelspec": {
   "display_name": "Python 3",
   "language": "python",
   "name": "python3"
  },
  "language_info": {
   "codemirror_mode": {
    "name": "ipython",
    "version": 3
   },
   "file_extension": ".py",
   "mimetype": "text/x-python",
   "name": "python",
   "nbconvert_exporter": "python",
   "pygments_lexer": "ipython3",
   "version": "3.6.9"
  }
 },
 "nbformat": 4,
 "nbformat_minor": 2
}
