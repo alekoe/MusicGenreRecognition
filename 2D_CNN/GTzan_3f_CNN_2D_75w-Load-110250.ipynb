{
 "cells": [
  {
   "cell_type": "markdown",
   "metadata": {
    "collapsed": true,
    "scrolled": true
   },
   "source": [
    "# End to end 2D CNN for GTzan music classification EnvCNN\n",
    "\n",
    "\n",
    "WINDOWED Version\n",
    "\n",
    "Adapted by AL Koerich\n",
    "\n",
    "To GTzan 3-fold\n",
    "\n",
    "11 December 2018"
   ]
  },
  {
   "cell_type": "code",
   "execution_count": 23,
   "metadata": {
    "scrolled": true
   },
   "outputs": [],
   "source": [
    "import numpy as np\n",
    "import matplotlib.pyplot as plt\n",
    "import matplotlib\n",
    "import os, sys\n",
    "import soundfile as sf\n",
    "\n",
    "from sklearn.utils import shuffle\n",
    "from sklearn.model_selection import train_test_split\n",
    "from sklearn.preprocessing import normalize\n",
    "from sklearn.preprocessing import scale\n",
    "from keras import regularizers\n",
    "\n",
    "import os, sys\n",
    "from keras.utils import np_utils\n",
    "from keras.models import Model\n",
    "from keras.layers import Conv1D, Dense, MaxPool1D, Flatten\n",
    "from keras.callbacks import TensorBoard\n",
    "from keras.utils import np_utils, to_categorical\n",
    "from keras import optimizers\n",
    "from keras.layers.normalization import BatchNormalization\n",
    "from keras.layers.core import Dropout\n",
    "import keras.initializers as init\n",
    "\n",
    "os.environ[\"CUDA_VISIBLE_DEVICES\"]=\"0\"\n",
    "import tensorflow as tf\n",
    "config = tf.ConfigProto( )\n",
    "config.gpu_options.allow_growth = True\n",
    "sess   = tf.Session(config=config)\n",
    "import keras.backend.tensorflow_backend as tf_bkend\n",
    "tf_bkend.set_session(sess)"
   ]
  },
  {
   "cell_type": "code",
   "execution_count": 24,
   "metadata": {
    "scrolled": true
   },
   "outputs": [],
   "source": [
    "#controling_Hyper parameters\n",
    "batch_size = 100\n",
    "nb_classes = 10\n",
    "nb_epoch   = 300\n",
    "frame_size = 110250"
   ]
  },
  {
   "cell_type": "code",
   "execution_count": 25,
   "metadata": {
    "scrolled": true
   },
   "outputs": [],
   "source": [
    "X_train = np.load( \"/home-2/akoerich/GTzan_Xs_fold1-2_110250_75.npy\" )\n",
    "Y_train = np.load( \"/home-2/akoerich/GTzan_Ys_fold1-2_110250_75.npy\" )\n",
    "# t_train = np.load( \"t_train_13_220500_50_256_box_id.npy\" )\n",
    "# s_train = np.load( \"s_train_13_220500_50_256_box_id.npy\" )\n",
    "\n",
    "\n",
    "X_valid = np.load( \"/home-2/akoerich/GTzan_Xs_fold3_110250_75.npy\" )\n",
    "Y_valid = np.load( \"/home-2/akoerich/GTzan_Ys_fold3_110250_75.npy\" )\n",
    "# t_valid = np.load( \"t_valid_2_220500_50_256_box_id.npy\" )\n",
    "# s_valid = np.load( \"s_valid_2_220500_50_256_box_id.npy\" )"
   ]
  },
  {
   "cell_type": "code",
   "execution_count": 26,
   "metadata": {},
   "outputs": [
    {
     "data": {
      "text/plain": [
       "(-1.0, 1.0000000000000004)"
      ]
     },
     "execution_count": 26,
     "metadata": {},
     "output_type": "execute_result"
    }
   ],
   "source": [
    "X_train.min(), X_train.max()"
   ]
  },
  {
   "cell_type": "code",
   "execution_count": 27,
   "metadata": {},
   "outputs": [
    {
     "data": {
      "text/plain": [
       "(-1.0, 1.0000000000000004)"
      ]
     },
     "execution_count": 27,
     "metadata": {},
     "output_type": "execute_result"
    }
   ],
   "source": [
    "X_valid.min(), X_valid.max()"
   ]
  },
  {
   "cell_type": "code",
   "execution_count": 28,
   "metadata": {},
   "outputs": [
    {
     "data": {
      "text/plain": [
       "((16741, 1, 110250), (16741, 10), (8249, 1, 110250), (8249, 10))"
      ]
     },
     "execution_count": 28,
     "metadata": {},
     "output_type": "execute_result"
    }
   ],
   "source": [
    "# Adapt 1D data to 2D CNN\n",
    "X_train = np.squeeze( X_train)\n",
    "X_train = np.expand_dims( X_train, axis = 1 )\n",
    "\n",
    "X_valid = np.squeeze( X_valid )\n",
    "X_valid = np.expand_dims( X_valid, axis = 1 )\n",
    "\n",
    "X_train.shape, Y_train.shape, X_valid.shape, Y_valid.shape"
   ]
  },
  {
   "cell_type": "code",
   "execution_count": 29,
   "metadata": {},
   "outputs": [
    {
     "data": {
      "text/plain": [
       "105189"
      ]
     },
     "execution_count": 29,
     "metadata": {},
     "output_type": "execute_result"
    }
   ],
   "source": [
    "import gc\n",
    "gc.collect()"
   ]
  },
  {
   "cell_type": "code",
   "execution_count": 30,
   "metadata": {
    "scrolled": true
   },
   "outputs": [
    {
     "data": {
      "text/plain": [
       "((16741, 1, 110250), (16741, 10), (8249, 1, 110250), (8249, 10))"
      ]
     },
     "execution_count": 30,
     "metadata": {},
     "output_type": "execute_result"
    }
   ],
   "source": [
    "X_train.shape, Y_train.shape, X_valid.shape, Y_valid.shape"
   ]
  },
  {
   "cell_type": "code",
   "execution_count": 31,
   "metadata": {
    "scrolled": true
   },
   "outputs": [],
   "source": [
    "def model_generator_GTzannet2D_1a():\n",
    "    \n",
    "    from keras.layers      import Input, Dense, Conv2D, AveragePooling1D, LeakyReLU, MaxPool2D, Flatten\n",
    "    from keras.layers.core import Dropout\n",
    "    from keras.models      import Model\n",
    "    from keras             import initializers, optimizers, regularizers\n",
    "    from keras.callbacks   import ModelCheckpoint\n",
    "    from keras.utils       import multi_gpu_model\n",
    "    \n",
    "    from keras.layers.normalization import BatchNormalization\n",
    "        \n",
    "    import keras.initializers as init\n",
    "    \n",
    "    from kapre.time_frequency import Melspectrogram\n",
    "    from kapre.utils          import Normalization2D\n",
    "    from kapre.augmentation   import AdditiveNoise    \n",
    "    \n",
    "    sr = 22050\n",
    "    \n",
    "    inp   = Input(shape = (1, frame_size) )\n",
    "    #----------------------\n",
    "    spec  = Melspectrogram(n_dft = 512, n_hop = 256, padding = 'same', sr = sr, n_mels = 64,\n",
    "                           fmin = 0.0, fmax = sr/2, power_melgram = 1.0,\n",
    "                           return_decibel_melgram = False, trainable_fb = False,\n",
    "                           trainable_kernel = False,\n",
    "                           name = 'static_stft')(inp)    \n",
    "    #----------------------\n",
    "    conv1  = Conv2D(filters = 32, kernel_size = (3, 3), activation = 'relu')(spec)\n",
    "    norm1  = BatchNormalization()(conv1)\n",
    "    #----------------------\n",
    "    conv2  = Conv2D(filters = 32, kernel_size = (3, 3) )(norm1)\n",
    "    act2   = LeakyReLU(alpha = 0.2)(conv2)\n",
    "    pool2  = MaxPool2D(pool_size = 2, strides = 2)(act2)\n",
    "    drop2  = Dropout(0.05)(pool2)\n",
    "    #----------------------\n",
    "    conv3  = Conv2D(filters = 64, kernel_size = (3, 3) )(drop2)\n",
    "    act3   = LeakyReLU(alpha = 0.2)(conv3)\n",
    "    #----------------------\n",
    "    conv4  = Conv2D(filters = 64, kernel_size = (3, 3) )(act3)\n",
    "    act4   = LeakyReLU(alpha = 0.2)(conv4)\n",
    "    pool4  = MaxPool2D(pool_size = 4, strides = 2)(act4)\n",
    "    #----------------------\n",
    "    flat   = Flatten()(pool4)\n",
    "    #----------------------    \n",
    "    #dense1 = Dense(1024, activation='relu', kernel_initializer = initializers.glorot_uniform( seed = 0) )(flat)\n",
    "    #drop1  = Dropout(0.80)(dense1)    \n",
    "    #----------------------    \n",
    "    #dense2 = Dense(128, activation='relu', kernel_initializer = initializers.glorot_uniform( seed = 0) )(flat)\n",
    "    #drop2  = Dropout(0.80)(dense2)    \n",
    "     #----------------------    \n",
    "    dense3 = Dense(1024, activation='relu', kernel_initializer = initializers.glorot_uniform( seed = 0) )(flat)\n",
    "    drop3  = Dropout(0.80)(dense3)    \n",
    "    #----------------------\n",
    "    dense4 = Dense(nb_classes, activation='softmax')(drop3)\n",
    "    #----------------------\n",
    "\n",
    "    model  = Model(inp, dense4)\n",
    "\n",
    "    model.compile(loss = 'categorical_crossentropy',\n",
    "                  optimizer = optimizers.Adadelta( lr = 1.0, rho = 0.95, epsilon = 1e-08, decay = 0.0),\n",
    "                  metrics = ['accuracy'] )\n",
    "    \n",
    "    model.summary()\n",
    "    \n",
    "    return model"
   ]
  },
  {
   "cell_type": "code",
   "execution_count": 32,
   "metadata": {
    "scrolled": true
   },
   "outputs": [
    {
     "name": "stdout",
     "output_type": "stream",
     "text": [
      "_________________________________________________________________\n",
      "Layer (type)                 Output Shape              Param #   \n",
      "=================================================================\n",
      "input_5 (InputLayer)         (None, 1, 110250)         0         \n",
      "_________________________________________________________________\n",
      "static_stft (Melspectrogram) (None, 64, 431, 1)        279616    \n",
      "_________________________________________________________________\n",
      "conv2d_17 (Conv2D)           (None, 62, 429, 32)       320       \n",
      "_________________________________________________________________\n",
      "batch_normalization_5 (Batch (None, 62, 429, 32)       128       \n",
      "_________________________________________________________________\n",
      "conv2d_18 (Conv2D)           (None, 60, 427, 32)       9248      \n",
      "_________________________________________________________________\n",
      "leaky_re_lu_13 (LeakyReLU)   (None, 60, 427, 32)       0         \n",
      "_________________________________________________________________\n",
      "max_pooling2d_9 (MaxPooling2 (None, 30, 213, 32)       0         \n",
      "_________________________________________________________________\n",
      "dropout_9 (Dropout)          (None, 30, 213, 32)       0         \n",
      "_________________________________________________________________\n",
      "conv2d_19 (Conv2D)           (None, 28, 211, 64)       18496     \n",
      "_________________________________________________________________\n",
      "leaky_re_lu_14 (LeakyReLU)   (None, 28, 211, 64)       0         \n",
      "_________________________________________________________________\n",
      "conv2d_20 (Conv2D)           (None, 26, 209, 64)       36928     \n",
      "_________________________________________________________________\n",
      "leaky_re_lu_15 (LeakyReLU)   (None, 26, 209, 64)       0         \n",
      "_________________________________________________________________\n",
      "max_pooling2d_10 (MaxPooling (None, 12, 103, 64)       0         \n",
      "_________________________________________________________________\n",
      "flatten_5 (Flatten)          (None, 79104)             0         \n",
      "_________________________________________________________________\n",
      "dense_9 (Dense)              (None, 1024)              81003520  \n",
      "_________________________________________________________________\n",
      "dropout_10 (Dropout)         (None, 1024)              0         \n",
      "_________________________________________________________________\n",
      "dense_10 (Dense)             (None, 10)                10250     \n",
      "=================================================================\n",
      "Total params: 81,358,506\n",
      "Trainable params: 81,078,826\n",
      "Non-trainable params: 279,680\n",
      "_________________________________________________________________\n",
      "weights/weights_GTzan_3f_Train1-2_110250_75_2D_dense1024.best.hdf5\n"
     ]
    }
   ],
   "source": [
    "fold = '3'\n",
    "import time\n",
    "from keras.callbacks import ModelCheckpoint\n",
    "from livelossplot    import PlotLossesKeras\n",
    "from keras           import optimizers\n",
    "hist = []\n",
    "\n",
    "model = model_generator_GTzannet2D_1a()\n",
    "\n",
    "#checkpoints\n",
    "str0 = \"weights/\"\n",
    "str1 = \"weights_GTzan_3f_Train1-2_110250_75_2D_dense1024\" \n",
    "str2 = \".best.hdf5\" \n",
    "filepath = str0+str1+str2 \n",
    "print(filepath)\n",
    "\n",
    "checkpoint = ModelCheckpoint( filepath, monitor = 'val_acc', verbose = 1, save_best_only = True, mode = 'max' ) \n",
    "\n",
    "callbacks_list = [ checkpoint, PlotLossesKeras() ]"
   ]
  },
  {
   "cell_type": "code",
   "execution_count": null,
   "metadata": {
    "scrolled": false
   },
   "outputs": [
    {
     "data": {
      "image/png": "[encoded data removed]",
      "text/plain": [
       "<Figure size 864x576 with 2 Axes>"
      ]
     },
     "metadata": {},
     "output_type": "display_data"
    },
    {
     "name": "stdout",
     "output_type": "stream",
     "text": [
      "Log-loss (cost function):\n",
      "training   (min:    0.063, max:    1.775, cur:    0.069)\n",
      "validation (min:    1.166, max:    3.810, cur:    2.400)\n",
      "\n",
      "Accuracy:\n",
      "training   (min:    0.437, max:    0.977, cur:    0.976)\n",
      "validation (min:    0.518, max:    0.702, cur:    0.666)\n",
      "Epoch 286/300\n",
      " 4480/16741 [=======>......................] - ETA: 47s - loss: 0.0788 - acc: 0.9732"
     ]
    }
   ],
   "source": [
    "#fitting the model \n",
    "batch_size = 80\n",
    "hist.append(model.fit(X_train, Y_train,\n",
    "                      batch_size = batch_size, \n",
    "                      epochs     = nb_epoch,\n",
    "                      verbose    = 1,\n",
    "                      shuffle    = True,\n",
    "                      callbacks  = callbacks_list,\n",
    "                      validation_data = (X_valid, Y_valid)\n",
    "                     ))"
   ]
  },
  {
   "cell_type": "code",
   "execution_count": null,
   "metadata": {},
   "outputs": [],
   "source": [
    "filepath"
   ]
  },
  {
   "cell_type": "markdown",
   "metadata": {},
   "source": [
    "https://www.music-ir.org/nema_out/mirex2017/results/act/latin_report/accperfold.html\n",
    "\n",
    "MIREX 2017:\n",
    "\n",
    "\n",
    "\n",
    "Summary Results    [top]\n",
    "Algorithm\n",
    "Classification Accuracy\n",
    "Normalised Classification Accuracy\n",
    "LPNKK1\n",
    "0.7586\n",
    "0.7571\n",
    "PLNPH1\n",
    "0.6619\n",
    "0.6573\n",
    "XLJ1\n",
    "0.6148\n",
    "0.6079\n",
    "LPNKK3\n",
    "0.7347\n",
    "0.7324\n",
    "LPNKK2\n",
    "0.6511\n",
    "0.6458\n",
    "\n",
    "\n",
    "\n",
    "\n",
    "\n",
    "Fold\n",
    "LPNKK1\n",
    "LPNKK2\n",
    "LPNKK3\n",
    "PLNPH1\n",
    "XLJ1\n",
    "1\n",
    "0.7186\n",
    "0.6041\n",
    "0.6860\n",
    "0.5795\n",
    "0.5453\n",
    "0\n",
    "0.7627\n",
    "0.6426\n",
    "0.7444\n",
    "0.6772\n",
    "0.5998\n",
    "2\n",
    "0.8055\n",
    "0.7194\n",
    "0.7872\n",
    "0.7518\n",
    "0.7183\n",
    "\n",
    "\n",
    "/Users/akoerich/Dropbox/Mendeley/pdf/Aytar, Vondrick, Torralba - 2016.pdf\n",
    "\n",
    "/Users/akoerich/HOME/ETS/Etudiants/Sajjad Abdoli/DGA1032/DGA1032-Dissertation_abdoli.pdf"
   ]
  },
  {
   "cell_type": "code",
   "execution_count": null,
   "metadata": {},
   "outputs": [],
   "source": []
  }
 ],
 "metadata": {
  "kernelspec": {
   "display_name": "Python 3",
   "language": "python",
   "name": "python3"
  },
  "language_info": {
   "codemirror_mode": {
    "name": "ipython",
    "version": 3
   },
   "file_extension": ".py",
   "mimetype": "text/x-python",
   "name": "python",
   "nbconvert_exporter": "python",
   "pygments_lexer": "ipython3",
   "version": "3.7.5"
  }
 },
 "nbformat": 4,
 "nbformat_minor": 2
}
